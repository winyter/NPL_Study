{
 "cells": [
  {
   "cell_type": "markdown",
   "metadata": {},
   "source": [
    "# About the course\n",
    "- Course topics\n",
    "    - Vocabulary for design and analysis of algorithms\n",
    "        (用于设计和分析算法的词汇表)\n",
    "        - E.g., \"Big-Oh\" notation\n",
    "        - \"sweet spot\" for high-level reasoning about algorithms\n",
    "    - divide and conquer algorithm design paradigm\n",
    "        (分而治之算法设计范例)\n",
    "        - Will apply to: integer multiplication, sorting, matrix multiplication(矩阵乘法), closest pair(最近点对)\n",
    "        - General analysis methods(\"Master Method(主定理？套用公式法？)/Theorem\")\n",
    "    - Randomization in algorithm design\n",
    "        (算法设计中的随机化)\n",
    "        - Will apply in : QuickSort, Primality Testing(素性测试——用来检测一个给定的整数是否为素数的测试),graph partitioning,hashing\n",
    "    - Primitives for reasoning about graphs\n",
    "        (图推理原语)\n",
    "        - Connectivity information(连通性信息),shortest paths, structure of infomation and social networks\n",
    "    - Use and implementation of data structures\n",
    "        (使用和实现数据结构)\n",
    "        - Heaps(堆),balanced binary search trees，hashing and some variants(变体)(e.g., bloom filters(布隆过滤器))\n",
    "- Supporting Materials\n",
    "    - All(annotated) slides available from course site.\n",
    "    - No required textbook. A few of the many good ones:\n",
    "        - Kleinberg/Tardos,Algorithm Design, 2005.\n",
    "        - Dasgupta/Papadimitriou/Vazirani, Algorithms, 2006.\n",
    "        - Cormen/Leiserson/Rivest/Stein,Introduction to Algorithms, 2009(3rd edition)\n",
    "        - Mehlhorn/Sanders, Data Structures and Algorithms: The Basic Toolbox, 2008\n",
    "    - No specific development environment required.\n",
    "        - But you should be able to write and execute programs."
   ]
  },
  {
   "cell_type": "markdown",
   "metadata": {},
   "source": [
    "# Merge Sort：Motivation and Example\n",
    "## why study Merge Sort?\n",
    "- good introduction to divide & conquer\n",
    "    - Improves over Selection,Insertion,Bubble sorts\n",
    "- Calibrate your preparation\n",
    "- Motivates guiding principles for algorithm\n",
    "    - analysis(worst-case and asymptotic analysis)\n",
    "- Analysis generalizes to \"Master Method\"\n",
    "## The Sorting Problem"
   ]
  },
  {
   "cell_type": "code",
   "execution_count": null,
   "metadata": {},
   "outputs": [],
   "source": []
  }
 ],
 "metadata": {
  "kernelspec": {
   "display_name": "Python 3",
   "language": "python",
   "name": "python3"
  },
  "language_info": {
   "codemirror_mode": {
    "name": "ipython",
    "version": 3
   },
   "file_extension": ".py",
   "mimetype": "text/x-python",
   "name": "python",
   "nbconvert_exporter": "python",
   "pygments_lexer": "ipython3",
   "version": "3.7.3"
  }
 },
 "nbformat": 4,
 "nbformat_minor": 2
}
