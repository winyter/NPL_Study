{
 "cells": [
  {
   "cell_type": "markdown",
   "metadata": {},
   "source": [
    "我们使用`Cython`实现一个实际例子看看实际中如何操作的, 例子取自[The Computer Language\n",
    "Benchmarks Game](https://benchmarksgame-team.pages.debian.net/benchmarksgame/)中的[N-body problem](https://benchmarksgame-team.pages.debian.net/benchmarksgame/performance/nbody.html)\n",
    "\n",
    "\n",
    "1. 首先`profile`查看哪部分比较贵\n",
    "\n",
    "```\n",
    "%run -p nbody.py 1000\n",
    "```\n",
    "\n",
    "2. 改写成`cython`\n",
    "3. `cython`中`profile`\n",
    "在`pyx`文件开头加上下面的代码, 其余跟`python`一样.\n",
    "\n",
    "```\n",
    "# cython: profile=True\n",
    "```"
   ]
  },
  {
   "cell_type": "code",
   "execution_count": null,
   "metadata": {},
   "outputs": [],
   "source": []
  }
 ],
 "metadata": {
  "kernelspec": {
   "display_name": "Python 3",
   "language": "python",
   "name": "python3"
  },
  "language_info": {
   "codemirror_mode": {
    "name": "ipython",
    "version": 3
   },
   "file_extension": ".py",
   "mimetype": "text/x-python",
   "name": "python",
   "nbconvert_exporter": "python",
   "pygments_lexer": "ipython3",
   "version": "3.7.3"
  }
 },
 "nbformat": 4,
 "nbformat_minor": 2
}
