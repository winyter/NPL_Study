{
 "cells": [
  {
   "cell_type": "code",
   "execution_count": 2,
   "metadata": {},
   "outputs": [],
   "source": [
    "import sys\n",
    "import cython\n",
    "\n",
    "import numba\n",
    "from numba import jit\n",
    "\n",
    "import numpy as np"
   ]
  },
  {
   "cell_type": "code",
   "execution_count": 3,
   "metadata": {},
   "outputs": [
    {
     "data": {
      "text/plain": [
       "('0.43.1',\n",
       " '1.16.3',\n",
       " '0.29.6',\n",
       " '3.7.3 (default, Mar 27 2019, 16:54:48) \\n[Clang 4.0.1 (tags/RELEASE_401/final)]')"
      ]
     },
     "execution_count": 3,
     "metadata": {},
     "output_type": "execute_result"
    }
   ],
   "source": [
    "numba.__version__, np.__version__, cython.__version__, sys.version"
   ]
  },
  {
   "cell_type": "code",
   "execution_count": 5,
   "metadata": {},
   "outputs": [],
   "source": [
    "%load_ext Cython"
   ]
  },
  {
   "attachments": {},
   "cell_type": "markdown",
   "metadata": {},
   "source": [
    "`Cython`加速`Python`的核心在于静态类型标注, 通过类型标注以后`Cython`编译器可以将`Python`代码转换成高度优化的`C`代码.\n",
    "\n",
    "# 类型\n",
    "\n",
    "## 基本类型\n",
    "\n",
    "`Python`类型与`C/C++`类型对应:\n",
    "\n",
    "\n",
    "| Python类型  | C语言类型|\n",
    "|:-:|:-:|\n",
    "|  bool | bint  |\n",
    "|int| [unsigned] char/short/int/long/long long|\n",
    "|float| float/double/long double|\n",
    "|complex | float/double complex |\n",
    "|str | std::string(C++)/ char * |\n",
    "|dict | struct|\n",
    "\n",
    "> 在`python 3`中所有的`int`都是无穷精度, 而在`python 2`中`int`对应`C`的`long`, `long`对应无穷精度. 将`int`从`python`转换到`C`时, 会检查是否溢出, 若溢出, 则触发`OverflowError`.\n",
    "\n",
    "## 类型标注方法\n",
    "\n",
    "### 用`cdef`标注类型\n",
    "\n",
    "```cython\n",
    "cdef int i = 0\n",
    "cdef long int j=0, k=0\n",
    "cdef float price = 0.0\n",
    "```\n",
    "\n",
    "多个`cdef`定义可以写到一个`block`中:\n",
    "\n",
    "```cython\n",
    "cdef:\n",
    "    int i = 0\n",
    "    long int j=0, k=0\n",
    "    float price = 0.0\n",
    "```\n",
    "\n",
    "`Cython`支持所有的`C`语言类型声明:\n",
    "\n",
    "![image.png](attachment:image.png)\n",
    "\n",
    "\n",
    "\n",
    "> `cython`的指针声明跟`C语言`相同, 但是访问指针内容(dereferencing)不能使用`*a`, 因为`*args`与`**kwargs`在`python`中用来处理函数参数. 在`cython`中使用zero处的索引来访问指针的内容(`C语言`中也可以这样).\n",
    "\n",
    "\n",
    "```cython\n",
    "cdef double golden_ratio\n",
    "cdef double *p_double\n",
    "\n",
    "p_double = &golden_ratio\n",
    "\n",
    "p_double[0] = 1.618\n",
    "print(golden_ratio) # => 1.618\n",
    "print(p_double[0]) # => 1.618\n",
    "```\n",
    "\n",
    "### 使用Python3的类型标注\n",
    "\n",
    "```cython\n",
    "from cython import int, long, float, double\n",
    "\n",
    "i: int = 0\n",
    "j: long=0\n",
    "k: long=0\n",
    "price: float = 0.0\n",
    "```\n",
    "\n",
    "实际应用中, [长这样](http://blog.behnel.de/posts/whats-new-in-cython-029.html):\n",
    "\n",
    "```cython\n",
    "import cython\n",
    "from cython.parallel import prange\n",
    "\n",
    "@cython.cfunc\n",
    "@cython.nogil\n",
    "def compute_one_row(row: cython.double[:]) -> cython.int:\n",
    "    ...\n",
    "\n",
    "def process_2d_array(data: cython.double[:,:]):\n",
    "    i: cython.Py_ssize_t\n",
    "\n",
    "    for i in prange(data.shape[0], num_threads=16, nogil=True):\n",
    "        compute_one_row(data[i])\n",
    "```"
   ]
  },
  {
   "cell_type": "code",
   "execution_count": 42,
   "metadata": {},
   "outputs": [],
   "source": [
    "%%cython \n",
    "# cython: embedsignature=True\n",
    "# cython: boundscheck=False\n",
    "# cython: wraparound=False\n",
    "# cython: language_level=3\n",
    "\n",
    "import cython\n",
    "\n",
    "@cython.cfunc\n",
    "@cython.nogil\n",
    "def f_cy4(x: cython.double) -> cython.double:\n",
    "    return x ** 2 - x\n",
    "\n",
    "\n",
    "def integrate_f_cy4(a:cython.double, b:cython.double, N:cython.int):\n",
    "    s:cython.double = 0\n",
    "    dx:cython.double = (b - a) / N\n",
    "    i:cython.int = 0\n",
    "    for i in range(N):\n",
    "        s += f_cy4(a + i * dx)\n",
    "    return s * dx"
   ]
  },
  {
   "cell_type": "code",
   "execution_count": 46,
   "metadata": {},
   "outputs": [
    {
     "name": "stdout",
     "output_type": "stream",
     "text": [
      "14.5 µs ± 154 ns per loop (mean ± std. dev. of 7 runs, 5 loops each)\n"
     ]
    }
   ],
   "source": [
    "t6 = %timeit -n5 -o integrate_f_cy4(1, 100, 10000)"
   ]
  },
  {
   "cell_type": "code",
   "execution_count": 50,
   "metadata": {},
   "outputs": [],
   "source": [
    "# integrate_f_cy4?"
   ]
  },
  {
   "cell_type": "code",
   "execution_count": 51,
   "metadata": {},
   "outputs": [],
   "source": [
    "%%cython \n",
    "# cython: embedsignature=True\n",
    "# cython: boundscheck=False\n",
    "# cython: wraparound=False\n",
    "# cython: language_level=3\n",
    "\n",
    "cdef double f_cy3(double x) nogil:\n",
    "    return x ** 2 - x\n",
    "\n",
    "def integrate_f_cy3(double a, double b, int N):\n",
    "    cdef double s, dx\n",
    "    cdef int i\n",
    "    s = 0\n",
    "    dx = (b - a) / N\n",
    "    for i in range(N):\n",
    "        s += f_cy3(a + i * dx)\n",
    "    return s * dx"
   ]
  },
  {
   "cell_type": "code",
   "execution_count": 100,
   "metadata": {},
   "outputs": [
    {
     "name": "stdout",
     "output_type": "stream",
     "text": [
      "14.6 µs ± 81.9 ns per loop (mean ± std. dev. of 7 runs, 5 loops each)\n"
     ]
    }
   ],
   "source": [
    "t4 = %timeit -n5 -o integrate_f_cy3(1, 100, 10000)"
   ]
  },
  {
   "attachments": {},
   "cell_type": "markdown",
   "metadata": {},
   "source": [
    "## 静态`Python`类型\n",
    "\n",
    "在`C`中没有对应类型, 但是在`C`中有对应实现的也可以声明为静态类型, 如所有`built-in`类型(`list, tuple, dict`), 扩展类型如`Numpy arrays`.\n",
    "\n",
    "```cython\n",
    "cdef list particles, modified_particles\n",
    "cdef dict names_from_particles\n",
    "cdef str pname\n",
    "cdef set unique_particles\n",
    "```\n",
    "\n",
    "`Cython`目前支持的`Python`类型有:\n",
    "\n",
    "![image.png](attachment:image.png)"
   ]
  },
  {
   "cell_type": "markdown",
   "metadata": {},
   "source": [
    "`cython`也支持`struct, union, enum`,\n",
    "\n",
    "```c\n",
    "sturct point{\n",
    "    double x;\n",
    "    double y;\n",
    "};\n",
    "```\n",
    "\n",
    "对应`cython`声明为:\n",
    "\n",
    "```\n",
    "cdef struct point:\n",
    "    double x\n",
    "    double y\n",
    "```\n"
   ]
  },
  {
   "cell_type": "markdown",
   "metadata": {},
   "source": [
    "## `Typedef` 类型别名"
   ]
  },
  {
   "cell_type": "code",
   "execution_count": 61,
   "metadata": {},
   "outputs": [],
   "source": [
    "%%cython \n",
    "ctypedef double real\n",
    "ctypedef long integral\n",
    "\n",
    "def displacement(real d0, real v0, real a, real t):\n",
    "    \"\"\"Calculates displacement under constant acceleration.\"\"\"\n",
    "    cdef real d = d0 + (v0 * t) + (0.5 * a * t**2)\n",
    "    return d"
   ]
  },
  {
   "cell_type": "markdown",
   "metadata": {},
   "source": [
    "`Cython`还提供了[fused types](https://cython.readthedocs.io/en/latest/src/userguide/fusedtypes.html)."
   ]
  },
  {
   "cell_type": "code",
   "execution_count": 57,
   "metadata": {},
   "outputs": [],
   "source": [
    "%%cython\n",
    "\n",
    "cimport cython\n",
    "\n",
    "ctypedef fused numeric:\n",
    "    cython.short\n",
    "    cython.long\n",
    "    cython.int\n",
    "#     cython.float\n",
    "#     cython.double\n",
    "\n",
    "cpdef numeric my_max(numeric a, numeric b):\n",
    "    return a if a>=b else b"
   ]
  },
  {
   "cell_type": "code",
   "execution_count": 58,
   "metadata": {},
   "outputs": [
    {
     "ename": "TypeError",
     "evalue": "No matching signature found",
     "output_type": "error",
     "traceback": [
      "\u001b[0;31m---------------------------------------------------------------------------\u001b[0m",
      "\u001b[0;31mTypeError\u001b[0m                                 Traceback (most recent call last)",
      "\u001b[0;32m<ipython-input-58-f3f258ff0b1a>\u001b[0m in \u001b[0;36m<module>\u001b[0;34m\u001b[0m\n\u001b[0;32m----> 1\u001b[0;31m \u001b[0mmy_max\u001b[0m\u001b[0;34m(\u001b[0m\u001b[0;36m1.0\u001b[0m\u001b[0;34m,\u001b[0m \u001b[0;36m3.0\u001b[0m\u001b[0;34m)\u001b[0m\u001b[0;34m\u001b[0m\u001b[0;34m\u001b[0m\u001b[0m\n\u001b[0m",
      "\u001b[0;32m_cython_magic_3345c75e3657154c7e1143c33aece03f.pyx\u001b[0m in \u001b[0;36m_cython_magic_3345c75e3657154c7e1143c33aece03f.__pyx_fused_cpdef\u001b[0;34m()\u001b[0m\n",
      "\u001b[0;31mTypeError\u001b[0m: No matching signature found"
     ]
    }
   ],
   "source": [
    "my_max(1.0, 3.0)"
   ]
  },
  {
   "cell_type": "code",
   "execution_count": 59,
   "metadata": {},
   "outputs": [
    {
     "data": {
      "text/plain": [
       "2"
      ]
     },
     "execution_count": 59,
     "metadata": {},
     "output_type": "execute_result"
    }
   ],
   "source": [
    "my_max(1, 2)"
   ]
  },
  {
   "attachments": {
    "image.png": {
     "image/png": "[encoded data removed]"
    }
   },
   "cell_type": "markdown",
   "metadata": {},
   "source": [
    "## 宏定义(preprocessor)\n",
    "\n",
    "可以在宏中使用的函数有,\n",
    "\n",
    "![image.png](attachment:image.png)\n"
   ]
  },
  {
   "cell_type": "code",
   "execution_count": 62,
   "metadata": {},
   "outputs": [],
   "source": [
    "%%cython\n",
    "DEF E = 2.718281828459045\n",
    "DEF PI = 3.141592653589793\n",
    "def feynmans_jewel():\n",
    "    \"\"\"Returns e**(i*pi) + 1. Should be ~0.0\"\"\"\n",
    "    return E ** (1j * PI) + 1.0"
   ]
  },
  {
   "cell_type": "code",
   "execution_count": 65,
   "metadata": {},
   "outputs": [
    {
     "data": {
      "text/plain": [
       "1.2246467991473532e-16j"
      ]
     },
     "execution_count": 65,
     "metadata": {},
     "output_type": "execute_result"
    }
   ],
   "source": [
    "feynmans_jewel()"
   ]
  },
  {
   "cell_type": "markdown",
   "metadata": {},
   "source": [
    "# 4. 函数\n",
    "\n",
    "## 4.1. 三种定义方式\n",
    "\n",
    "### 4.1.1. def\n",
    "\n",
    "`python`代码都是合法的`cython`代码, 因此`cython`函数定义可以使用`def`, 再加上类型声明, 如:\n",
    "\n",
    "```python\n",
    "def typed_fact(long n):\n",
    "    \"\"\"compute n!\"\"\"\n",
    "    if n<=1:\n",
    "        return 1\n",
    "    return n * typed_fact(n-1)\n",
    "```\n",
    "这种情况`typed_fact`实际是`python`函数, 返回的是`python`的`int`而不是`C`的`long`, 性能并不会有多大提升. 实际上我们需要使用`cdef`来定义`C function`.\n",
    "\n",
    "### 4.1.2. cdef\n",
    "\n",
    "```python\n",
    "cdef int c_fact(long n):\n",
    "    \"\"\"compute n!\"\"\"\n",
    "    if n <= 1:\n",
    "        return 1\n",
    "    return n * c_fact(n - 1)\n",
    "```\n",
    "我们仍然可以在`cdef`定义的函数中使用`python objects and dynamical variables`,  `cdef`的好处是定义尽可能接近`C`的函数而不用直接写`C`. \n",
    "`cdef`不能被外部的`python`调用, 需要`def` 封装:\n",
    "\n",
    "```python\n",
    "def fact(long n):\n",
    "    return c_fact(n)\n",
    "```\n",
    "\n",
    "### 4.1.3. cpdef\n",
    "还可以使用`cpdef` 定义函数, 不需要`wrap`, 不过速度稍微不如`cdef`.\n",
    "\n",
    "```python\n",
    "cpdef int cp_fact(long n):\n",
    "    \"\"\"Computes n!\"\"\"\n",
    "    if n <= 1:\n",
    "        return 1\n",
    "    return n * cp_fact(n - 1)\n",
    "```"
   ]
  },
  {
   "cell_type": "code",
   "execution_count": 68,
   "metadata": {},
   "outputs": [],
   "source": [
    "%%cython\n",
    "\n",
    "def typed_fact(long n):\n",
    "    \"\"\"compute n!\"\"\"\n",
    "    if n<=1:\n",
    "        return 1\n",
    "    return n * typed_fact(n-1)\n",
    "\n",
    "cdef int c_fact(long n):\n",
    "    \"\"\"compute n!\"\"\"\n",
    "    if n <= 1:\n",
    "        return 1\n",
    "    return n * c_fact(n - 1)\n",
    "\n",
    "def fact(long n):\n",
    "    return c_fact(n)\n",
    "\n",
    "cpdef int cp_fact(long n):\n",
    "    \"\"\"Computes n!\"\"\"\n",
    "    if n <= 1:\n",
    "        return 1\n",
    "    return n * cp_fact(n - 1)"
   ]
  },
  {
   "cell_type": "code",
   "execution_count": 69,
   "metadata": {},
   "outputs": [
    {
     "name": "stdout",
     "output_type": "stream",
     "text": [
      "1.93 µs ± 231 ns per loop (mean ± std. dev. of 7 runs, 5 loops each)\n"
     ]
    }
   ],
   "source": [
    "t1 = %timeit -n5 -o typed_fact(30)"
   ]
  },
  {
   "cell_type": "code",
   "execution_count": 74,
   "metadata": {},
   "outputs": [
    {
     "name": "stdout",
     "output_type": "stream",
     "text": [
      "165 ns ± 84.4 ns per loop (mean ± std. dev. of 7 runs, 5 loops each)\n"
     ]
    }
   ],
   "source": [
    "t2 = %timeit -n5 -o fact(30)"
   ]
  },
  {
   "cell_type": "code",
   "execution_count": 75,
   "metadata": {},
   "outputs": [
    {
     "name": "stdout",
     "output_type": "stream",
     "text": [
      "160 ns ± 88.1 ns per loop (mean ± std. dev. of 7 runs, 5 loops each)\n"
     ]
    }
   ],
   "source": [
    "t3 = %timeit -n5 -o cp_fact(30)"
   ]
  },
  {
   "cell_type": "code",
   "execution_count": 76,
   "metadata": {},
   "outputs": [
    {
     "data": {
      "text/plain": [
       "12.049256683437314"
      ]
     },
     "execution_count": 76,
     "metadata": {},
     "output_type": "execute_result"
    }
   ],
   "source": [
    "t1.average/t3.average"
   ]
  },
  {
   "cell_type": "markdown",
   "metadata": {},
   "source": [
    "##  异常处理\n",
    "\n",
    "使用`def`定义的函数异常可以被捕获, 而`cdef`与`cpdef`定义的函数异常必须加`except clause`才能被捕获.\n",
    "\n",
    "```python\n",
    "cpdef int divide_ints(int i, int j) except? -1:\n",
    "    return i / j\n",
    "```\n",
    "不一定要`-1`, 只要在返回类型范围内都行."
   ]
  },
  {
   "cell_type": "code",
   "execution_count": 87,
   "metadata": {},
   "outputs": [],
   "source": [
    "%%cython\n",
    "\n",
    "cpdef int divide_ints_1(int i, int j) except? -1:\n",
    "    return i // j\n",
    "\n",
    "cpdef int divide_ints_2(int i, int j):\n",
    "    return i // j"
   ]
  },
  {
   "cell_type": "code",
   "execution_count": 90,
   "metadata": {},
   "outputs": [
    {
     "name": "stdout",
     "output_type": "stream",
     "text": [
      "Yes, I captured the ZeroDivisionError\n"
     ]
    }
   ],
   "source": [
    "try:\n",
    "    divide_ints_1(4, 0)\n",
    "except ZeroDivisionError:\n",
    "    print(\"Yes, I captured the ZeroDivisionError\")"
   ]
  },
  {
   "cell_type": "code",
   "execution_count": 91,
   "metadata": {},
   "outputs": [
    {
     "ename": "ZeroDivisionError",
     "evalue": "integer division or modulo by zero",
     "output_type": "error",
     "traceback": [
      "\u001b[0;31m---------------------------------------------------------------------------\u001b[0m",
      "\u001b[0;31mZeroDivisionError\u001b[0m                         Traceback (most recent call last)",
      "\u001b[0;31mZeroDivisionError\u001b[0m: integer division or modulo by zero"
     ]
    },
    {
     "name": "stderr",
     "output_type": "stream",
     "text": [
      "Exception ignored in: '_cython_magic_635d57449036a3edc08414c0376123fb.divide_ints_2'\n",
      "ZeroDivisionError: integer division or modulo by zero\n"
     ]
    }
   ],
   "source": [
    "try:\n",
    "    divide_ints_2(4, 0)\n",
    "except ZeroDivisionError:\n",
    "    print(\"Yes, I captured the ZeroDivisionError\")"
   ]
  },
  {
   "cell_type": "code",
   "execution_count": null,
   "metadata": {},
   "outputs": [],
   "source": []
  },
  {
   "cell_type": "code",
   "execution_count": null,
   "metadata": {},
   "outputs": [],
   "source": []
  },
  {
   "cell_type": "code",
   "execution_count": null,
   "metadata": {},
   "outputs": [],
   "source": []
  },
  {
   "cell_type": "code",
   "execution_count": null,
   "metadata": {},
   "outputs": [],
   "source": []
  },
  {
   "cell_type": "code",
   "execution_count": null,
   "metadata": {},
   "outputs": [],
   "source": []
  },
  {
   "cell_type": "code",
   "execution_count": null,
   "metadata": {},
   "outputs": [],
   "source": []
  },
  {
   "cell_type": "code",
   "execution_count": null,
   "metadata": {},
   "outputs": [],
   "source": []
  },
  {
   "cell_type": "code",
   "execution_count": null,
   "metadata": {},
   "outputs": [],
   "source": []
  }
 ],
 "metadata": {
  "kernelspec": {
   "display_name": "Python 3",
   "language": "python",
   "name": "python3"
  },
  "language_info": {
   "codemirror_mode": {
    "name": "ipython",
    "version": 3
   },
   "file_extension": ".py",
   "mimetype": "text/x-python",
   "name": "python",
   "nbconvert_exporter": "python",
   "pygments_lexer": "ipython3",
   "version": "3.7.3"
  }
 },
 "nbformat": 4,
 "nbformat_minor": 2
}
