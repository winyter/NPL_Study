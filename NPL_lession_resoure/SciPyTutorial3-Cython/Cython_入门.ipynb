{
 "cells": [
  {
   "attachments": {
    "image.png": {
     "image/png": "[encoded data removed]"
    }
   },
   "cell_type": "markdown",
   "metadata": {},
   "source": [
    "## 什么时候需要 Cython\n",
    "\n",
    "* 想在`Python`里达到`C语言`的速度\n",
    "* 调用现有的C/C++库\n",
    "\n",
    "\n",
    "## 哪些项目用了Cython\n",
    "\n",
    "* [SageMath](http://www.sagemath.org/)\n",
    "* [Pandas](https://github.com/pandas-dev/pandas/tree/master/pandas/_libs)\n",
    "* [Scipy](https://github.com/scipy/scipy/tree/master/scipy)\n",
    "* [scikit-learn](https://scikit-learn.org/stable/developers/performance.html#)\n",
    "* [spaCy: Industrial-strength NLP](https://github.com/explosion/spaCy)\n",
    "* [A pythonic python wrapper around FFTW](https://github.com/pyFFTW/pyFFTW)\n",
    "* [kivy](https://kivy.org/doc/stable/installation/deps-cython.html)\n",
    "* [100 Times Faster Natural Language Processing in Python](https://github.com/huggingface/100-times-faster-nlp)\n",
    "* ...\n",
    "\n",
    "一些项目的`Cython`行数(2014年统计):\n",
    "\n",
    "![image.png](attachment:image.png)"
   ]
  },
  {
   "cell_type": "code",
   "execution_count": 103,
   "metadata": {},
   "outputs": [],
   "source": [
    "import sys\n",
    "import cython\n",
    "\n",
    "import numba\n",
    "from numba import jit\n",
    "\n",
    "import numpy as np"
   ]
  },
  {
   "cell_type": "code",
   "execution_count": 7,
   "metadata": {
    "scrolled": true
   },
   "outputs": [
    {
     "data": {
      "text/plain": [
       "('0.43.1',\n",
       " '1.16.3',\n",
       " '0.29.6',\n",
       " '3.7.3 (default, Mar 27 2019, 16:54:48) \\n[Clang 4.0.1 (tags/RELEASE_401/final)]')"
      ]
     },
     "execution_count": 7,
     "metadata": {},
     "output_type": "execute_result"
    }
   ],
   "source": [
    "numba.__version__, np.__version__, cython.__version__, sys.version"
   ]
  },
  {
   "cell_type": "code",
   "execution_count": 8,
   "metadata": {},
   "outputs": [],
   "source": [
    "%load_ext Cython"
   ]
  },
  {
   "cell_type": "markdown",
   "metadata": {},
   "source": [
    "## Cython初探"
   ]
  },
  {
   "cell_type": "markdown",
   "metadata": {},
   "source": [
    "### 静态类型加速"
   ]
  },
  {
   "cell_type": "code",
   "execution_count": 9,
   "metadata": {},
   "outputs": [],
   "source": [
    "def f(x):\n",
    "    return x ** 2 - x\n",
    "\n",
    "\n",
    "def integrate_f(a, b, N):\n",
    "    s = 0\n",
    "    dx = (b - a) / N\n",
    "    for i in range(N):\n",
    "        s += f(a + i * dx)\n",
    "    return s * dx"
   ]
  },
  {
   "cell_type": "code",
   "execution_count": 26,
   "metadata": {},
   "outputs": [
    {
     "name": "stdout",
     "output_type": "stream",
     "text": [
      "2.61 ms ± 179 µs per loop (mean ± std. dev. of 7 runs, 5 loops each)\n"
     ]
    }
   ],
   "source": [
    "t1 = %timeit -n5 -o integrate_f(1, 100, 10000)"
   ]
  },
  {
   "cell_type": "code",
   "execution_count": 18,
   "metadata": {},
   "outputs": [],
   "source": [
    "%%cython\n",
    "\n",
    "def f_cy1(x):\n",
    "    return x ** 2 - x\n",
    "\n",
    "\n",
    "def integrate_f_cy1(a, b, N):\n",
    "    s = 0\n",
    "    dx = (b - a) / N\n",
    "    for i in range(N):\n",
    "        s += f_cy1(a + i * dx)\n",
    "    return s * dx"
   ]
  },
  {
   "cell_type": "code",
   "execution_count": 23,
   "metadata": {},
   "outputs": [
    {
     "name": "stdout",
     "output_type": "stream",
     "text": [
      "1.6 ms ± 50.1 µs per loop (mean ± std. dev. of 7 runs, 5 loops each)\n"
     ]
    }
   ],
   "source": [
    "t2 = %timeit -n5 -o integrate_f_cy1(1, 100, 10000)"
   ]
  },
  {
   "cell_type": "code",
   "execution_count": 33,
   "metadata": {},
   "outputs": [
    {
     "data": {
      "text/plain": [
       "1.6322283657170238"
      ]
     },
     "execution_count": 33,
     "metadata": {},
     "output_type": "execute_result"
    }
   ],
   "source": [
    "t1.average/t2.average"
   ]
  },
  {
   "cell_type": "code",
   "execution_count": 43,
   "metadata": {},
   "outputs": [],
   "source": [
    "%%cython\n",
    "\n",
    "def f_cy2(double x):\n",
    "    return x ** 2 - x\n",
    "\n",
    "\n",
    "def integrate_f_cy2(double a, double b, int N):\n",
    "    cdef double s, dx\n",
    "    cdef int i\n",
    "    s = 0\n",
    "    dx = (b - a) / N\n",
    "    for i in range(N):\n",
    "        s += f_cy2(a + i * dx)\n",
    "    return s * dx"
   ]
  },
  {
   "cell_type": "code",
   "execution_count": 44,
   "metadata": {},
   "outputs": [
    {
     "name": "stdout",
     "output_type": "stream",
     "text": [
      "370 µs ± 17.2 µs per loop (mean ± std. dev. of 7 runs, 5 loops each)\n"
     ]
    }
   ],
   "source": [
    "t3 = %timeit -n5 -o integrate_f_cy2(1, 100, 10000)"
   ]
  },
  {
   "cell_type": "code",
   "execution_count": 45,
   "metadata": {},
   "outputs": [
    {
     "data": {
      "text/plain": [
       "7.048878956204646"
      ]
     },
     "execution_count": 45,
     "metadata": {},
     "output_type": "execute_result"
    }
   ],
   "source": [
    "t1.average/t3.average"
   ]
  },
  {
   "cell_type": "code",
   "execution_count": 36,
   "metadata": {},
   "outputs": [],
   "source": [
    "# %%cython?"
   ]
  },
  {
   "cell_type": "code",
   "execution_count": 102,
   "metadata": {},
   "outputs": [],
   "source": [
    "%%cython \n",
    "\n",
    "cdef double f_cy3(double x):\n",
    "    return x ** 2 - x\n",
    "\n",
    "\n",
    "def integrate_f_cy3(double a, double b, int N):\n",
    "    cdef double s, dx\n",
    "    cdef int i\n",
    "    s = 0\n",
    "    dx = (b - a) / N\n",
    "    for i in range(N):\n",
    "        s += f_cy3(a + i * dx)\n",
    "    return s * dx"
   ]
  },
  {
   "cell_type": "code",
   "execution_count": 47,
   "metadata": {},
   "outputs": [
    {
     "name": "stdout",
     "output_type": "stream",
     "text": [
      "11.1 µs ± 205 ns per loop (mean ± std. dev. of 7 runs, 5 loops each)\n"
     ]
    }
   ],
   "source": [
    "t4 = %timeit -n5 -o integrate_f_cy3(1, 100, 10000)"
   ]
  },
  {
   "cell_type": "code",
   "execution_count": 48,
   "metadata": {},
   "outputs": [
    {
     "data": {
      "text/plain": [
       "234.9922352210674"
      ]
     },
     "execution_count": 48,
     "metadata": {},
     "output_type": "execute_result"
    }
   ],
   "source": [
    "t1.average/t4.average"
   ]
  },
  {
   "cell_type": "code",
   "execution_count": 90,
   "metadata": {},
   "outputs": [],
   "source": [
    "@jit(nopython=True, nogil=True)\n",
    "def f_jit(x):\n",
    "    return x ** 2 - x\n",
    "\n",
    "@jit(nopython=True, nogil=True, fastmath=True)\n",
    "def integrate_f_jit(a, b, N):\n",
    "    s = 0\n",
    "    dx = (b - a) / N\n",
    "    for i in range(N):\n",
    "        s += f_jit(a + i * dx)\n",
    "    return s * dx"
   ]
  },
  {
   "cell_type": "code",
   "execution_count": 91,
   "metadata": {},
   "outputs": [
    {
     "data": {
      "text/plain": [
       "328284.49661716504"
      ]
     },
     "execution_count": 91,
     "metadata": {},
     "output_type": "execute_result"
    }
   ],
   "source": [
    "integrate_f_jit(1, 100, 10000)"
   ]
  },
  {
   "cell_type": "code",
   "execution_count": 99,
   "metadata": {},
   "outputs": [
    {
     "name": "stdout",
     "output_type": "stream",
     "text": [
      "The slowest run took 8.28 times longer than the fastest. This could mean that an intermediate result is being cached.\n",
      "19.6 µs ± 23.4 µs per loop (mean ± std. dev. of 7 runs, 5 loops each)\n"
     ]
    }
   ],
   "source": [
    "t5 = %timeit -n5 -o integrate_f_jit(1, 100, 10000)"
   ]
  },
  {
   "cell_type": "code",
   "execution_count": 100,
   "metadata": {},
   "outputs": [
    {
     "data": {
      "text/plain": [
       "(256.2419324605358, 216.62861535363305)"
      ]
     },
     "execution_count": 100,
     "metadata": {},
     "output_type": "execute_result"
    }
   ],
   "source": [
    "t1.best/t5.best, t1.best/t4.best"
   ]
  },
  {
   "cell_type": "markdown",
   "metadata": {},
   "source": [
    "### 调用C/C++库"
   ]
  },
  {
   "cell_type": "code",
   "execution_count": 53,
   "metadata": {},
   "outputs": [],
   "source": [
    "from wrap_integrate import integrate_c"
   ]
  },
  {
   "cell_type": "code",
   "execution_count": 54,
   "metadata": {},
   "outputs": [
    {
     "name": "stdout",
     "output_type": "stream",
     "text": [
      "12.5 µs ± 331 ns per loop (mean ± std. dev. of 7 runs, 5 loops each)\n"
     ]
    }
   ],
   "source": [
    "t5 = %timeit -n5 -o integrate_c(1, 100, 10000)"
   ]
  },
  {
   "cell_type": "code",
   "execution_count": 55,
   "metadata": {},
   "outputs": [
    {
     "data": {
      "text/plain": [
       "207.76058545855096"
      ]
     },
     "execution_count": 55,
     "metadata": {},
     "output_type": "execute_result"
    }
   ],
   "source": [
    "t1.average/t5.average"
   ]
  },
  {
   "cell_type": "code",
   "execution_count": 56,
   "metadata": {},
   "outputs": [
    {
     "data": {
      "text/plain": [
       "328284.496617165"
      ]
     },
     "execution_count": 56,
     "metadata": {},
     "output_type": "execute_result"
    }
   ],
   "source": [
    "integrate_c(1, 100, 10000)"
   ]
  },
  {
   "cell_type": "code",
   "execution_count": 58,
   "metadata": {},
   "outputs": [
    {
     "data": {
      "text/plain": [
       "328284.496617165"
      ]
     },
     "execution_count": 58,
     "metadata": {},
     "output_type": "execute_result"
    }
   ],
   "source": [
    "integrate_f(1, 100, 10000)"
   ]
  },
  {
   "cell_type": "code",
   "execution_count": 59,
   "metadata": {},
   "outputs": [
    {
     "data": {
      "text/plain": [
       "328284.496617165"
      ]
     },
     "execution_count": 59,
     "metadata": {},
     "output_type": "execute_result"
    }
   ],
   "source": [
    "integrate_f_cy3(1, 100, 10000)"
   ]
  },
  {
   "cell_type": "markdown",
   "metadata": {},
   "source": [
    "## Cython 做了什么?\n",
    "\n",
    "1. `Cython`首先将`Python`代码编译成优化的`C`语言\n",
    "2. 使用`C`语言编译器,如`gcc, clang`等, 将优化的`C`程序编译成共享库\n",
    "\n",
    "`Cython`提供了`cythonize`可以自动完成上面的过程. 首先将下面的代码保存到`integrate.pyx`中,\n",
    "\n",
    "```python\n",
    "cdef double f_cy3(double x):\n",
    "    return x ** 2 - x\n",
    "\n",
    "def integrate_f_cy3(double a, double b, int N):\n",
    "    cdef double s, dx\n",
    "    cdef int i\n",
    "    s = 0\n",
    "    dx = (b - a) / N\n",
    "    for i in range(N):\n",
    "        s += f_cy3(a + i * dx)\n",
    "    return s * dx\n",
    "```\n",
    "\n",
    "将下面代码保存为`setup.py`, \n",
    "\n",
    "```python\n",
    "from Cython.Build import cythonize\n",
    "from distutils.core import setup, Extension\n",
    "\n",
    "extensions = [\n",
    "    Extension(\"integrate\",\n",
    "              [\"integrate.pyx\"],\n",
    "              extra_compile_args = [\"-O3\"],\n",
    "              extra_link_args=[]\n",
    "              )\n",
    "]\n",
    " \n",
    "setup(\n",
    "  name = \"integrate\",\n",
    "  ext_modules = cythonize(extensions),\n",
    ")\n",
    "```\n",
    "\n",
    "在命令行下运行:\n",
    "\n",
    "```bash\n",
    "python setup.py build_ext -i\n",
    "```"
   ]
  },
  {
   "cell_type": "markdown",
   "metadata": {},
   "source": [
    "## 编译器指令\n",
    "\n",
    "`Cython`提供一系列指令([compiler directives](https://cython.readthedocs.io/en/latest/src/reference/compilation.html#compiler-directives))控制将`Cython`代码转换到`C`代码的过程, 有两种方式使用这些指令.\n",
    "\n",
    "* 直接加在`.pyx`源代码的开头\n",
    "\n",
    "```\n",
    "# cython: embedsignature=True\n",
    "# cython: boundscheck=False\n",
    "# cython: wraparound=False\n",
    "# cython: language_level=3\n",
    "# cython: cdivision = True\n",
    "# distutils: language = c++\n",
    "```\n",
    "\n",
    "* 使用修饰器\n",
    "\n",
    "```python\n",
    "cimport cython\n",
    "\n",
    "@cython.boundscheck(False)\n",
    "@cython.wraparound(False)\n",
    "@cython.cdivision(True)\n",
    "def integrate(...):\n",
    "    ...\n",
    "```"
   ]
  },
  {
   "cell_type": "markdown",
   "metadata": {},
   "source": [
    "## 问题\n",
    "\n",
    "\n",
    "* 编译通过, 但是调用时出现`Symbol not found: ...`\n",
    "\n",
    "检查`setup.py`文件中是否包含了所有的`.c/.cpp`文件\n",
    "\n",
    "\n",
    "* `Mac`中可以转换成`C`编译, 但是不能转换成`C++`编译\n",
    "\n",
    "```\n",
    "clang: warning: libstdc++ is deprecated; move to libc++ with a minimum deployment target of OS X \n",
    "10.9 [-Wdeprecated]\n",
    "```\n",
    "\n",
    "解决方法如下:\n",
    "\n",
    "```python\n",
    "from distutils.core import setup, Extension\n",
    "from Cython.Build import cythonize\n",
    "\n",
    "ext = Extension(\"RNG\",\n",
    "                sources=[\"fib.pyx\"],\n",
    "                language=\"c++\",\n",
    "                extra_link_args=[\"-stdlib=libc++\", \"-mmacosx-version-min=10.14\"]\n",
    "                )\n",
    "\n",
    "setup(name=\"RNG\", ext_modules=cythonize(ext))\n",
    "```\n"
   ]
  },
  {
   "cell_type": "code",
   "execution_count": null,
   "metadata": {},
   "outputs": [],
   "source": []
  },
  {
   "cell_type": "code",
   "execution_count": null,
   "metadata": {},
   "outputs": [],
   "source": []
  },
  {
   "cell_type": "code",
   "execution_count": null,
   "metadata": {},
   "outputs": [],
   "source": []
  },
  {
   "cell_type": "code",
   "execution_count": null,
   "metadata": {},
   "outputs": [],
   "source": []
  },
  {
   "cell_type": "code",
   "execution_count": null,
   "metadata": {},
   "outputs": [],
   "source": []
  },
  {
   "cell_type": "code",
   "execution_count": null,
   "metadata": {},
   "outputs": [],
   "source": []
  },
  {
   "cell_type": "code",
   "execution_count": null,
   "metadata": {},
   "outputs": [],
   "source": []
  },
  {
   "cell_type": "code",
   "execution_count": null,
   "metadata": {},
   "outputs": [],
   "source": []
  }
 ],
 "metadata": {
  "kernelspec": {
   "display_name": "Python 3",
   "language": "python",
   "name": "python3"
  },
  "language_info": {
   "codemirror_mode": {
    "name": "ipython",
    "version": 3
   },
   "file_extension": ".py",
   "mimetype": "text/x-python",
   "name": "python",
   "nbconvert_exporter": "python",
   "pygments_lexer": "ipython3",
   "version": "3.7.3"
  }
 },
 "nbformat": 4,
 "nbformat_minor": 2
}
