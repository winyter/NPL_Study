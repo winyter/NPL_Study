{
 "cells": [
  {
   "cell_type": "code",
   "execution_count": 1,
   "metadata": {},
   "outputs": [],
   "source": [
    "import jieba"
   ]
  },
  {
   "cell_type": "code",
   "execution_count": 2,
   "metadata": {},
   "outputs": [],
   "source": [
    "from jieba import posseg"
   ]
  },
  {
   "cell_type": "markdown",
   "metadata": {},
   "source": [
    "## POS => Part fo Speech ( 名词，动词... )\n",
    "- 即标注一个词的词性"
   ]
  },
  {
   "cell_type": "code",
   "execution_count": 3,
   "metadata": {},
   "outputs": [],
   "source": [
    "text = \"\"\"\n",
    "党的十八大以来，习近平总书记心系教育事业。一次次寄语激扬青春梦想，一声声问候温暖教育希望。他关心一件件教育“小事”，推动“更好更公平”的教育愿景早日成为现实。\n",
    "\n",
    "循着习近平总书记的足迹，新华社记者在回访中看到一个个令人振奋的画面——学有所教的逐步实现，正在为中华大地每一个孩子插上翅膀，让他们带着梦想飞得更高更远。\n",
    "\"\"\""
   ]
  },
  {
   "cell_type": "markdown",
   "metadata": {},
   "source": [
    "### "
   ]
  },
  {
   "cell_type": "code",
   "execution_count": 4,
   "metadata": {},
   "outputs": [
    {
     "name": "stderr",
     "output_type": "stream",
     "text": [
      "Building prefix dict from the default dictionary ...\n",
      "Loading model from cache /var/folders/k9/x9kpxf8j1031vym13wtllsfm0000gn/T/jieba.cache\n"
     ]
    },
    {
     "name": "stdout",
     "output_type": "stream",
     "text": [
      "\n",
      "/x\n"
     ]
    },
    {
     "name": "stderr",
     "output_type": "stream",
     "text": [
      "Loading model cost 0.542 seconds.\n",
      "Prefix dict has been built succesfully.\n"
     ]
    },
    {
     "name": "stdout",
     "output_type": "stream",
     "text": [
      "党/n\n",
      "的/uj\n",
      "十八/m\n",
      "大/a\n",
      "以来/f\n",
      "，/x\n",
      "习近平/nrfg\n",
      "总书记/n\n",
      "心系/n\n",
      "教育/vn\n",
      "事业/n\n",
      "。/x\n",
      "一次次/m\n",
      "寄语/n\n",
      "激扬/v\n",
      "青春/ns\n",
      "梦想/n\n",
      "，/x\n",
      "一声声/m\n",
      "问候/n\n",
      "温暖/an\n",
      "教育/vn\n",
      "希望/v\n",
      "。/x\n",
      "他/r\n",
      "关心/n\n",
      "一件件/l\n",
      "教育/vn\n",
      "“/x\n",
      "小事/n\n",
      "”/x\n",
      "，/x\n",
      "推动/v\n",
      "“/x\n",
      "更好/d\n",
      "更/d\n",
      "公平/n\n",
      "”/x\n",
      "的/uj\n",
      "教育/vn\n",
      "愿景/n\n",
      "早日/t\n",
      "成为/v\n",
      "现实/n\n",
      "。/x\n",
      "\n",
      "/x\n",
      "\n",
      "/x\n",
      "循/vg\n",
      "着/uz\n",
      "习近平/nrfg\n",
      "总书记/n\n",
      "的/uj\n",
      "足迹/n\n",
      "，/x\n",
      "新华社/nt\n",
      "记者/n\n",
      "在/p\n",
      "回访/v\n",
      "中/f\n",
      "看到/v\n",
      "一个个/m\n",
      "令人振奋/l\n",
      "的/uj\n",
      "画面/n\n",
      "—/x\n",
      "—/x\n",
      "学/n\n",
      "有所/n\n",
      "教/v\n",
      "的/uj\n",
      "逐步/d\n",
      "实现/v\n",
      "，/x\n",
      "正在/t\n",
      "为/p\n",
      "中华/nz\n",
      "大地/n\n",
      "每/zg\n",
      "一个/m\n",
      "孩子/n\n",
      "插/v\n",
      "上/f\n",
      "翅膀/n\n",
      "，/x\n",
      "让/v\n",
      "他们/r\n",
      "带/v\n",
      "着/uz\n",
      "梦想/n\n",
      "飞/v\n",
      "得/ud\n",
      "更/d\n",
      "高/a\n",
      "更远/d\n",
      "。/x\n",
      "\n",
      "/x\n"
     ]
    }
   ],
   "source": [
    "for w in posseg.cut(text):\n",
    "    print(w)"
   ]
  },
  {
   "cell_type": "markdown",
   "metadata": {},
   "source": [
    "### define a function. Input is a word , output is some similar words"
   ]
  },
  {
   "cell_type": "code",
   "execution_count": 5,
   "metadata": {},
   "outputs": [
    {
     "name": "stdout",
     "output_type": "stream",
     "text": [
      "Lession-5-note.ipynb article_9k.txt\r\n"
     ]
    }
   ],
   "source": [
    "!ls"
   ]
  },
  {
   "cell_type": "code",
   "execution_count": null,
   "metadata": {},
   "outputs": [],
   "source": []
  }
 ],
 "metadata": {
  "kernelspec": {
   "display_name": "Python 3",
   "language": "python",
   "name": "python3"
  },
  "language_info": {
   "codemirror_mode": {
    "name": "ipython",
    "version": 3
   },
   "file_extension": ".py",
   "mimetype": "text/x-python",
   "name": "python",
   "nbconvert_exporter": "python",
   "pygments_lexer": "ipython3",
   "version": "3.7.3"
  }
 },
 "nbformat": 4,
 "nbformat_minor": 2
}
