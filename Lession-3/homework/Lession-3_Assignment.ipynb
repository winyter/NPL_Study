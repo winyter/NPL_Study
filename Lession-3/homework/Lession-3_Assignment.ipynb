{
 "cells": [
  {
   "cell_type": "markdown",
   "metadata": {},
   "source": [
    "# Lecture-03 Gradient Descent and Dymanic Programming"
   ]
  },
  {
   "cell_type": "markdown",
   "metadata": {},
   "source": [
    "## Part I Review the online programming. "
   ]
  },
  {
   "cell_type": "markdown",
   "metadata": {},
   "source": [
    "### Dynamic Programming"
   ]
  },
  {
   "cell_type": "markdown",
   "metadata": {},
   "source": [
    "+ 1. Overlapping Subproblems\n",
    "+ 2. Ocerlapping computing saved in a table\n",
    "+ 3. Parse solution"
   ]
  },
  {
   "cell_type": "code",
   "execution_count": 1,
   "metadata": {},
   "outputs": [],
   "source": [
    "original_price = [1, 5, 8, 9, 10, 17, 17, 20, 24, 30, 39]"
   ]
  },
  {
   "cell_type": "code",
   "execution_count": 2,
   "metadata": {},
   "outputs": [],
   "source": [
    "price = {}"
   ]
  },
  {
   "cell_type": "code",
   "execution_count": 3,
   "metadata": {},
   "outputs": [],
   "source": [
    "from collections import defaultdict"
   ]
  },
  {
   "cell_type": "code",
   "execution_count": 4,
   "metadata": {},
   "outputs": [
    {
     "data": {
      "text/plain": [
       "0"
      ]
     },
     "execution_count": 4,
     "metadata": {},
     "output_type": "execute_result"
    }
   ],
   "source": [
    "# defaultdict 的用法，可以对超过范围的 index 设定一个固定值\n",
    "some_default_dict = defaultdict(int)\n",
    "some_default_dict[1] = 0\n",
    "some_default_dict[1111]"
   ]
  },
  {
   "cell_type": "code",
   "execution_count": 5,
   "metadata": {},
   "outputs": [],
   "source": [
    "price = defaultdict(int)"
   ]
  },
  {
   "cell_type": "code",
   "execution_count": 6,
   "metadata": {},
   "outputs": [],
   "source": [
    "for i, p in enumerate(original_price):\n",
    "    price[i + 1] = p"
   ]
  },
  {
   "cell_type": "code",
   "execution_count": 7,
   "metadata": {},
   "outputs": [
    {
     "data": {
      "text/plain": [
       "30"
      ]
     },
     "execution_count": 7,
     "metadata": {},
     "output_type": "execute_result"
    }
   ],
   "source": [
    "price[10]"
   ]
  },
  {
   "cell_type": "markdown",
   "metadata": {},
   "source": [
    "### get the max splitting by enumerate"
   ]
  },
  {
   "cell_type": "code",
   "execution_count": 8,
   "metadata": {},
   "outputs": [],
   "source": [
    "called_time = defaultdict(int)\n",
    "\n",
    "def get_call_times(f):    \n",
    "    result = f()\n",
    "    print('function: {} called once!'.format(f.__name__))\n",
    "    called_time[f.__name__] += 1\n",
    "    \n",
    "    return result"
   ]
  },
  {
   "cell_type": "code",
   "execution_count": 9,
   "metadata": {},
   "outputs": [],
   "source": [
    "from functools import wraps"
   ]
  },
  {
   "cell_type": "code",
   "execution_count": 10,
   "metadata": {},
   "outputs": [],
   "source": [
    "called_time_with_arg = defaultdict(int)\n",
    "def get_call_time(f):\n",
    "    \"\"\"@param f is a function\"\"\"\n",
    "    @wraps(f)\n",
    "    def wrap(n):\n",
    "        \"\"\"\n",
    "        I am wrap\n",
    "        \"\"\"\n",
    "        #print(\"I can caount\")\n",
    "        result = f(n)\n",
    "        called_time_with_arg[(f.__name__, n)] += 1\n",
    "        return result\n",
    "    return wrap"
   ]
  },
  {
   "cell_type": "code",
   "execution_count": 11,
   "metadata": {},
   "outputs": [],
   "source": [
    "def some_function_1(): print(\"I am function 1\")"
   ]
  },
  {
   "cell_type": "code",
   "execution_count": 12,
   "metadata": {},
   "outputs": [
    {
     "name": "stdout",
     "output_type": "stream",
     "text": [
      "I am function 1\n",
      "function: some_function_1 called once!\n"
     ]
    }
   ],
   "source": [
    "get_call_times(some_function_1)"
   ]
  },
  {
   "cell_type": "code",
   "execution_count": 13,
   "metadata": {},
   "outputs": [
    {
     "data": {
      "text/plain": [
       "defaultdict(int, {'some_function_1': 1})"
      ]
     },
     "execution_count": 13,
     "metadata": {},
     "output_type": "execute_result"
    }
   ],
   "source": [
    "called_time"
   ]
  },
  {
   "cell_type": "code",
   "execution_count": 14,
   "metadata": {},
   "outputs": [],
   "source": [
    "def memo(f):\n",
    "    memo.already_computed = {}\n",
    "    @wraps(f)\n",
    "    def _wrap(arg):\n",
    "        result = None\n",
    "            \n",
    "        if arg in memo.already_computed:\n",
    "            result = memo.already_computed[arg]\n",
    "        else:\n",
    "            result = f(arg)\n",
    "            memo.already_computed[arg] = result\n",
    "        return result\n",
    "    return _wrap"
   ]
  },
  {
   "cell_type": "code",
   "execution_count": 15,
   "metadata": {},
   "outputs": [],
   "source": [
    "solution = {}"
   ]
  },
  {
   "cell_type": "code",
   "execution_count": 16,
   "metadata": {},
   "outputs": [],
   "source": [
    "@memo\n",
    "#@get_call_time\n",
    "def r(n):\n",
    "    \"\"\"\n",
    "    I am r\n",
    "    \"\"\"\n",
    "    max_price, max_split = max(\n",
    "        [(price[n], 0)] + [(r(i) + r(n-i), i) for i in range(1, n)], key = lambda x: x[0]\n",
    "    )\n",
    "         \n",
    "    solution[n] = (n - max_split, max_split)\n",
    "         \n",
    "    return max_price"
   ]
  },
  {
   "cell_type": "code",
   "execution_count": 17,
   "metadata": {},
   "outputs": [
    {
     "data": {
      "text/plain": [
       "130"
      ]
     },
     "execution_count": 17,
     "metadata": {},
     "output_type": "execute_result"
    }
   ],
   "source": [
    "r(38)"
   ]
  },
  {
   "cell_type": "code",
   "execution_count": 18,
   "metadata": {},
   "outputs": [
    {
     "data": {
      "text/plain": [
       "{1: (1, 0),\n",
       " 2: (2, 0),\n",
       " 3: (3, 0),\n",
       " 4: (2, 2),\n",
       " 5: (3, 2),\n",
       " 6: (6, 0),\n",
       " 7: (6, 1),\n",
       " 8: (6, 2),\n",
       " 9: (6, 3),\n",
       " 10: (10, 0),\n",
       " 11: (11, 0),\n",
       " 12: (11, 1),\n",
       " 13: (11, 2),\n",
       " 14: (11, 3),\n",
       " 15: (13, 2),\n",
       " 16: (14, 2),\n",
       " 17: (11, 6),\n",
       " 18: (17, 1),\n",
       " 19: (17, 2),\n",
       " 20: (17, 3),\n",
       " 21: (11, 10),\n",
       " 22: (11, 11),\n",
       " 23: (22, 1),\n",
       " 24: (22, 2),\n",
       " 25: (22, 3),\n",
       " 26: (24, 2),\n",
       " 27: (25, 2),\n",
       " 28: (22, 6),\n",
       " 29: (28, 1),\n",
       " 30: (28, 2),\n",
       " 31: (28, 3),\n",
       " 32: (22, 10),\n",
       " 33: (22, 11),\n",
       " 34: (33, 1),\n",
       " 35: (33, 2),\n",
       " 36: (33, 3),\n",
       " 37: (35, 2),\n",
       " 38: (36, 2)}"
      ]
     },
     "execution_count": 18,
     "metadata": {},
     "output_type": "execute_result"
    }
   ],
   "source": [
    "solution"
   ]
  },
  {
   "cell_type": "code",
   "execution_count": 19,
   "metadata": {},
   "outputs": [],
   "source": [
    "def parse_solution(n):\n",
    "    left_split, right_split = solution[n]\n",
    "    \n",
    "    if right_split == 0: return [left_split]\n",
    "    \n",
    "    return parse_solution(left_split) + parse_solution(right_split)\n",
    "    "
   ]
  },
  {
   "cell_type": "code",
   "execution_count": 20,
   "metadata": {},
   "outputs": [
    {
     "data": {
      "text/plain": [
       "352"
      ]
     },
     "execution_count": 20,
     "metadata": {},
     "output_type": "execute_result"
    }
   ],
   "source": [
    "r(100)"
   ]
  },
  {
   "cell_type": "code",
   "execution_count": 21,
   "metadata": {},
   "outputs": [
    {
     "data": {
      "text/plain": [
       "[11, 11, 11, 11, 11, 11, 11, 11, 11, 1]"
      ]
     },
     "execution_count": 21,
     "metadata": {},
     "output_type": "execute_result"
    }
   ],
   "source": [
    "parse_solution(100)"
   ]
  },
  {
   "cell_type": "code",
   "execution_count": 22,
   "metadata": {
    "scrolled": true
   },
   "outputs": [
    {
     "data": {
      "text/plain": [
       "30"
      ]
     },
     "execution_count": 22,
     "metadata": {},
     "output_type": "execute_result"
    }
   ],
   "source": [
    "r(10)"
   ]
  },
  {
   "cell_type": "code",
   "execution_count": 23,
   "metadata": {
    "scrolled": true
   },
   "outputs": [
    {
     "data": {
      "text/plain": [
       "defaultdict(int, {})"
      ]
     },
     "execution_count": 23,
     "metadata": {},
     "output_type": "execute_result"
    }
   ],
   "source": [
    "called_time_with_arg"
   ]
  },
  {
   "cell_type": "code",
   "execution_count": 24,
   "metadata": {},
   "outputs": [],
   "source": [
    "from collections import Counter"
   ]
  },
  {
   "cell_type": "code",
   "execution_count": 25,
   "metadata": {},
   "outputs": [
    {
     "data": {
      "text/plain": [
       "[]"
      ]
     },
     "execution_count": 25,
     "metadata": {},
     "output_type": "execute_result"
    }
   ],
   "source": [
    "Counter(called_time_with_arg).most_common()"
   ]
  },
  {
   "cell_type": "code",
   "execution_count": 26,
   "metadata": {},
   "outputs": [
    {
     "name": "stdout",
     "output_type": "stream",
     "text": [
      "Help on function r in module __main__:\n",
      "\n",
      "r(n)\n",
      "    I am r\n",
      "\n"
     ]
    }
   ],
   "source": [
    "help(r)"
   ]
  },
  {
   "cell_type": "code",
   "execution_count": 27,
   "metadata": {},
   "outputs": [],
   "source": [
    "def r(n):\n",
    "    \"\"\"\n",
    "    I am r\n",
    "    \"\"\"\n",
    "    return max(\n",
    "    [price[n]] + [r(i) + r(n-i) for i in range(1, n)]\n",
    "    )"
   ]
  },
  {
   "cell_type": "code",
   "execution_count": 28,
   "metadata": {},
   "outputs": [
    {
     "name": "stdout",
     "output_type": "stream",
     "text": [
      "Help on function r in module __main__:\n",
      "\n",
      "r(n)\n",
      "    I am r\n",
      "\n"
     ]
    }
   ],
   "source": [
    "help(r)"
   ]
  },
  {
   "cell_type": "markdown",
   "metadata": {},
   "source": [
    "---"
   ]
  },
  {
   "cell_type": "markdown",
   "metadata": {},
   "source": [
    "---"
   ]
  },
  {
   "cell_type": "markdown",
   "metadata": {},
   "source": [
    "## Part 2: change loss function from $loss = \\frac{1}{n}\\sum{(y_i - \\hat(y_i))^2}$ to $loss = \\frac{1}{n}\\sum{|y_i - \\hat{y_i}|}$, and using your mathmatical knowledge to get the right partial formual. Implemen the gradient descent code."
   ]
  },
  {
   "cell_type": "markdown",
   "metadata": {},
   "source": [
    "$$ loss = \\frac{1}{n}\\sum{|y_i - (kx_i + b)|} $$"
   ]
  },
  {
   "cell_type": "markdown",
   "metadata": {},
   "source": [
    "$$ k > 0 时, $$\n",
    "$$ \\frac{\\partial{loss}}{\\partial{k}} = \\frac{1}{n}\\sum{x_i} $$\n",
    "\n",
    "\n",
    "$$ k < 0 时, $$\n",
    "$$ \\frac{\\partial{loss}}{\\partial{k}} = -\\frac{1}{n}\\sum{x_i} $$\n",
    "\n",
    "$$ k = 0时, $$"
   ]
  },
  {
   "cell_type": "markdown",
   "metadata": {},
   "source": [
    "$$ b > 0 时, $$\n",
    "$$ \\frac{\\partial{loss}}{\\partial{b}} = 1 $$\n",
    "\n",
    "$$ b < 0 时, $$\n",
    "$$ \\frac{\\partial{loss}}{\\partial{b}} = -1 $$\n",
    "\n",
    "$$ b = 0 时, $$"
   ]
  },
  {
   "cell_type": "code",
   "execution_count": 74,
   "metadata": {},
   "outputs": [],
   "source": [
    "import random\n",
    "from sklearn.datasets import load_boston\n",
    "import matplotlib.pyplot as plt"
   ]
  },
  {
   "cell_type": "code",
   "execution_count": 30,
   "metadata": {},
   "outputs": [],
   "source": [
    "def price(rm, k ,b):\n",
    "    return k * rm + b"
   ]
  },
  {
   "cell_type": "code",
   "execution_count": 49,
   "metadata": {},
   "outputs": [],
   "source": [
    "def loss(y, y_hat):\n",
    "    loss_total = 0\n",
    "    for y_i, y_hat_i in zip(list(y), list(y_hat)):\n",
    "        loss_total += abs(y_i - y_hat_i)\n",
    "        \n",
    "    return loss_total / len(list(y))"
   ]
  },
  {
   "cell_type": "code",
   "execution_count": 85,
   "metadata": {},
   "outputs": [],
   "source": [
    "def partial_k(x, y, k):\n",
    "    n = len(y)\n",
    "    gradient = 0\n",
    "    \n",
    "    if k > 0:\n",
    "        for x_i in list(x):\n",
    "            gradient += x_i\n",
    "    elif k < 0:\n",
    "        for x_i in list(x):\n",
    "            gradient += (-x_i)\n",
    "    else:\n",
    "        gradient = 0\n",
    "    \n",
    "    return gradient / n"
   ]
  },
  {
   "cell_type": "code",
   "execution_count": 33,
   "metadata": {},
   "outputs": [],
   "source": [
    "def partial_b(b):\n",
    "    if b > 0:\n",
    "        return 1\n",
    "    elif b < 0:\n",
    "        return -1\n",
    "    else:\n",
    "        return 0"
   ]
  },
  {
   "cell_type": "code",
   "execution_count": 96,
   "metadata": {},
   "outputs": [
    {
     "name": "stdout",
     "output_type": "stream",
     "text": [
      "When time is : 0, get best_k: 2.852190773183125, best_b: -45.516078547549355, and the loss is : 50.123908659225904\n",
      "When time is : 1000, get best_k: 3.480654211918363, best_b: -45.416078547546036, and the loss is : 46.07424572095371\n",
      "When time is : 2000, get best_k: 4.109117650653602, best_b: -45.316078547542716, and the loss is : 42.024582782681605\n",
      "When time is : 3000, get best_k: 4.73758108938884, best_b: -45.2160785475394, and the loss is : 37.974919844409406\n",
      "When time is : 4000, get best_k: 5.366044528124078, best_b: -45.11607854753608, and the loss is : 33.92525690613729\n",
      "When time is : 5000, get best_k: 5.994507966859317, best_b: -45.01607854753276, and the loss is : 29.87559396786516\n",
      "When time is : 6000, get best_k: 6.622971405594555, best_b: -44.91607854752944, and the loss is : 25.825931029593004\n",
      "When time is : 7000, get best_k: 7.251434844329793, best_b: -44.81607854752612, and the loss is : 21.776268091320876\n",
      "When time is : 8000, get best_k: 7.879898283065032, best_b: -44.7160785475228, and the loss is : 17.744198699776522\n",
      "When time is : 9000, get best_k: 8.50836172180027, best_b: -44.61607854751948, and the loss is : 13.807691126155893\n",
      "When time is : 10000, get best_k: 9.136825160535508, best_b: -44.51607854751616, and the loss is : 10.154628692645199\n",
      "When time is : 11000, get best_k: 9.765288599270747, best_b: -44.41607854751284, and the loss is : 7.023630101599572\n",
      "When time is : 12000, get best_k: 10.393752038005985, best_b: -44.31607854750952, and the loss is : 4.766713936492796\n"
     ]
    }
   ],
   "source": [
    "trying_time = 100000\n",
    "\n",
    "data = load_boston()\n",
    "X, y = data['data'], data['target']\n",
    "X_rm = X[:, 5]\n",
    "\n",
    "min_loss = float('inf')\n",
    "\n",
    "current_k = random.random() * 200 - 100\n",
    "current_b = random.random() * 200 - 100\n",
    "\n",
    "learning_rate = 1e-4\n",
    "#update_time = 0\n",
    "\n",
    "for i in range(trying_time):\n",
    "    \n",
    "    price_by_k_and_b = [price(r, current_k, current_b) for r in X_rm]\n",
    "    \n",
    "    current_loss = loss(y, price_by_k_and_b)\n",
    "    \n",
    "    if current_loss < min_loss:\n",
    "        \n",
    "        min_loss = current_loss\n",
    "        \n",
    "        if i % 1000 == 0:\n",
    "            print(\"When time is : {}, get best_k: {}, best_b: {}, and the loss is : {}\".format(i, current_k, current_b, min_loss))\n",
    "        \n",
    "    k_gradient = partial_k(X_rm, y, current_k)\n",
    "    b_gradient = partial_b(current_b)\n",
    "\n",
    "    current_k = current_k + (1 * k_gradient * learning_rate)\n",
    "    current_b = current_b + (-1 * b_gradient * learning_rate)\n",
    "    \n",
    "    "
   ]
  },
  {
   "cell_type": "code",
   "execution_count": 76,
   "metadata": {},
   "outputs": [],
   "source": [
    "%matplotlib inline\n",
    "def draw_rm_and_price():\n",
    "    plt.scatter(X[:, 5], y)"
   ]
  },
  {
   "cell_type": "code",
   "execution_count": 97,
   "metadata": {},
   "outputs": [
    {
     "data": {
      "text/plain": [
       "<matplotlib.collections.PathCollection at 0x1a20ac6048>"
      ]
     },
     "execution_count": 97,
     "metadata": {},
     "output_type": "execute_result"
    },
    {
     "data": {
      "image/png": "[encoded data removed]",
      "text/plain": [
       "<Figure size 432x288 with 1 Axes>"
      ]
     },
     "metadata": {
      "needs_background": "light"
     },
     "output_type": "display_data"
    }
   ],
   "source": [
    "X_rm = X[:, 5]\n",
    "k = 10.393752038005985\n",
    "b = -44.31607854750952\n",
    "price_by_random_k_and_b = [price(r, k, b) for r in X_rm]\n",
    "\n",
    "draw_rm_and_price()\n",
    "plt.scatter(X_rm, price_by_random_k_and_b)"
   ]
  },
  {
   "cell_type": "markdown",
   "metadata": {},
   "source": [
    "---"
   ]
  },
  {
   "cell_type": "markdown",
   "metadata": {},
   "source": [
    "---"
   ]
  },
  {
   "cell_type": "markdown",
   "metadata": {},
   "source": [
    "## Part 3: Finish the Solution Parse Part of Edit-Distance"
   ]
  },
  {
   "cell_type": "code",
   "execution_count": 1,
   "metadata": {},
   "outputs": [],
   "source": [
    "from functools import wraps\n",
    "from collections import defaultdict"
   ]
  },
  {
   "cell_type": "code",
   "execution_count": 42,
   "metadata": {},
   "outputs": [],
   "source": [
    "solution = {}\n",
    "solution = defaultdict(int)"
   ]
  },
  {
   "cell_type": "code",
   "execution_count": 43,
   "metadata": {},
   "outputs": [],
   "source": [
    "def lru_cache(maxsize):\n",
    "    def wrapper(f):\n",
    "        lru_cache.already_computed = {}\n",
    "        @wraps(f)\n",
    "        def _wrap(arg1, arg2):\n",
    "            result = None\n",
    "\n",
    "            if (arg1,arg2) in lru_cache.already_computed:\n",
    "                result = lru_cache.already_computed[(arg1,arg2)]\n",
    "            else:\n",
    "                result = f(arg1, arg2)\n",
    "                if len(lru_cache.already_computed) > maxsize:\n",
    "                    pass\n",
    "                else:\n",
    "                    lru_cache.already_computed[(arg1,arg2)] = result\n",
    "                    \n",
    "            return result\n",
    "\n",
    "        return _wrap\n",
    "    \n",
    "    return wrapper"
   ]
  },
  {
   "cell_type": "code",
   "execution_count": 44,
   "metadata": {},
   "outputs": [],
   "source": [
    "@lru_cache(maxsize=2**10)\n",
    "def edit_distance(string1, string2):\n",
    "    \n",
    "    if len(string1) == 0: return len(string2)\n",
    "    if len(string2) == 0: return len(string1)\n",
    "    \n",
    "    tail_s1 = string1[-1]\n",
    "    tail_s2 = string2[-1]\n",
    "    \n",
    "    candidates = [\n",
    "        (edit_distance(string1[:-1], string2) + 1, 'DEL {}'.format(tail_s1)),  # string 1 delete tail\n",
    "        (edit_distance(string1, string2[:-1]) + 1, 'ADD {}'.format(tail_s2)),  # string 1 add tail of string2\n",
    "    ]\n",
    "    \n",
    "    if tail_s1 == tail_s2:\n",
    "        both_forward = (edit_distance(string1[:-1], string2[:-1]) + 0, '')\n",
    "    else:\n",
    "        both_forward = (edit_distance(string1[:-1], string2[:-1]) + 1, 'SUB {} => {}'.format(tail_s1, tail_s2))\n",
    "\n",
    "    candidates.append(both_forward)\n",
    "    \n",
    "    min_distance, operation = min(candidates, key=lambda x: x[0])\n",
    "    \n",
    "    solution[(string1, string2)] = operation \n",
    "    \n",
    "    return min_distance"
   ]
  },
  {
   "cell_type": "code",
   "execution_count": 45,
   "metadata": {},
   "outputs": [
    {
     "name": "stdout",
     "output_type": "stream",
     "text": [
      "f\n"
     ]
    }
   ],
   "source": [
    "string = 'asdfg'\n",
    "string[-1:]\n",
    "print(string[-2])"
   ]
  },
  {
   "cell_type": "code",
   "execution_count": 84,
   "metadata": {},
   "outputs": [
    {
     "data": {
      "text/plain": [
       "4"
      ]
     },
     "execution_count": 84,
     "metadata": {},
     "output_type": "execute_result"
    }
   ],
   "source": [
    "edit_distance('abssaag','abab')"
   ]
  },
  {
   "cell_type": "code",
   "execution_count": 85,
   "metadata": {},
   "outputs": [
    {
     "data": {
      "text/plain": [
       "{('', 'abab'): 4,\n",
       " ('', 'aba'): 3,\n",
       " ('', 'ab'): 2,\n",
       " ('', 'a'): 1,\n",
       " ('a', ''): 1,\n",
       " ('', ''): 0,\n",
       " ('a', 'a'): 0,\n",
       " ('a', 'ab'): 1,\n",
       " ('a', 'aba'): 2,\n",
       " ('a', 'abab'): 3,\n",
       " ('ab', ''): 2,\n",
       " ('ab', 'a'): 1,\n",
       " ('ab', 'ab'): 0,\n",
       " ('ab', 'aba'): 1,\n",
       " ('ab', 'abab'): 2,\n",
       " ('abg', ''): 3,\n",
       " ('abg', 'a'): 2,\n",
       " ('abg', 'ab'): 1,\n",
       " ('abg', 'aba'): 1,\n",
       " ('abg', 'abab'): 2,\n",
       " ('abs', ''): 3,\n",
       " ('abs', 'a'): 2,\n",
       " ('abs', 'ab'): 1,\n",
       " ('abs', 'aba'): 1,\n",
       " ('abs', 'abab'): 2,\n",
       " ('abss', ''): 4,\n",
       " ('abss', 'a'): 3,\n",
       " ('abss', 'ab'): 2,\n",
       " ('abss', 'aba'): 2,\n",
       " ('abss', 'abab'): 2,\n",
       " ('abssa', ''): 5,\n",
       " ('abssa', 'a'): 4,\n",
       " ('abssa', 'ab'): 3,\n",
       " ('abssa', 'aba'): 2,\n",
       " ('abssa', 'abab'): 3,\n",
       " ('abssaa', ''): 6,\n",
       " ('abssaa', 'a'): 5,\n",
       " ('abssaa', 'ab'): 4,\n",
       " ('abssaa', 'aba'): 3,\n",
       " ('abssaa', 'abab'): 3,\n",
       " ('abssaag', ''): 7,\n",
       " ('abssaag', 'a'): 6,\n",
       " ('abssaag', 'ab'): 5,\n",
       " ('abssaag', 'aba'): 4,\n",
       " ('abssaag', 'abab'): 4}"
      ]
     },
     "execution_count": 85,
     "metadata": {},
     "output_type": "execute_result"
    }
   ],
   "source": [
    "lru_cache.already_computed"
   ]
  },
  {
   "cell_type": "code",
   "execution_count": 86,
   "metadata": {},
   "outputs": [
    {
     "data": {
      "text/plain": [
       "defaultdict(int,\n",
       "            {('a', 'a'): '',\n",
       "             ('a', 'ab'): 'ADD b',\n",
       "             ('a', 'aba'): 'ADD a',\n",
       "             ('a', 'abab'): 'ADD b',\n",
       "             ('ab', 'a'): 'DEL b',\n",
       "             ('ab', 'ab'): '',\n",
       "             ('ab', 'aba'): 'ADD a',\n",
       "             ('ab', 'abab'): 'ADD b',\n",
       "             ('abg', 'a'): 'DEL g',\n",
       "             ('abg', 'ab'): 'DEL g',\n",
       "             ('abg', 'aba'): 'SUB g => a',\n",
       "             ('abg', 'abab'): 'ADD b',\n",
       "             ('', ''): 0,\n",
       "             ('abs', 'a'): 'DEL s',\n",
       "             ('abs', 'ab'): 'DEL s',\n",
       "             ('abs', 'aba'): 'SUB s => a',\n",
       "             ('abs', 'abab'): 'ADD b',\n",
       "             ('abss', 'a'): 'DEL s',\n",
       "             ('abss', 'ab'): 'DEL s',\n",
       "             ('abss', 'aba'): 'DEL s',\n",
       "             ('abss', 'abab'): 'SUB s => b',\n",
       "             ('abssa', 'a'): 'DEL a',\n",
       "             ('abssa', 'ab'): 'DEL a',\n",
       "             ('abssa', 'aba'): '',\n",
       "             ('abssa', 'abab'): 'DEL a',\n",
       "             ('abssaa', 'a'): 'DEL a',\n",
       "             ('abssaa', 'ab'): 'DEL a',\n",
       "             ('abssaa', 'aba'): 'DEL a',\n",
       "             ('abssaa', 'abab'): 'SUB a => b',\n",
       "             ('abssaag', 'a'): 'DEL g',\n",
       "             ('abssaag', 'ab'): 'DEL g',\n",
       "             ('abssaag', 'aba'): 'DEL g',\n",
       "             ('abssaag', 'abab'): 'DEL g'})"
      ]
     },
     "execution_count": 86,
     "metadata": {},
     "output_type": "execute_result"
    }
   ],
   "source": [
    "solution"
   ]
  },
  {
   "cell_type": "code",
   "execution_count": 94,
   "metadata": {},
   "outputs": [],
   "source": [
    "route = []\n",
    "def solution_result(solu, string1, string2):\n",
    "    \n",
    "    if len(string1) == 1: return 0\n",
    "    \n",
    "    operation = solu[(string1, string2)]\n",
    "    if 'DEL' in operation:\n",
    "        route.append(operation)\n",
    "        solution_result(solu, string1[:-1], string2)\n",
    "    elif 'SUB' in operation:\n",
    "        route.append(operation)\n",
    "        solution_result(solu, string1[:-1], string2[:-1])\n",
    "    elif 'ADD' in operation:\n",
    "        route.append(operation)\n",
    "        solution_result(solu, string1, string2[:-1])\n",
    "    elif operation == '':\n",
    "        route.append(\"--\")\n",
    "        solution_result(solu, string1[:-1], string2[:-1])\n",
    "    else:\n",
    "        print(\"ERROR\")\n",
    "    \n",
    "    return route"
   ]
  },
  {
   "cell_type": "code",
   "execution_count": 95,
   "metadata": {
    "scrolled": true
   },
   "outputs": [
    {
     "name": "stdout",
     "output_type": "stream",
     "text": [
      "['DEL g', 'SUB a => b', '--', 'DEL s', 'DEL s', '--']\n"
     ]
    }
   ],
   "source": [
    "print(solution_result(solution, 'abssaag','abab'))"
   ]
  },
  {
   "cell_type": "markdown",
   "metadata": {},
   "source": [
    "---"
   ]
  },
  {
   "cell_type": "markdown",
   "metadata": {},
   "source": [
    "---"
   ]
  },
  {
   "cell_type": "markdown",
   "metadata": {},
   "source": [
    "## Part 5-1: review machine learning"
   ]
  },
  {
   "cell_type": "markdown",
   "metadata": {},
   "source": [
    "1. Why do we use Derivative / Gredient to fit a target function?¶"
   ]
  },
  {
   "cell_type": "markdown",
   "metadata": {},
   "source": [
    "Ans:Because Dervative reflect the variation trend of loss function, and that can help us supervise the machine learing"
   ]
  },
  {
   "cell_type": "markdown",
   "metadata": {},
   "source": [
    "2. In the words 'Gredient Descent', what's the Gredient and what's the Descent?¶"
   ]
  },
  {
   "cell_type": "markdown",
   "metadata": {},
   "source": [
    "Ans: 微积分中，对函数求偏导数，把求得的各个参数的偏导数以向量的形式表现出来，这就是梯度，在机器学习算法中，对损失函数进行不断的最小化的过程就是下降"
   ]
  },
  {
   "cell_type": "markdown",
   "metadata": {},
   "source": [
    "\n",
    "3. What's the advantages of the 3rd gradient descent method compared to the previous methods?"
   ]
  },
  {
   "cell_type": "markdown",
   "metadata": {},
   "source": [
    "Ans: 第一种方式采用随机值来做梯度下降，第二种方式采用固定的值和固定的方向来做梯度下降，第三种方式采用损失函数来做梯度下降，第一种方式没有明确的方向，学习的效率不高，第二种方式使用的是固定值，比较死板，但已经有了明确的方向，第三种对损失函数的不断最小化，这样的方式相比前两种，就像在铁轨上奔跑的火车，能按照既定的路线高效的到达终点"
   ]
  },
  {
   "cell_type": "markdown",
   "metadata": {},
   "source": [
    "4. Using the simple words to describe: What's the machine leanring.¶"
   ]
  },
  {
   "cell_type": "markdown",
   "metadata": {},
   "source": [
    "Ans: 让机器学习已有的一些数据，从而能够更好的进行预测"
   ]
  },
  {
   "cell_type": "markdown",
   "metadata": {},
   "source": [
    "### Part 5: Answer following questions: "
   ]
  },
  {
   "cell_type": "markdown",
   "metadata": {},
   "source": [
    "1. Why do we need dynamic programming? What's the difference of dynamic programming and previous talked `search` problme? "
   ]
  },
  {
   "cell_type": "markdown",
   "metadata": {},
   "source": [
    "Ans: 动态规划通过“存表”的方式，使得函数在执行时大大减少调用函数的次数，与 search problem 的区别在于：一个“存表“、“查表“，一个“硬”执行"
   ]
  },
  {
   "cell_type": "markdown",
   "metadata": {},
   "source": [
    "2. Why do we still need dynamic programming? Why not we train a machine learning to fit a function which could get the `right` answer based on inputs?"
   ]
  },
  {
   "cell_type": "markdown",
   "metadata": {},
   "source": [
    "Ans: 机器学习比较复杂，且预测结果不一定准确，而动态规划相对来说更加简单，且对于离散的数据表现可能更好"
   ]
  },
  {
   "cell_type": "markdown",
   "metadata": {},
   "source": [
    "3. Can you catch up at least 3 problems which could solved by Dynamic Programming? "
   ]
  },
  {
   "cell_type": "markdown",
   "metadata": {},
   "source": [
    "Ans: 优化程序、分配资源(分钢筋、分工等等)、金融领域(资产管理)"
   ]
  },
  {
   "cell_type": "markdown",
   "metadata": {},
   "source": [
    "4. Can you catch up at least 3 problems wich could sloved by Edit Distance? "
   ]
  },
  {
   "cell_type": "markdown",
   "metadata": {},
   "source": [
    "Ans: 语言比对、文本比对、线路规划"
   ]
  },
  {
   "cell_type": "markdown",
   "metadata": {},
   "source": [
    "5. Please summarize the three main features of Dynamic Programming, and make a concise explain for each feature. "
   ]
  },
  {
   "cell_type": "markdown",
   "metadata": {},
   "source": [
    "Ans: \n",
    "\n",
    "最优子结构：如果问题的最优解所包含的子问题的解也是最优的，我们就称该问题具有最优子结构性质，即满足最优化原理。最优子结构性质为动态规划算法解决问题提供了重要依据\n",
    "\n",
    "无后效性：即子问题的解一旦确定，就不会改变，不会受到后面比它更大的问题的求解策略的影响\n",
    "\n",
    "子问题重叠性质：指在用递归算法自顶向下对问题进行求解时，每次产生的子问题并不总是新的问题，有些子问题会被重复计算多次，动态规划算法正是利用了这种子问题的重叠性质，对每个子问题只计算一次，然后将其结果保存在一个“表”中，当再次需要计算已经计算过的子问题时，只要“查一次表”，就能得到结果，大大提高了效率"
   ]
  },
  {
   "cell_type": "markdown",
   "metadata": {},
   "source": [
    "6. What's the disadvantages of Dynamic Programming? (You may need search by yourself in Internet)"
   ]
  },
  {
   "cell_type": "markdown",
   "metadata": {},
   "source": [
    "Ans: 空间需求较大，没有统一的标准模型"
   ]
  }
 ],
 "metadata": {
  "kernelspec": {
   "display_name": "Python 3",
   "language": "python",
   "name": "python3"
  },
  "language_info": {
   "codemirror_mode": {
    "name": "ipython",
    "version": 3
   },
   "file_extension": ".py",
   "mimetype": "text/x-python",
   "name": "python",
   "nbconvert_exporter": "python",
   "pygments_lexer": "ipython3",
   "version": "3.7.3"
  }
 },
 "nbformat": 4,
 "nbformat_minor": 2
}
