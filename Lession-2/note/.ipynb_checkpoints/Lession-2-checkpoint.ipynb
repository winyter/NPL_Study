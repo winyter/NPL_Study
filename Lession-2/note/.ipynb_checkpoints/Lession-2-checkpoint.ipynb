{
 "cells": [
  {
   "cell_type": "markdown",
   "metadata": {},
   "source": [
    "## Previous Course"
   ]
  },
  {
   "cell_type": "markdown",
   "metadata": {},
   "source": [
    "1、What's the Language Model? OOV Problem?"
   ]
  },
  {
   "cell_type": "markdown",
   "metadata": {},
   "source": [
    "#### Out of Vocabulary(OOV)\n",
    "- 万一当某一个词出现的次数为0时怎么办？\n",
    "- 推荐一种方法，对某一个出现概率为 0 的词设置一个固定的概率，这个概率小于出现次数为 1 的单词的概率\n",
    "$$ Pr(w_0) = constant < Pr(w_1) $$\n",
    "- Language Model：Smooth"
   ]
  },
  {
   "cell_type": "markdown",
   "metadata": {},
   "source": [
    "2、Syntax Tree. lambda"
   ]
  },
  {
   "cell_type": "code",
   "execution_count": 4,
   "metadata": {},
   "outputs": [],
   "source": [
    "import random"
   ]
  },
  {
   "cell_type": "code",
   "execution_count": 5,
   "metadata": {},
   "outputs": [],
   "source": [
    "def adj(): return random.choice(\"蓝色的 | 好看的 | 小小的\".split(\"|\")).split()[0]"
   ]
  },
  {
   "cell_type": "code",
   "execution_count": 6,
   "metadata": {},
   "outputs": [],
   "source": [
    "def adj_star_2():\n",
    "    return random.choice([lambda : '', lambda : adj() + adj_star_2()])()\n",
    "\n",
    "def adj_star():\n",
    "    return random.choice(['', adj() + adj_star()])"
   ]
  },
  {
   "cell_type": "code",
   "execution_count": 7,
   "metadata": {},
   "outputs": [
    {
     "data": {
      "text/plain": [
       "'小小的蓝色的好看的蓝色的好看的蓝色的'"
      ]
     },
     "execution_count": 7,
     "metadata": {},
     "output_type": "execute_result"
    }
   ],
   "source": [
    "adj_star_2()"
   ]
  },
  {
   "cell_type": "code",
   "execution_count": 8,
   "metadata": {},
   "outputs": [
    {
     "ename": "RecursionError",
     "evalue": "maximum recursion depth exceeded while calling a Python object",
     "output_type": "error",
     "traceback": [
      "\u001b[0;31m---------------------------------------------------------------------------\u001b[0m",
      "\u001b[0;31mRecursionError\u001b[0m                            Traceback (most recent call last)",
      "\u001b[0;32m<ipython-input-8-58803c6c2578>\u001b[0m in \u001b[0;36m<module>\u001b[0;34m\u001b[0m\n\u001b[0;32m----> 1\u001b[0;31m \u001b[0madj_star\u001b[0m\u001b[0;34m(\u001b[0m\u001b[0;34m)\u001b[0m\u001b[0;34m\u001b[0m\u001b[0;34m\u001b[0m\u001b[0m\n\u001b[0m",
      "\u001b[0;32m<ipython-input-6-dfd88301ba16>\u001b[0m in \u001b[0;36madj_star\u001b[0;34m()\u001b[0m\n\u001b[1;32m      3\u001b[0m \u001b[0;34m\u001b[0m\u001b[0m\n\u001b[1;32m      4\u001b[0m \u001b[0;32mdef\u001b[0m \u001b[0madj_star\u001b[0m\u001b[0;34m(\u001b[0m\u001b[0;34m)\u001b[0m\u001b[0;34m:\u001b[0m\u001b[0;34m\u001b[0m\u001b[0;34m\u001b[0m\u001b[0m\n\u001b[0;32m----> 5\u001b[0;31m     \u001b[0;32mreturn\u001b[0m \u001b[0mrandom\u001b[0m\u001b[0;34m.\u001b[0m\u001b[0mchoice\u001b[0m\u001b[0;34m(\u001b[0m\u001b[0;34m[\u001b[0m\u001b[0;34m''\u001b[0m\u001b[0;34m,\u001b[0m \u001b[0madj\u001b[0m\u001b[0;34m(\u001b[0m\u001b[0;34m)\u001b[0m \u001b[0;34m+\u001b[0m \u001b[0madj_star\u001b[0m\u001b[0;34m(\u001b[0m\u001b[0;34m)\u001b[0m\u001b[0;34m]\u001b[0m\u001b[0;34m)\u001b[0m\u001b[0;34m\u001b[0m\u001b[0;34m\u001b[0m\u001b[0m\n\u001b[0m",
      "... last 1 frames repeated, from the frame below ...\n",
      "\u001b[0;32m<ipython-input-6-dfd88301ba16>\u001b[0m in \u001b[0;36madj_star\u001b[0;34m()\u001b[0m\n\u001b[1;32m      3\u001b[0m \u001b[0;34m\u001b[0m\u001b[0m\n\u001b[1;32m      4\u001b[0m \u001b[0;32mdef\u001b[0m \u001b[0madj_star\u001b[0m\u001b[0;34m(\u001b[0m\u001b[0;34m)\u001b[0m\u001b[0;34m:\u001b[0m\u001b[0;34m\u001b[0m\u001b[0;34m\u001b[0m\u001b[0m\n\u001b[0;32m----> 5\u001b[0;31m     \u001b[0;32mreturn\u001b[0m \u001b[0mrandom\u001b[0m\u001b[0;34m.\u001b[0m\u001b[0mchoice\u001b[0m\u001b[0;34m(\u001b[0m\u001b[0;34m[\u001b[0m\u001b[0;34m''\u001b[0m\u001b[0;34m,\u001b[0m \u001b[0madj\u001b[0m\u001b[0;34m(\u001b[0m\u001b[0;34m)\u001b[0m \u001b[0;34m+\u001b[0m \u001b[0madj_star\u001b[0m\u001b[0;34m(\u001b[0m\u001b[0;34m)\u001b[0m\u001b[0;34m]\u001b[0m\u001b[0;34m)\u001b[0m\u001b[0;34m\u001b[0m\u001b[0;34m\u001b[0m\u001b[0m\n\u001b[0m",
      "\u001b[0;31mRecursionError\u001b[0m: maximum recursion depth exceeded while calling a Python object"
     ]
    }
   ],
   "source": [
    "adj_star()"
   ]
  },
  {
   "cell_type": "markdown",
   "metadata": {},
   "source": [
    "如以上看到，使用adj_star()时，会出现死循环，导致递归深度超出限制\n",
    "\n",
    "解决方法是使用lambda，lambda是一个定义函数的东西，在这里，使用lambda可以让函数在选择到adj_star_2()时，才会运行\n",
    "\n",
    "也就是说，在adj_star()中，不管choice选择的是前面的‘’ 还是后面的函数，里面所有的东西都会执行一遍，而在adj_star_2中，只有当choice选择lambda时，才会执行lambda里面的内容"
   ]
  },
  {
   "cell_type": "markdown",
   "metadata": {},
   "source": [
    "##  Search Policy"
   ]
  },
  {
   "cell_type": "code",
   "execution_count": 15,
   "metadata": {},
   "outputs": [],
   "source": [
    "coordination_source = \"\"\"\n",
    "{name:'兰州', geoCoord:[103.73, 36.03]},\n",
    "{name:'嘉峪关', geoCoord:[98.17, 39.47]},\n",
    "{name:'西宁', geoCoord:[101.74, 36.56]},\n",
    "{name:'成都', geoCoord:[104.06, 30.67]},\n",
    "{name:'石家庄', geoCoord:[114.48, 38.03]},\n",
    "{name:'拉萨', geoCoord:[102.73, 25.04]},\n",
    "{name:'贵阳', geoCoord:[106.71, 26.57]},\n",
    "{name:'武汉', geoCoord:[114.31, 30.52]},\n",
    "{name:'郑州', geoCoord:[113.65, 34.76]},\n",
    "{name:'济南', geoCoord:[117, 36.65]},\n",
    "{name:'南京', geoCoord:[118.78, 32.04]},\n",
    "{name:'合肥', geoCoord:[117.27, 31.86]},\n",
    "{name:'杭州', geoCoord:[120.19, 30.26]},\n",
    "{name:'南昌', geoCoord:[115.89, 28.68]},\n",
    "{name:'福州', geoCoord:[119.3, 26.08]},\n",
    "{name:'广州', geoCoord:[113.23, 23.16]},\n",
    "{name:'长沙', geoCoord:[113, 28.21]},\n",
    "//{name:'海口', geoCoord:[110.35, 20.02]},\n",
    "{name:'沈阳', geoCoord:[123.38, 41.8]},\n",
    "{name:'长春', geoCoord:[125.35, 43.88]},\n",
    "{name:'哈尔滨', geoCoord:[126.63, 45.75]},\n",
    "{name:'太原', geoCoord:[112.53, 37.87]},\n",
    "{name:'西安', geoCoord:[108.95, 34.27]},\n",
    "//{name:'台湾', geoCoord:[121.30, 25.03]},\n",
    "{name:'北京', geoCoord:[116.46, 39.92]},\n",
    "{name:'上海', geoCoord:[121.48, 31.22]},\n",
    "{name:'重庆', geoCoord:[106.54, 29.59]},\n",
    "{name:'天津', geoCoord:[117.2, 39.13]},\n",
    "{name:'呼和浩特', geoCoord:[111.65, 40.82]},\n",
    "{name:'南宁', geoCoord:[108.33, 22.84]},\n",
    "//{name:'西藏', geoCoord:[91.11, 29.97]},\n",
    "{name:'银川', geoCoord:[106.27, 38.47]},\n",
    "{name:'乌鲁木齐', geoCoord:[87.68, 43.77]},\n",
    "{name:'香港', geoCoord:[114.17, 22.28]},\n",
    "{name:'澳门', geoCoord:[113.54, 22.19]}\n",
    "\"\"\""
   ]
  },
  {
   "cell_type": "code",
   "execution_count": 16,
   "metadata": {},
   "outputs": [],
   "source": [
    "city_location = {\n",
    "    '香港':(114.17,22.28)\n",
    "}"
   ]
  },
  {
   "cell_type": "code",
   "execution_count": 17,
   "metadata": {},
   "outputs": [
    {
     "data": {
      "text/plain": [
       "{'香港': (114.17, 22.28)}"
      ]
     },
     "execution_count": 17,
     "metadata": {},
     "output_type": "execute_result"
    }
   ],
   "source": [
    "city_location"
   ]
  },
  {
   "cell_type": "code",
   "execution_count": 18,
   "metadata": {},
   "outputs": [],
   "source": [
    "test_string = \"{name:'兰州', geoCoord:[103.73, 36.03]}\""
   ]
  },
  {
   "cell_type": "code",
   "execution_count": 19,
   "metadata": {},
   "outputs": [],
   "source": [
    "import re  #导入正则表达式包"
   ]
  },
  {
   "cell_type": "code",
   "execution_count": 20,
   "metadata": {},
   "outputs": [],
   "source": [
    "pattern = re.compile(r\"name:'(\\w+)',\\s+geoCoord:\\[(\\d+.\\d+),\\s(\\d+.\\d+)\\]\")"
   ]
  },
  {
   "cell_type": "code",
   "execution_count": 21,
   "metadata": {},
   "outputs": [],
   "source": [
    "for line in coordination_source.split('\\n'):\n",
    "    city_info = pattern.findall(line)\n",
    "    if not city_info: continue\n",
    "        \n",
    "    # following : we find the city info\n",
    "    \n",
    "    city, long, lat = city_info[0]\n",
    "    \n",
    "    long, lat = float(long), float(lat)\n",
    "    city_location[city] = (long, lat)"
   ]
  },
  {
   "cell_type": "code",
   "execution_count": 22,
   "metadata": {},
   "outputs": [
    {
     "data": {
      "text/plain": [
       "{'香港': (114.17, 22.28),\n",
       " '兰州': (103.73, 36.03),\n",
       " '嘉峪关': (98.17, 39.47),\n",
       " '西宁': (101.74, 36.56),\n",
       " '成都': (104.06, 30.67),\n",
       " '石家庄': (114.48, 38.03),\n",
       " '拉萨': (102.73, 25.04),\n",
       " '贵阳': (106.71, 26.57),\n",
       " '武汉': (114.31, 30.52),\n",
       " '郑州': (113.65, 34.76),\n",
       " '济南': (117.0, 36.65),\n",
       " '南京': (118.78, 32.04),\n",
       " '合肥': (117.27, 31.86),\n",
       " '杭州': (120.19, 30.26),\n",
       " '南昌': (115.89, 28.68),\n",
       " '福州': (119.3, 26.08),\n",
       " '广州': (113.23, 23.16),\n",
       " '长沙': (113.0, 28.21),\n",
       " '海口': (110.35, 20.02),\n",
       " '沈阳': (123.38, 41.8),\n",
       " '长春': (125.35, 43.88),\n",
       " '哈尔滨': (126.63, 45.75),\n",
       " '太原': (112.53, 37.87),\n",
       " '西安': (108.95, 34.27),\n",
       " '台湾': (121.3, 25.03),\n",
       " '北京': (116.46, 39.92),\n",
       " '上海': (121.48, 31.22),\n",
       " '重庆': (106.54, 29.59),\n",
       " '天津': (117.2, 39.13),\n",
       " '呼和浩特': (111.65, 40.82),\n",
       " '南宁': (108.33, 22.84),\n",
       " '西藏': (91.11, 29.97),\n",
       " '银川': (106.27, 38.47),\n",
       " '乌鲁木齐': (87.68, 43.77),\n",
       " '澳门': (113.54, 22.19)}"
      ]
     },
     "execution_count": 22,
     "metadata": {},
     "output_type": "execute_result"
    }
   ],
   "source": [
    "city_location"
   ]
  },
  {
   "cell_type": "code",
   "execution_count": 23,
   "metadata": {},
   "outputs": [],
   "source": [
    "import math"
   ]
  },
  {
   "cell_type": "code",
   "execution_count": 24,
   "metadata": {},
   "outputs": [],
   "source": [
    "def geo_distance(origin, destination):\n",
    "    \"\"\"\n",
    "    Calculate the Haversine distance.\n",
    "\n",
    "    Parameters\n",
    "    ----------\n",
    "    origin : tuple of float\n",
    "        (lat, long)\n",
    "    destination : tuple of float\n",
    "        (lat, long)\n",
    "\n",
    "    Returns\n",
    "    -------\n",
    "    distance_in_km : float\n",
    "\n",
    "    Examples\n",
    "    --------\n",
    "    >>> origin = (48.1372, 11.5756)  # Munich\n",
    "    >>> destination = (52.5186, 13.4083)  # Berlin\n",
    "    >>> round(distance(origin, destination), 1)\n",
    "    504.2\n",
    "    \"\"\"\n",
    "    lat1, lon1 = origin\n",
    "    lat2, lon2 = destination\n",
    "    radius = 6371  # km\n",
    "\n",
    "    dlat = math.radians(lat2 - lat1)\n",
    "    dlon = math.radians(lon2 - lon1)\n",
    "    a = (math.sin(dlat / 2) * math.sin(dlat / 2) +\n",
    "         math.cos(math.radians(lat1)) * math.cos(math.radians(lat2)) *\n",
    "         math.sin(dlon / 2) * math.sin(dlon / 2))\n",
    "    c = 2 * math.atan2(math.sqrt(a), math.sqrt(1 - a))\n",
    "    d = radius * c\n",
    "    \n",
    "    return d"
   ]
  },
  {
   "cell_type": "code",
   "execution_count": 25,
   "metadata": {},
   "outputs": [],
   "source": [
    "def get_geo_distance(city1, city2):\n",
    "    return geo_distance(city_location[city1], city_location[city2])"
   ]
  },
  {
   "cell_type": "code",
   "execution_count": 26,
   "metadata": {},
   "outputs": [
    {
     "data": {
      "text/plain": [
       "153.5185697155768"
      ]
     },
     "execution_count": 26,
     "metadata": {},
     "output_type": "execute_result"
    }
   ],
   "source": [
    "get_geo_distance('上海', '杭州')"
   ]
  },
  {
   "cell_type": "code",
   "execution_count": 27,
   "metadata": {},
   "outputs": [],
   "source": [
    "import networkx as nx"
   ]
  },
  {
   "cell_type": "code",
   "execution_count": 28,
   "metadata": {},
   "outputs": [],
   "source": [
    "city_graph = nx.Graph()"
   ]
  },
  {
   "cell_type": "code",
   "execution_count": 29,
   "metadata": {},
   "outputs": [],
   "source": [
    "city_graph.add_nodes_from(list(city_location.keys()))"
   ]
  },
  {
   "cell_type": "code",
   "execution_count": 30,
   "metadata": {},
   "outputs": [],
   "source": [
    "%matplotlib inline"
   ]
  },
  {
   "cell_type": "code",
   "execution_count": 31,
   "metadata": {},
   "outputs": [],
   "source": [
    "from matplotlib.font_manager import _rebuild\n",
    "_rebuild()"
   ]
  },
  {
   "cell_type": "code",
   "execution_count": 33,
   "metadata": {},
   "outputs": [],
   "source": [
    "import matplotlib.pyplot as plt\n",
    "plt.rcParams['font.sans-serif'] = [u'SimHei']\n",
    "plt.rcParams['axes.unicode_minus'] = False"
   ]
  },
  {
   "cell_type": "code",
   "execution_count": 34,
   "metadata": {},
   "outputs": [
    {
     "data": {
      "image/png": "[encoded data removed]",
      "text/plain": [
       "<Figure size 432x288 with 1 Axes>"
      ]
     },
     "metadata": {},
     "output_type": "display_data"
    }
   ],
   "source": [
    "nx.draw(city_graph, city_location, with_labels=True, node_size=30)"
   ]
  },
  {
   "cell_type": "code",
   "execution_count": 35,
   "metadata": {},
   "outputs": [],
   "source": [
    "simple_connection_info = {\n",
    "    '北京':['太原','沈阳'],\n",
    "    '沈阳':['北京'],\n",
    "    '太原':['北京','西安','郑州'],\n",
    "    '郑州':['太原'],\n",
    "    '兰州':['西安'],\n",
    "    '西安':['兰州','长沙'],\n",
    "    '长沙':['福州','南宁']\n",
    "}"
   ]
  },
  {
   "cell_type": "code",
   "execution_count": 36,
   "metadata": {},
   "outputs": [
    {
     "name": "stderr",
     "output_type": "stream",
     "text": [
      "/anaconda3/lib/python3.7/site-packages/networkx/drawing/nx_pylab.py:611: MatplotlibDeprecationWarning: isinstance(..., numbers.Number)\n",
      "  if cb.is_numlike(alpha):\n"
     ]
    },
    {
     "data": {
      "image/png": "[encoded data removed]",
      "text/plain": [
       "<Figure size 432x288 with 1 Axes>"
      ]
     },
     "metadata": {},
     "output_type": "display_data"
    }
   ],
   "source": [
    "nx.draw(nx.Graph(simple_connection_info), city_location, with_labels=True, node_size=30)"
   ]
  },
  {
   "cell_type": "code",
   "execution_count": 126,
   "metadata": {},
   "outputs": [],
   "source": [
    "# 广度优先遍历\n",
    "def search(city1, city2, connection_grpah, sort_candidate):\n",
    "    pathes = [[city1]]\n",
    "    visited = set()\n",
    "    \n",
    "    while pathes:\n",
    "#        print(pathes)\n",
    "        path = pathes.pop(0)\n",
    "#        print(path)\n",
    "        froninter = path[-1]\n",
    "        \n",
    "        if froninter in visited: continue\n",
    "        \n",
    "        successors = connection_grpah[froninter]\n",
    "        \n",
    "        for city in successors:\n",
    "            if city in path: continue  # eliminate loop\n",
    "            new_path = path + [city]\n",
    "            pathes.append(new_path)\n",
    "            \n",
    "            if city == city2: return new_path\n",
    "            \n",
    "        visited.add(froninter)\n",
    "        \n",
    "        pathes = sort_candidate(pathes)   #这里可以自定义排序函数"
   ]
  },
  {
   "cell_type": "code",
   "execution_count": 38,
   "metadata": {},
   "outputs": [
    {
     "data": {
      "text/plain": [
       "['北京', '太原', '西安', '长沙', '福州']"
      ]
     },
     "execution_count": 38,
     "metadata": {},
     "output_type": "execute_result"
    }
   ],
   "source": [
    "search('北京','福州',simple_connection_info)"
   ]
  },
  {
   "cell_type": "code",
   "execution_count": 40,
   "metadata": {},
   "outputs": [],
   "source": [
    "def pretty_print(cities):\n",
    "    print(\"🚗🚗\".join(cities))"
   ]
  },
  {
   "cell_type": "code",
   "execution_count": 87,
   "metadata": {},
   "outputs": [
    {
     "name": "stdout",
     "output_type": "stream",
     "text": [
      "北京🚗🚗太原🚗🚗西安🚗🚗长沙🚗🚗福州\n"
     ]
    }
   ],
   "source": [
    "pretty_print(search('北京','福州',simple_connection_info))"
   ]
  },
  {
   "cell_type": "code",
   "execution_count": 88,
   "metadata": {},
   "outputs": [],
   "source": [
    "from collections import defaultdict\n",
    "threshold = 300\n",
    "city_connection = defaultdict(list)"
   ]
  },
  {
   "cell_type": "code",
   "execution_count": 113,
   "metadata": {},
   "outputs": [],
   "source": [
    "for c1 in city_location:\n",
    "    for c2 in city_location:\n",
    "        if c1 == c2: continue\n",
    "        \n",
    "        distance = get_geo_distance(c1, c2)\n",
    "        \n",
    "        if distance < threshold:\n",
    "            city_connection[c1].append(c2)"
   ]
  },
  {
   "cell_type": "code",
   "execution_count": 115,
   "metadata": {},
   "outputs": [
    {
     "data": {
      "text/plain": [
       "defaultdict(list,\n",
       "            {'香港': ['广州',\n",
       "              '长沙',\n",
       "              '澳门',\n",
       "              '广州',\n",
       "              '长沙',\n",
       "              '澳门',\n",
       "              '广州',\n",
       "              '长沙',\n",
       "              '澳门',\n",
       "              '广州',\n",
       "              '长沙',\n",
       "              '澳门',\n",
       "              '广州',\n",
       "              '长沙',\n",
       "              '澳门',\n",
       "              '广州',\n",
       "              '长沙',\n",
       "              '澳门',\n",
       "              '广州',\n",
       "              '长沙',\n",
       "              '澳门'],\n",
       "             '广州': ['香港',\n",
       "              '香港',\n",
       "              '长沙',\n",
       "              '澳门',\n",
       "              '长沙',\n",
       "              '澳门',\n",
       "              '香港',\n",
       "              '香港',\n",
       "              '长沙',\n",
       "              '澳门',\n",
       "              '长沙',\n",
       "              '澳门',\n",
       "              '香港',\n",
       "              '长沙',\n",
       "              '澳门',\n",
       "              '香港',\n",
       "              '香港',\n",
       "              '长沙',\n",
       "              '澳门',\n",
       "              '长沙',\n",
       "              '澳门'],\n",
       "             '长沙': ['香港',\n",
       "              '武汉',\n",
       "              '郑州',\n",
       "              '广州',\n",
       "              '香港',\n",
       "              '武汉',\n",
       "              '郑州',\n",
       "              '广州',\n",
       "              '澳门',\n",
       "              '澳门',\n",
       "              '香港',\n",
       "              '武汉',\n",
       "              '郑州',\n",
       "              '广州',\n",
       "              '香港',\n",
       "              '武汉',\n",
       "              '郑州',\n",
       "              '广州',\n",
       "              '澳门',\n",
       "              '澳门',\n",
       "              '香港',\n",
       "              '武汉',\n",
       "              '郑州',\n",
       "              '广州',\n",
       "              '澳门',\n",
       "              '香港',\n",
       "              '武汉',\n",
       "              '郑州',\n",
       "              '广州',\n",
       "              '香港',\n",
       "              '武汉',\n",
       "              '郑州',\n",
       "              '广州',\n",
       "              '澳门',\n",
       "              '澳门'],\n",
       "             '澳门': ['香港',\n",
       "              '广州',\n",
       "              '长沙',\n",
       "              '香港',\n",
       "              '广州',\n",
       "              '长沙',\n",
       "              '香港',\n",
       "              '广州',\n",
       "              '长沙',\n",
       "              '香港',\n",
       "              '广州',\n",
       "              '长沙',\n",
       "              '香港',\n",
       "              '广州',\n",
       "              '长沙',\n",
       "              '香港',\n",
       "              '广州',\n",
       "              '长沙',\n",
       "              '香港',\n",
       "              '广州',\n",
       "              '长沙'],\n",
       "             '兰州': ['西宁',\n",
       "              '成都',\n",
       "              '银川',\n",
       "              '西宁',\n",
       "              '成都',\n",
       "              '银川',\n",
       "              '西宁',\n",
       "              '成都',\n",
       "              '银川',\n",
       "              '西宁',\n",
       "              '成都',\n",
       "              '银川',\n",
       "              '西宁',\n",
       "              '成都',\n",
       "              '银川',\n",
       "              '西宁',\n",
       "              '成都',\n",
       "              '银川',\n",
       "              '西宁',\n",
       "              '成都',\n",
       "              '银川'],\n",
       "             '西宁': ['兰州',\n",
       "              '兰州',\n",
       "              '成都',\n",
       "              '拉萨',\n",
       "              '成都',\n",
       "              '拉萨',\n",
       "              '兰州',\n",
       "              '兰州',\n",
       "              '成都',\n",
       "              '拉萨',\n",
       "              '成都',\n",
       "              '拉萨',\n",
       "              '兰州',\n",
       "              '成都',\n",
       "              '拉萨',\n",
       "              '兰州',\n",
       "              '兰州',\n",
       "              '成都',\n",
       "              '拉萨',\n",
       "              '成都',\n",
       "              '拉萨'],\n",
       "             '成都': ['兰州',\n",
       "              '西宁',\n",
       "              '兰州',\n",
       "              '西宁',\n",
       "              '拉萨',\n",
       "              '重庆',\n",
       "              '拉萨',\n",
       "              '重庆',\n",
       "              '兰州',\n",
       "              '西宁',\n",
       "              '兰州',\n",
       "              '西宁',\n",
       "              '拉萨',\n",
       "              '重庆',\n",
       "              '拉萨',\n",
       "              '重庆',\n",
       "              '兰州',\n",
       "              '西宁',\n",
       "              '拉萨',\n",
       "              '重庆',\n",
       "              '兰州',\n",
       "              '西宁',\n",
       "              '兰州',\n",
       "              '西宁',\n",
       "              '拉萨',\n",
       "              '重庆',\n",
       "              '拉萨',\n",
       "              '重庆'],\n",
       "             '银川': ['兰州',\n",
       "              '重庆',\n",
       "              '兰州',\n",
       "              '重庆',\n",
       "              '兰州',\n",
       "              '重庆',\n",
       "              '兰州',\n",
       "              '重庆',\n",
       "              '兰州',\n",
       "              '重庆',\n",
       "              '兰州',\n",
       "              '重庆',\n",
       "              '兰州',\n",
       "              '重庆'],\n",
       "             '拉萨': ['西宁',\n",
       "              '成都',\n",
       "              '西宁',\n",
       "              '成都',\n",
       "              '西宁',\n",
       "              '成都',\n",
       "              '西宁',\n",
       "              '成都',\n",
       "              '西宁',\n",
       "              '成都',\n",
       "              '西宁',\n",
       "              '成都',\n",
       "              '西宁',\n",
       "              '成都'],\n",
       "             '重庆': ['成都',\n",
       "              '贵阳',\n",
       "              '成都',\n",
       "              '贵阳',\n",
       "              '银川',\n",
       "              '银川',\n",
       "              '成都',\n",
       "              '贵阳',\n",
       "              '成都',\n",
       "              '贵阳',\n",
       "              '银川',\n",
       "              '银川',\n",
       "              '成都',\n",
       "              '贵阳',\n",
       "              '银川',\n",
       "              '成都',\n",
       "              '贵阳',\n",
       "              '成都',\n",
       "              '贵阳',\n",
       "              '银川',\n",
       "              '银川'],\n",
       "             '石家庄': ['郑州',\n",
       "              '济南',\n",
       "              '太原',\n",
       "              '北京',\n",
       "              '郑州',\n",
       "              '济南',\n",
       "              '太原',\n",
       "              '北京',\n",
       "              '郑州',\n",
       "              '济南',\n",
       "              '太原',\n",
       "              '北京',\n",
       "              '郑州',\n",
       "              '济南',\n",
       "              '太原',\n",
       "              '北京',\n",
       "              '郑州',\n",
       "              '济南',\n",
       "              '太原',\n",
       "              '北京',\n",
       "              '郑州',\n",
       "              '济南',\n",
       "              '太原',\n",
       "              '北京',\n",
       "              '郑州',\n",
       "              '济南',\n",
       "              '太原',\n",
       "              '北京'],\n",
       "             '郑州': ['石家庄',\n",
       "              '武汉',\n",
       "              '石家庄',\n",
       "              '武汉',\n",
       "              '长沙',\n",
       "              '太原',\n",
       "              '长沙',\n",
       "              '太原',\n",
       "              '石家庄',\n",
       "              '武汉',\n",
       "              '石家庄',\n",
       "              '武汉',\n",
       "              '长沙',\n",
       "              '太原',\n",
       "              '长沙',\n",
       "              '太原',\n",
       "              '石家庄',\n",
       "              '武汉',\n",
       "              '长沙',\n",
       "              '太原',\n",
       "              '石家庄',\n",
       "              '武汉',\n",
       "              '石家庄',\n",
       "              '武汉',\n",
       "              '长沙',\n",
       "              '太原',\n",
       "              '长沙',\n",
       "              '太原'],\n",
       "             '济南': ['石家庄',\n",
       "              '石家庄',\n",
       "              '合肥',\n",
       "              '北京',\n",
       "              '天津',\n",
       "              '合肥',\n",
       "              '北京',\n",
       "              '天津',\n",
       "              '石家庄',\n",
       "              '石家庄',\n",
       "              '合肥',\n",
       "              '北京',\n",
       "              '天津',\n",
       "              '合肥',\n",
       "              '北京',\n",
       "              '天津',\n",
       "              '石家庄',\n",
       "              '合肥',\n",
       "              '北京',\n",
       "              '天津',\n",
       "              '石家庄',\n",
       "              '石家庄',\n",
       "              '合肥',\n",
       "              '北京',\n",
       "              '天津',\n",
       "              '合肥',\n",
       "              '北京',\n",
       "              '天津'],\n",
       "             '太原': ['石家庄',\n",
       "              '郑州',\n",
       "              '石家庄',\n",
       "              '郑州',\n",
       "              '呼和浩特',\n",
       "              '呼和浩特',\n",
       "              '石家庄',\n",
       "              '郑州',\n",
       "              '石家庄',\n",
       "              '郑州',\n",
       "              '呼和浩特',\n",
       "              '呼和浩特',\n",
       "              '石家庄',\n",
       "              '郑州',\n",
       "              '呼和浩特',\n",
       "              '石家庄',\n",
       "              '郑州',\n",
       "              '石家庄',\n",
       "              '郑州',\n",
       "              '呼和浩特',\n",
       "              '呼和浩特'],\n",
       "             '北京': ['石家庄',\n",
       "              '济南',\n",
       "              '石家庄',\n",
       "              '济南',\n",
       "              '天津',\n",
       "              '天津',\n",
       "              '石家庄',\n",
       "              '济南',\n",
       "              '石家庄',\n",
       "              '济南',\n",
       "              '天津',\n",
       "              '天津',\n",
       "              '石家庄',\n",
       "              '济南',\n",
       "              '天津',\n",
       "              '石家庄',\n",
       "              '济南',\n",
       "              '石家庄',\n",
       "              '济南',\n",
       "              '天津',\n",
       "              '天津'],\n",
       "             '贵阳': ['重庆',\n",
       "              '南宁',\n",
       "              '重庆',\n",
       "              '南宁',\n",
       "              '重庆',\n",
       "              '南宁',\n",
       "              '重庆',\n",
       "              '南宁',\n",
       "              '重庆',\n",
       "              '南宁',\n",
       "              '重庆',\n",
       "              '南宁',\n",
       "              '重庆',\n",
       "              '南宁'],\n",
       "             '南宁': ['贵阳',\n",
       "              '海口',\n",
       "              '贵阳',\n",
       "              '海口',\n",
       "              '贵阳',\n",
       "              '海口',\n",
       "              '贵阳',\n",
       "              '海口',\n",
       "              '贵阳',\n",
       "              '海口',\n",
       "              '贵阳',\n",
       "              '海口',\n",
       "              '贵阳',\n",
       "              '海口'],\n",
       "             '武汉': ['郑州',\n",
       "              '南昌',\n",
       "              '长沙',\n",
       "              '郑州',\n",
       "              '南昌',\n",
       "              '长沙',\n",
       "              '郑州',\n",
       "              '南昌',\n",
       "              '长沙',\n",
       "              '郑州',\n",
       "              '南昌',\n",
       "              '长沙',\n",
       "              '郑州',\n",
       "              '南昌',\n",
       "              '长沙',\n",
       "              '郑州',\n",
       "              '南昌',\n",
       "              '长沙',\n",
       "              '郑州',\n",
       "              '南昌',\n",
       "              '长沙'],\n",
       "             '南昌': ['武汉',\n",
       "              '合肥',\n",
       "              '武汉',\n",
       "              '合肥',\n",
       "              '武汉',\n",
       "              '合肥',\n",
       "              '武汉',\n",
       "              '合肥',\n",
       "              '武汉',\n",
       "              '合肥',\n",
       "              '武汉',\n",
       "              '合肥',\n",
       "              '武汉',\n",
       "              '合肥'],\n",
       "             '合肥': ['济南',\n",
       "              '南京',\n",
       "              '济南',\n",
       "              '南京',\n",
       "              '南昌',\n",
       "              '南昌',\n",
       "              '济南',\n",
       "              '南京',\n",
       "              '济南',\n",
       "              '南京',\n",
       "              '南昌',\n",
       "              '南昌',\n",
       "              '济南',\n",
       "              '南京',\n",
       "              '南昌',\n",
       "              '济南',\n",
       "              '南京',\n",
       "              '济南',\n",
       "              '南京',\n",
       "              '南昌',\n",
       "              '南昌'],\n",
       "             '天津': ['济南',\n",
       "              '北京',\n",
       "              '济南',\n",
       "              '北京',\n",
       "              '济南',\n",
       "              '北京',\n",
       "              '济南',\n",
       "              '北京',\n",
       "              '济南',\n",
       "              '北京',\n",
       "              '济南',\n",
       "              '北京',\n",
       "              '济南',\n",
       "              '北京'],\n",
       "             '南京': ['合肥',\n",
       "              '杭州',\n",
       "              '合肥',\n",
       "              '杭州',\n",
       "              '合肥',\n",
       "              '杭州',\n",
       "              '合肥',\n",
       "              '杭州',\n",
       "              '合肥',\n",
       "              '杭州',\n",
       "              '合肥',\n",
       "              '杭州',\n",
       "              '合肥',\n",
       "              '杭州'],\n",
       "             '杭州': ['南京',\n",
       "              '南京',\n",
       "              '福州',\n",
       "              '上海',\n",
       "              '福州',\n",
       "              '上海',\n",
       "              '南京',\n",
       "              '南京',\n",
       "              '福州',\n",
       "              '上海',\n",
       "              '福州',\n",
       "              '上海',\n",
       "              '南京',\n",
       "              '福州',\n",
       "              '上海',\n",
       "              '南京',\n",
       "              '南京',\n",
       "              '福州',\n",
       "              '上海',\n",
       "              '福州',\n",
       "              '上海'],\n",
       "             '福州': ['杭州',\n",
       "              '杭州',\n",
       "              '台湾',\n",
       "              '台湾',\n",
       "              '杭州',\n",
       "              '杭州',\n",
       "              '台湾',\n",
       "              '台湾',\n",
       "              '杭州',\n",
       "              '台湾',\n",
       "              '杭州',\n",
       "              '杭州',\n",
       "              '台湾',\n",
       "              '台湾'],\n",
       "             '上海': ['杭州', '杭州', '杭州', '杭州', '杭州', '杭州', '杭州'],\n",
       "             '台湾': ['福州', '福州', '福州', '福州', '福州', '福州', '福州'],\n",
       "             '海口': ['南宁', '南宁', '南宁', '南宁', '南宁', '南宁', '南宁'],\n",
       "             '沈阳': ['长春', '长春', '长春', '长春', '长春', '长春', '长春'],\n",
       "             '长春': ['沈阳',\n",
       "              '沈阳',\n",
       "              '哈尔滨',\n",
       "              '哈尔滨',\n",
       "              '沈阳',\n",
       "              '沈阳',\n",
       "              '哈尔滨',\n",
       "              '哈尔滨',\n",
       "              '沈阳',\n",
       "              '哈尔滨',\n",
       "              '沈阳',\n",
       "              '沈阳',\n",
       "              '哈尔滨',\n",
       "              '哈尔滨'],\n",
       "             '哈尔滨': ['长春', '长春', '长春', '长春', '长春', '长春', '长春'],\n",
       "             '呼和浩特': ['太原', '太原', '太原', '太原', '太原', '太原', '太原'],\n",
       "             '嘉峪关': [],\n",
       "             '西安': [],\n",
       "             '西藏': [],\n",
       "             '乌鲁木齐': []})"
      ]
     },
     "execution_count": 115,
     "metadata": {},
     "output_type": "execute_result"
    }
   ],
   "source": [
    "city_connection"
   ]
  },
  {
   "cell_type": "code",
   "execution_count": 116,
   "metadata": {},
   "outputs": [],
   "source": [
    "city_with_road = nx.Graph(city_connection)"
   ]
  },
  {
   "cell_type": "code",
   "execution_count": 117,
   "metadata": {},
   "outputs": [
    {
     "name": "stderr",
     "output_type": "stream",
     "text": [
      "/anaconda3/lib/python3.7/site-packages/networkx/drawing/nx_pylab.py:611: MatplotlibDeprecationWarning: isinstance(..., numbers.Number)\n",
      "  if cb.is_numlike(alpha):\n"
     ]
    },
    {
     "data": {
      "image/png": "[encoded data removed]",
      "text/plain": [
       "<Figure size 432x288 with 1 Axes>"
      ]
     },
     "metadata": {},
     "output_type": "display_data"
    }
   ],
   "source": [
    "nx.draw(city_with_road, city_location, with_labels=True, node_size=30)"
   ]
  },
  {
   "cell_type": "code",
   "execution_count": 120,
   "metadata": {},
   "outputs": [
    {
     "name": "stdout",
     "output_type": "stream",
     "text": [
      "北京🚗🚗石家庄🚗🚗郑州🚗🚗长沙🚗🚗香港\n"
     ]
    }
   ],
   "source": [
    "pretty_print(search('北京','香港',city_connection))"
   ]
  },
  {
   "cell_type": "code",
   "execution_count": 119,
   "metadata": {
    "scrolled": true
   },
   "outputs": [
    {
     "ename": "TypeError",
     "evalue": "can only join an iterable",
     "output_type": "error",
     "traceback": [
      "\u001b[0;31m---------------------------------------------------------------------------\u001b[0m",
      "\u001b[0;31mTypeError\u001b[0m                                 Traceback (most recent call last)",
      "\u001b[0;32m<ipython-input-119-a497217d2568>\u001b[0m in \u001b[0;36m<module>\u001b[0;34m\u001b[0m\n\u001b[0;32m----> 1\u001b[0;31m \u001b[0mpretty_print\u001b[0m\u001b[0;34m(\u001b[0m\u001b[0msearch\u001b[0m\u001b[0;34m(\u001b[0m\u001b[0;34m'北京'\u001b[0m\u001b[0;34m,\u001b[0m\u001b[0;34m'西藏'\u001b[0m\u001b[0;34m,\u001b[0m\u001b[0mcity_connection\u001b[0m\u001b[0;34m)\u001b[0m\u001b[0;34m)\u001b[0m\u001b[0;34m\u001b[0m\u001b[0;34m\u001b[0m\u001b[0m\n\u001b[0m",
      "\u001b[0;32m<ipython-input-40-2fb1318905e7>\u001b[0m in \u001b[0;36mpretty_print\u001b[0;34m(cities)\u001b[0m\n\u001b[1;32m      1\u001b[0m \u001b[0;32mdef\u001b[0m \u001b[0mpretty_print\u001b[0m\u001b[0;34m(\u001b[0m\u001b[0mcities\u001b[0m\u001b[0;34m)\u001b[0m\u001b[0;34m:\u001b[0m\u001b[0;34m\u001b[0m\u001b[0;34m\u001b[0m\u001b[0m\n\u001b[0;32m----> 2\u001b[0;31m     \u001b[0mprint\u001b[0m\u001b[0;34m(\u001b[0m\u001b[0;34m\"🚗🚗\"\u001b[0m\u001b[0;34m.\u001b[0m\u001b[0mjoin\u001b[0m\u001b[0;34m(\u001b[0m\u001b[0mcities\u001b[0m\u001b[0;34m)\u001b[0m\u001b[0;34m)\u001b[0m\u001b[0;34m\u001b[0m\u001b[0;34m\u001b[0m\u001b[0m\n\u001b[0m",
      "\u001b[0;31mTypeError\u001b[0m: can only join an iterable"
     ]
    }
   ],
   "source": [
    "pretty_print(search('北京','西藏',city_connection))"
   ]
  },
  {
   "cell_type": "code",
   "execution_count": 127,
   "metadata": {},
   "outputs": [],
   "source": [
    "def transfer_stations_first(pathes):\n",
    "    return sorted(pathes, key=len)"
   ]
  },
  {
   "cell_type": "code",
   "execution_count": 128,
   "metadata": {},
   "outputs": [],
   "source": [
    "def shortest_path_first(pathes):\n",
    "    \n",
    "    if len(pathes) <= 1: return pathes\n",
    "    \n",
    "    def get_path_distance(path):\n",
    "        distance = 0\n",
    "        for station in path[:-1]:\n",
    "            distance += get_geo_distance(station, path[-1])\n",
    "            \n",
    "        return distance\n",
    "    return sorted(pathes, key=get_path_distance)"
   ]
  },
  {
   "cell_type": "code",
   "execution_count": 129,
   "metadata": {},
   "outputs": [],
   "source": [
    "def transfer_as_much_possible(pathes):\n",
    "    return sorted(pathes, key=len, reverse=True)"
   ]
  },
  {
   "cell_type": "code",
   "execution_count": 133,
   "metadata": {},
   "outputs": [
    {
     "name": "stdout",
     "output_type": "stream",
     "text": [
      "北京🚗🚗石家庄🚗🚗郑州🚗🚗武汉🚗🚗长沙🚗🚗香港\n"
     ]
    }
   ],
   "source": [
    "pretty_print(search('北京','香港',city_connection, transfer_as_much_possible))"
   ]
  },
  {
   "cell_type": "code",
   "execution_count": 134,
   "metadata": {},
   "outputs": [
    {
     "name": "stdout",
     "output_type": "stream",
     "text": [
      "北京🚗🚗石家庄🚗🚗郑州🚗🚗长沙🚗🚗香港\n"
     ]
    }
   ],
   "source": [
    "pretty_print(search('北京','香港',city_connection, shortest_path_first))"
   ]
  },
  {
   "cell_type": "code",
   "execution_count": 135,
   "metadata": {},
   "outputs": [
    {
     "name": "stdout",
     "output_type": "stream",
     "text": [
      "北京🚗🚗石家庄🚗🚗郑州🚗🚗长沙🚗🚗香港\n"
     ]
    }
   ],
   "source": [
    "pretty_print(search('北京','香港',city_connection, transfer_stations_first))"
   ]
  },
  {
   "cell_type": "markdown",
   "metadata": {},
   "source": [
    "### depth first search\n",
    "### breath first search"
   ]
  },
  {
   "cell_type": "code",
   "execution_count": 45,
   "metadata": {},
   "outputs": [],
   "source": [
    "# 使用defaultdict，将字典的key做一个类型转换，从而使得在输入一个不存在的key时，不会报错，而是返回一个空类型（实际返回哪个类型在defaultdict()中指定）\n",
    "from collections import defaultdict\n",
    "simple_connection_info_result = defaultdict(list)\n",
    "simple_connection_info_result.update(simple_connection_info)"
   ]
  },
  {
   "cell_type": "code",
   "execution_count": 46,
   "metadata": {},
   "outputs": [
    {
     "ename": "KeyError",
     "evalue": "'澳门'",
     "output_type": "error",
     "traceback": [
      "\u001b[0;31m---------------------------------------------------------------------------\u001b[0m",
      "\u001b[0;31mKeyError\u001b[0m                                  Traceback (most recent call last)",
      "\u001b[0;32m<ipython-input-46-ffad88c574a4>\u001b[0m in \u001b[0;36m<module>\u001b[0;34m\u001b[0m\n\u001b[0;32m----> 1\u001b[0;31m \u001b[0mprint\u001b[0m\u001b[0;34m(\u001b[0m\u001b[0msimple_connection_info\u001b[0m\u001b[0;34m[\u001b[0m\u001b[0;34m'澳门'\u001b[0m\u001b[0;34m]\u001b[0m\u001b[0;34m)\u001b[0m\u001b[0;34m\u001b[0m\u001b[0;34m\u001b[0m\u001b[0m\n\u001b[0m",
      "\u001b[0;31mKeyError\u001b[0m: '澳门'"
     ]
    }
   ],
   "source": [
    "print(simple_connection_info['澳门'])"
   ]
  },
  {
   "cell_type": "code",
   "execution_count": 47,
   "metadata": {},
   "outputs": [
    {
     "name": "stdout",
     "output_type": "stream",
     "text": [
      "[]\n"
     ]
    }
   ],
   "source": [
    "print(simple_connection_info_result['澳门'])"
   ]
  },
  {
   "cell_type": "code",
   "execution_count": 77,
   "metadata": {},
   "outputs": [],
   "source": [
    "number_graph = defaultdict(list)\n",
    "\n",
    "number_graph.update({\n",
    "    1: [2, 3],\n",
    "    2: [1, 4],\n",
    "    3: [1, 5],\n",
    "    4: [2, 6],\n",
    "    5: [3, 7],\n",
    "    6: [4, 8],\n",
    "    7: [5, 9]\n",
    "})"
   ]
  },
  {
   "cell_type": "code",
   "execution_count": 85,
   "metadata": {},
   "outputs": [],
   "source": [
    "def bfs(graph, start):\n",
    "    \"\"\"\n",
    "    breath first search\n",
    "    \"\"\"\n",
    "    \n",
    "    visited = [start]\n",
    "    \n",
    "    seen = set()\n",
    "    \n",
    "    while visited:\n",
    "        froninter = visited.pop()\n",
    "        \n",
    "        if froninter in seen: continue\n",
    "            \n",
    "        for successor in graph[froninter]:\n",
    "            if successor in seen: continue\n",
    "            print(successor)\n",
    "            #visited.append(successor)\n",
    "            \n",
    "            #visited = visited + [successor]    #1\n",
    "            \n",
    "            visited = [successor] + visited    #3\n",
    "            \n",
    "            #1的扩展逻辑是：将新扩展的点放到visited 列表的最后方，下一次执行while循环时，取出最后方的一个点来做遍历，这就实现了深度优先遍历\n",
    "            #2的扩展逻辑则是：将新扩展的点放到visited的最前方，这样下次执行while时，取出的最后方的一个点就是先扩展到的点，这就实现了广度优先遍历\n",
    "            \n",
    "        seen.add(froninter)\n",
    "    return seen"
   ]
  },
  {
   "cell_type": "code",
   "execution_count": 86,
   "metadata": {},
   "outputs": [
    {
     "name": "stdout",
     "output_type": "stream",
     "text": [
      "2\n",
      "3\n",
      "4\n",
      "5\n",
      "6\n",
      "7\n",
      "8\n",
      "9\n"
     ]
    },
    {
     "data": {
      "text/plain": [
       "{1, 2, 3, 4, 5, 6, 7, 8, 9}"
      ]
     },
     "execution_count": 86,
     "metadata": {},
     "output_type": "execute_result"
    }
   ],
   "source": [
    "bfs(number_graph, 1)"
   ]
  },
  {
   "cell_type": "markdown",
   "metadata": {},
   "source": [
    "###  爬虫"
   ]
  },
  {
   "cell_type": "code",
   "execution_count": 136,
   "metadata": {},
   "outputs": [],
   "source": [
    "import requests"
   ]
  },
  {
   "cell_type": "code",
   "execution_count": 141,
   "metadata": {},
   "outputs": [],
   "source": [
    "url = 'https://www.baidu.com'"
   ]
  },
  {
   "cell_type": "code",
   "execution_count": 142,
   "metadata": {},
   "outputs": [],
   "source": [
    "response = requests.get(url)\n",
    "#pattern = re.compile()"
   ]
  },
  {
   "cell_type": "code",
   "execution_count": 144,
   "metadata": {},
   "outputs": [
    {
     "data": {
      "text/plain": [
       "'<!DOCTYPE html>\\r\\n<!--STATUS OK--><html> <head><meta http-equiv=content-type content=text/html;charset=utf-8><meta http-equiv=X-UA-Compatible content=IE=Edge><meta content=always name=referrer><link rel=stylesheet type=text/css href=https://ss1.bdstatic.com/5eN1bjq8AAUYm2zgoY3K/r/www/cache/bdorz/baidu.min.css><title>ç\\x99¾åº¦ä¸\\x80ä¸\\x8bï¼\\x8cä½\\xa0å°±ç\\x9f¥é\\x81\\x93</title></head> <body link=#0000cc> <div id=wrapper> <div id=head> <div class=head_wrapper> <div class=s_form> <div class=s_form_wrapper> <div id=lg> <img hidefocus=true src=//www.baidu.com/img/bd_logo1.png width=270 height=129> </div> <form id=form name=f action=//www.baidu.com/s class=fm> <input type=hidden name=bdorz_come value=1> <input type=hidden name=ie value=utf-8> <input type=hidden name=f value=8> <input type=hidden name=rsv_bp value=1> <input type=hidden name=rsv_idx value=1> <input type=hidden name=tn value=baidu><span class=\"bg s_ipt_wr\"><input id=kw name=wd class=s_ipt value maxlength=255 autocomplete=off autofocus=autofocus></span><span class=\"bg s_btn_wr\"><input type=submit id=su value=ç\\x99¾åº¦ä¸\\x80ä¸\\x8b class=\"bg s_btn\" autofocus></span> </form> </div> </div> <div id=u1> <a href=http://news.baidu.com name=tj_trnews class=mnav>æ\\x96°é\\x97»</a> <a href=https://www.hao123.com name=tj_trhao123 class=mnav>hao123</a> <a href=http://map.baidu.com name=tj_trmap class=mnav>å\\x9c°å\\x9b¾</a> <a href=http://v.baidu.com name=tj_trvideo class=mnav>è§\\x86é¢\\x91</a> <a href=http://tieba.baidu.com name=tj_trtieba class=mnav>è´´å\\x90§</a> <noscript> <a href=http://www.baidu.com/bdorz/login.gif?login&amp;tpl=mn&amp;u=http%3A%2F%2Fwww.baidu.com%2f%3fbdorz_come%3d1 name=tj_login class=lb>ç\\x99»å½\\x95</a> </noscript> <script>document.write(\\'<a href=\"http://www.baidu.com/bdorz/login.gif?login&tpl=mn&u=\\'+ encodeURIComponent(window.location.href+ (window.location.search === \"\" ? \"?\" : \"&\")+ \"bdorz_come=1\")+ \\'\" name=\"tj_login\" class=\"lb\">ç\\x99»å½\\x95</a>\\');\\r\\n                </script> <a href=//www.baidu.com/more/ name=tj_briicon class=bri style=\"display: block;\">æ\\x9b´å¤\\x9aäº§å\\x93\\x81</a> </div> </div> </div> <div id=ftCon> <div id=ftConw> <p id=lh> <a href=http://home.baidu.com>å\\x85³äº\\x8eç\\x99¾åº¦</a> <a href=http://ir.baidu.com>About Baidu</a> </p> <p id=cp>&copy;2017&nbsp;Baidu&nbsp;<a href=http://www.baidu.com/duty/>ä½¿ç\\x94¨ç\\x99¾åº¦å\\x89\\x8då¿\\x85è¯»</a>&nbsp; <a href=http://jianyi.baidu.com/ class=cp-feedback>æ\\x84\\x8fè§\\x81å\\x8f\\x8dé¦\\x88</a>&nbsp;äº¬ICPè¯\\x81030173å\\x8f·&nbsp; <img src=//www.baidu.com/img/gs.gif> </p> </div> </div> </div> </body> </html>\\r\\n'"
      ]
     },
     "execution_count": 144,
     "metadata": {},
     "output_type": "execute_result"
    }
   ],
   "source": [
    "response.text"
   ]
  },
  {
   "cell_type": "code",
   "execution_count": null,
   "metadata": {},
   "outputs": [],
   "source": []
  },
  {
   "cell_type": "code",
   "execution_count": null,
   "metadata": {},
   "outputs": [],
   "source": []
  },
  {
   "cell_type": "markdown",
   "metadata": {},
   "source": [
    "# Machine Learning"
   ]
  },
  {
   "cell_type": "code",
   "execution_count": 149,
   "metadata": {},
   "outputs": [],
   "source": [
    "from sklearn.datasets import load_boston"
   ]
  },
  {
   "cell_type": "code",
   "execution_count": 154,
   "metadata": {},
   "outputs": [],
   "source": [
    "data = load_boston()"
   ]
  },
  {
   "cell_type": "code",
   "execution_count": 155,
   "metadata": {},
   "outputs": [],
   "source": [
    "#help(load_boston)"
   ]
  },
  {
   "cell_type": "code",
   "execution_count": 181,
   "metadata": {},
   "outputs": [
    {
     "data": {
      "text/plain": [
       "array(['CRIM', 'ZN', 'INDUS', 'CHAS', 'NOX', 'RM', 'AGE', 'DIS', 'RAD',\n",
       "       'TAX', 'PTRATIO', 'B', 'LSTAT'], dtype='<U7')"
      ]
     },
     "execution_count": 181,
     "metadata": {},
     "output_type": "execute_result"
    }
   ],
   "source": [
    "data['feature_names']"
   ]
  },
  {
   "cell_type": "code",
   "execution_count": 157,
   "metadata": {},
   "outputs": [],
   "source": [
    "X, y = data['data'], data['target']"
   ]
  },
  {
   "cell_type": "code",
   "execution_count": 158,
   "metadata": {},
   "outputs": [
    {
     "data": {
      "text/plain": [
       "array([2.7310e-02, 0.0000e+00, 7.0700e+00, 0.0000e+00, 4.6900e-01,\n",
       "       6.4210e+00, 7.8900e+01, 4.9671e+00, 2.0000e+00, 2.4200e+02,\n",
       "       1.7800e+01, 3.9690e+02, 9.1400e+00])"
      ]
     },
     "execution_count": 158,
     "metadata": {},
     "output_type": "execute_result"
    }
   ],
   "source": [
    "X[1]"
   ]
  },
  {
   "cell_type": "code",
   "execution_count": 159,
   "metadata": {},
   "outputs": [
    {
     "data": {
      "text/plain": [
       "21.6"
      ]
     },
     "execution_count": 159,
     "metadata": {},
     "output_type": "execute_result"
    }
   ],
   "source": [
    "y[1]"
   ]
  },
  {
   "cell_type": "code",
   "execution_count": 165,
   "metadata": {},
   "outputs": [
    {
     "data": {
      "text/plain": [
       "506"
      ]
     },
     "execution_count": 165,
     "metadata": {},
     "output_type": "execute_result"
    }
   ],
   "source": [
    "len(X[:, 0])"
   ]
  },
  {
   "cell_type": "code",
   "execution_count": 166,
   "metadata": {},
   "outputs": [
    {
     "data": {
      "text/plain": [
       "506"
      ]
     },
     "execution_count": 166,
     "metadata": {},
     "output_type": "execute_result"
    }
   ],
   "source": [
    "len(y)"
   ]
  },
  {
   "cell_type": "code",
   "execution_count": 167,
   "metadata": {},
   "outputs": [],
   "source": [
    "%matplotlib inline"
   ]
  },
  {
   "cell_type": "code",
   "execution_count": 168,
   "metadata": {},
   "outputs": [],
   "source": [
    "def draw_rm_and_price():\n",
    "    plt.scatter(X[:, 5], y)"
   ]
  },
  {
   "cell_type": "code",
   "execution_count": 170,
   "metadata": {},
   "outputs": [
    {
     "data": {
      "image/png": "[encoded data removed]",
      "text/plain": [
       "<Figure size 432x288 with 1 Axes>"
      ]
     },
     "metadata": {
      "needs_background": "light"
     },
     "output_type": "display_data"
    }
   ],
   "source": [
    "draw_rm_and_price()"
   ]
  },
  {
   "cell_type": "code",
   "execution_count": 171,
   "metadata": {},
   "outputs": [],
   "source": [
    "import random"
   ]
  },
  {
   "cell_type": "code",
   "execution_count": 174,
   "metadata": {},
   "outputs": [],
   "source": [
    "def price(rm, k, b):\n",
    "    return k * rm +b"
   ]
  },
  {
   "cell_type": "code",
   "execution_count": 178,
   "metadata": {},
   "outputs": [
    {
     "data": {
      "text/plain": [
       "<matplotlib.collections.PathCollection at 0x1a1dbbbeb8>"
      ]
     },
     "execution_count": 178,
     "metadata": {},
     "output_type": "execute_result"
    },
    {
     "data": {
      "image/png": "[encoded data removed]",
      "text/plain": [
       "<Figure size 432x288 with 1 Axes>"
      ]
     },
     "metadata": {
      "needs_background": "light"
     },
     "output_type": "display_data"
    }
   ],
   "source": [
    "X_rm = X[:, 5]\n",
    "k = random.randint(-100, 100)\n",
    "b = random.randint(-100, 100)\n",
    "price_by_random_k_and_b = [price(r, k, b) for r in X_rm]\n",
    "\n",
    "draw_rm_and_price()\n",
    "plt.scatter(X_rm, price_by_random_k_and_b)"
   ]
  },
  {
   "cell_type": "code",
   "execution_count": 180,
   "metadata": {},
   "outputs": [
    {
     "data": {
      "text/plain": [
       "<matplotlib.collections.PathCollection at 0x1a1dd4bd68>"
      ]
     },
     "execution_count": 180,
     "metadata": {},
     "output_type": "execute_result"
    },
    {
     "data": {
      "image/png": "[encoded data removed]",
      "text/plain": [
       "<Figure size 432x288 with 1 Axes>"
      ]
     },
     "metadata": {
      "needs_background": "light"
     },
     "output_type": "display_data"
    }
   ],
   "source": [
    "X_rm = X[:, 5]\n",
    "k = random.randint(-100, 100)\n",
    "b = random.randint(-100, 100)\n",
    "price_by_random_k_and_b = [price(r, k, b) for r in X_rm]\n",
    "\n",
    "draw_rm_and_price()\n",
    "plt.scatter(X_rm, price_by_random_k_and_b)"
   ]
  },
  {
   "cell_type": "markdown",
   "metadata": {},
   "source": [
    "### loss"
   ]
  },
  {
   "cell_type": "markdown",
   "metadata": {},
   "source": [
    "$$ loss = \\frac{1}{n} \\sum{(y_i - \\hat{y_i})} $$"
   ]
  },
  {
   "cell_type": "code",
   "execution_count": 183,
   "metadata": {},
   "outputs": [],
   "source": [
    "def loss(y, y_hat):     # to evaluate the perfermance\n",
    "    return sum((y_i - y_hat_i)**2 for y_i, y_hat_i in zip(list(y), list(y_hat))) / len(list(y))"
   ]
  },
  {
   "cell_type": "markdown",
   "metadata": {},
   "source": [
    "## First-Method: Random generation: get best k and best b"
   ]
  },
  {
   "cell_type": "code",
   "execution_count": 185,
   "metadata": {},
   "outputs": [],
   "source": [
    "X_rm = X[:, 5]"
   ]
  },
  {
   "cell_type": "code",
   "execution_count": 188,
   "metadata": {},
   "outputs": [
    {
     "name": "stdout",
     "output_type": "stream",
     "text": [
      "Get best_k: -16, best_b: 11, and the loss is: 12917.541451446641\n",
      "Get best_k: 11, best_b: -76, and the loss is: 909.8427286304351\n",
      "Get best_k: -3, best_b: 44, and the loss is: 122.59049372134382\n",
      "Get best_k: 17, best_b: -91, and the loss is: 119.143171903162\n"
     ]
    }
   ],
   "source": [
    "trying_times = 100\n",
    "\n",
    "min_loss = float('inf')\n",
    "best_k, best_b = None, None\n",
    "\n",
    "for i in range(100):\n",
    "    X_rm = X[:, 5]\n",
    "    k = random.randint(-100, 100)\n",
    "    b = random.randint(-100, 100)\n",
    "    price_by_random_k_and_b = [price(r, k, b) for r in X_rm]\n",
    "\n",
    "    current_loss = loss(y, price_by_random_k_and_b)\n",
    "    \n",
    "    if current_loss < min_loss:\n",
    "        min_loss = current_loss\n",
    "        best_k, best_b = k, b\n",
    "        print('Get best_k: {}, best_b: {}, and the loss is: {}'.format(best_k, best_b, min_loss))"
   ]
  },
  {
   "cell_type": "code",
   "execution_count": 207,
   "metadata": {},
   "outputs": [
    {
     "name": "stdout",
     "output_type": "stream",
     "text": [
      "when time is: 0, Get best_k: -70.94029739287717, best_b: 37.605167545394124, and the loss is: 188755.63885800066\n",
      "when time is: 1, Get best_k: 52.11977366575354, best_b: -37.24631746036815, and the loss is: 72658.57800863351\n",
      "when time is: 3, Get best_k: -14.959130668624425, best_b: -83.2062186664058, and the loss is: 40229.581578215984\n",
      "when time is: 5, Get best_k: 31.813319448731903, best_b: 8.48957330333522, and the loss is: 34853.511579054146\n",
      "when time is: 6, Get best_k: 2.3485473661213376, best_b: -22.205482574087654, and the loss is: 964.7847761995365\n",
      "when time is: 61, Get best_k: -10.703081931001776, best_b: 96.49810919659566, and the loss is: 281.7527141721594\n",
      "when time is: 86, Get best_k: 12.351965200013865, best_b: -67.99192340666525, and the loss is: 215.14052036542148\n",
      "when time is: 110, Get best_k: -2.566550484340553, best_b: 43.08487202747972, and the loss is: 130.24091265361488\n",
      "when time is: 191, Get best_k: -2.188754969275948, best_b: 34.19412230545694, and the loss is: 110.79682628356005\n",
      "when time is: 260, Get best_k: 5.311834447585966, best_b: -7.983054425205083, and the loss is: 58.89882913208064\n",
      "when time is: 1022, Get best_k: 10.857342129223, best_b: -44.223542378178735, and the loss is: 47.30318019077012\n",
      "when time is: 3590, Get best_k: 9.273915333794065, best_b: -37.58125948642903, and the loss is: 46.96728454175612\n",
      "when time is: 8979, Get best_k: 7.790173307525009, best_b: -27.986693501421996, and the loss is: 46.885627167257034\n",
      "when time is: 12487, Get best_k: 10.028657399089312, best_b: -40.24289338834129, and the loss is: 44.086399932327296\n",
      "when time is: 23377, Get best_k: 8.636197497358268, best_b: -32.26566625262832, and the loss is: 43.98116660214821\n",
      "when time is: 33775, Get best_k: 8.994123442017909, best_b: -33.6269226065822, and the loss is: 43.739557463758416\n"
     ]
    }
   ],
   "source": [
    "trying_times = 50000\n",
    "\n",
    "min_loss = float('inf')\n",
    "best_k, best_b = None, None\n",
    "\n",
    "for i in range(trying_times):\n",
    "    X_rm = X[:, 5]\n",
    "    k = random.random() * 200 - 100\n",
    "    b = random.random() * 200 - 100\n",
    "    price_by_random_k_and_b = [price(r, k, b) for r in X_rm]\n",
    "\n",
    "    current_loss = loss(y, price_by_random_k_and_b)\n",
    "    \n",
    "    if current_loss < min_loss:\n",
    "        min_loss = current_loss\n",
    "        best_k, best_b = k, b\n",
    "        print('when time is: {}, Get best_k: {}, best_b: {}, and the loss is: {}'.format(i, best_k, best_b, min_loss))"
   ]
  },
  {
   "cell_type": "code",
   "execution_count": 209,
   "metadata": {},
   "outputs": [
    {
     "data": {
      "text/plain": [
       "<matplotlib.collections.PathCollection at 0x1a1df86fd0>"
      ]
     },
     "execution_count": 209,
     "metadata": {},
     "output_type": "execute_result"
    },
    {
     "data": {
      "image/png": "[encoded data removed]",
      "text/plain": [
       "<Figure size 432x288 with 1 Axes>"
      ]
     },
     "metadata": {
      "needs_background": "light"
     },
     "output_type": "display_data"
    }
   ],
   "source": [
    "X_rm = X[:, 5]\n",
    "k = 8\n",
    "b = -32\n",
    "price_by_random_k_and_b = [price(r, k, b) for r in X_rm]\n",
    "\n",
    "draw_rm_and_price()\n",
    "plt.scatter(X_rm, price_by_random_k_and_b)"
   ]
  },
  {
   "cell_type": "markdown",
   "metadata": {},
   "source": [
    "## 2nd-Method: Direction Adjusting"
   ]
  },
  {
   "cell_type": "code",
   "execution_count": 210,
   "metadata": {},
   "outputs": [
    {
     "name": "stdout",
     "output_type": "stream",
     "text": [
      "When time is : 9, get best_k: -41.72086261305937, best_b: 53.84237923862527, and the loss is : 54626.778887589295\n",
      "When time is : 19, get best_k: -40.72086261305935, best_b: 52.842379238625256, and the loss is : 52164.77160420831\n",
      "When time is : 29, get best_k: -39.72086261305934, best_b: 51.84237923862524, and the loss is : 49759.60443247553\n",
      "When time is : 39, get best_k: -38.720862613059325, best_b: 50.84237923862523, and the loss is : 47411.277372391014\n",
      "When time is : 49, get best_k: -37.72086261305931, best_b: 49.84237923862521, and the loss is : 45119.790423954684\n",
      "When time is : 59, get best_k: -36.720862613059296, best_b: 48.8423792386252, and the loss is : 42885.143587166574\n",
      "When time is : 69, get best_k: -35.72086261305928, best_b: 47.842379238625185, and the loss is : 40707.33686202675\n",
      "When time is : 79, get best_k: -34.72086261305927, best_b: 46.84237923862517, and the loss is : 38586.37024853509\n",
      "When time is : 89, get best_k: -33.72086261305925, best_b: 45.842379238625156, and the loss is : 36522.243746691674\n",
      "When time is : 99, get best_k: -32.72086261305924, best_b: 44.84237923862514, and the loss is : 34514.95735649647\n",
      "When time is : 109, get best_k: -31.720862613059225, best_b: 43.84237923862513, and the loss is : 32564.511077949475\n",
      "When time is : 119, get best_k: -30.72086261305921, best_b: 42.842379238625114, and the loss is : 30670.904911050704\n",
      "When time is : 129, get best_k: -29.720862613059197, best_b: 41.8423792386251, and the loss is : 28834.138855800225\n",
      "When time is : 139, get best_k: -28.720862613059182, best_b: 40.842379238625085, and the loss is : 27054.212912197898\n",
      "When time is : 149, get best_k: -27.720862613059168, best_b: 39.84237923862507, and the loss is : 25331.127080243783\n",
      "When time is : 159, get best_k: -26.720862613059154, best_b: 38.84237923862506, and the loss is : 23664.88135993795\n",
      "When time is : 169, get best_k: -25.72086261305914, best_b: 37.84237923862504, and the loss is : 22055.475751280308\n",
      "When time is : 179, get best_k: -24.720862613059126, best_b: 36.84237923862503, and the loss is : 20502.910254270857\n",
      "When time is : 189, get best_k: -23.72086261305911, best_b: 35.842379238625014, and the loss is : 19007.184868909688\n",
      "When time is : 199, get best_k: -22.720862613059097, best_b: 34.842379238625, and the loss is : 17568.299595196735\n",
      "When time is : 209, get best_k: -21.720862613059083, best_b: 33.842379238624986, and the loss is : 16186.254433131975\n",
      "When time is : 219, get best_k: -20.72086261305907, best_b: 32.84237923862497, and the loss is : 14861.049382715466\n",
      "When time is : 229, get best_k: -19.720862613059055, best_b: 31.842379238624957, and the loss is : 13592.684443947157\n",
      "When time is : 239, get best_k: -18.72086261305904, best_b: 30.842379238624943, and the loss is : 12381.159616827073\n",
      "When time is : 249, get best_k: -17.720862613059026, best_b: 29.84237923862493, and the loss is : 11226.474901355214\n",
      "When time is : 259, get best_k: -16.720862613059012, best_b: 28.842379238624915, and the loss is : 10128.630297531583\n",
      "When time is : 269, get best_k: -15.720862613059003, best_b: 27.8423792386249, and the loss is : 9087.625805356194\n",
      "When time is : 279, get best_k: -14.720862613059007, best_b: 26.842379238624886, and the loss is : 8103.461424829016\n",
      "When time is : 289, get best_k: -13.72086261305901, best_b: 25.842379238624872, and the loss is : 7176.137155950079\n",
      "When time is : 299, get best_k: -12.720862613059014, best_b: 24.842379238624858, and the loss is : 6305.65299871935\n",
      "When time is : 309, get best_k: -11.720862613059017, best_b: 23.842379238624844, and the loss is : 5492.008953136844\n",
      "When time is : 319, get best_k: -10.72086261305902, best_b: 22.84237923862483, and the loss is : 4735.20501920256\n",
      "When time is : 329, get best_k: -9.720862613059024, best_b: 21.842379238624815, and the loss is : 4035.2411969164996\n",
      "When time is : 339, get best_k: -8.720862613059028, best_b: 20.8423792386248, and the loss is : 3392.1174862786565\n",
      "When time is : 349, get best_k: -7.720862613059031, best_b: 19.842379238624787, and the loss is : 2805.8338872890317\n",
      "When time is : 359, get best_k: -6.720862613059035, best_b: 18.842379238624773, and the loss is : 2276.3903999476333\n",
      "When time is : 369, get best_k: -5.7208626130590385, best_b: 17.84237923862476, and the loss is : 1803.7870242544514\n",
      "When time is : 379, get best_k: -4.720862613059042, best_b: 16.842379238624744, and the loss is : 1388.0237602094942\n",
      "When time is : 389, get best_k: -3.7208626130590443, best_b: 15.842379238624734, and the loss is : 1029.100607812752\n",
      "When time is : 399, get best_k: -2.7208626130590434, best_b: 14.842379238624737, and the loss is : 727.0175670642287\n",
      "When time is : 409, get best_k: -1.7208626130590425, best_b: 13.84237923862474, and the loss is : 481.7746379639304\n",
      "When time is : 419, get best_k: -0.720862613059042, best_b: 12.842379238624744, and the loss is : 293.37182051185215\n",
      "When time is : 429, get best_k: 0.27913738694095797, best_b: 11.842379238624748, and the loss is : 161.8091147079952\n",
      "When time is : 439, get best_k: 1.2791373869409581, best_b: 10.842379238624751, and the loss is : 87.08652055236004\n"
     ]
    }
   ],
   "source": [
    "trying_times = 2000\n",
    "\n",
    "min_loss = float('inf')\n",
    "\n",
    "best_k = random.random() * 200 - 100\n",
    "best_b = random.random() * 200 - 100\n",
    "\n",
    "direction = [\n",
    "    (+1, +1),\n",
    "    (+1, -1),\n",
    "    (-1, +1),\n",
    "    (-1, -1)\n",
    "]\n",
    "\n",
    "next_direction = random.choice(direction)\n",
    "\n",
    "scalar = 0.1    # 此处可以做优化\n",
    "\n",
    "update_time = 0\n",
    "\n",
    "for i in range(trying_times):\n",
    "    k_direction, b_direction = next_direction\n",
    "    \n",
    "    current_k, current_b = best_k + k_direction * scalar, best_b + b_direction * scalar\n",
    "    \n",
    "    price_by_k_and_b = [price(r, current_k, current_b) for r in X_rm]\n",
    "    \n",
    "    current_loss = loss(y, price_by_k_and_b)\n",
    "    \n",
    "    if current_loss < min_loss:\n",
    "        min_loss = current_loss\n",
    "        best_k, best_b = current_k, current_b\n",
    "        \n",
    "        next_direction = next_direction\n",
    "        update_time += 1\n",
    "        \n",
    "        if update_time % 10 ==0:\n",
    "            print(\"When time is : {}, get best_k: {}, best_b: {}, and the loss is : {}\".format(i, best_k, best_b, min_loss))\n",
    "            \n",
    "    else:\n",
    "        next_direction = random.choice(direction)"
   ]
  },
  {
   "cell_type": "markdown",
   "metadata": {},
   "source": [
    "2nd -> 监督它学习 -> 监督学习"
   ]
  },
  {
   "cell_type": "code",
   "execution_count": null,
   "metadata": {},
   "outputs": [],
   "source": []
  }
 ],
 "metadata": {
  "kernelspec": {
   "display_name": "Python 3",
   "language": "python",
   "name": "python3"
  },
  "language_info": {
   "codemirror_mode": {
    "name": "ipython",
    "version": 3
   },
   "file_extension": ".py",
   "mimetype": "text/x-python",
   "name": "python",
   "nbconvert_exporter": "python",
   "pygments_lexer": "ipython3",
   "version": "3.7.3"
  }
 },
 "nbformat": 4,
 "nbformat_minor": 2
}
