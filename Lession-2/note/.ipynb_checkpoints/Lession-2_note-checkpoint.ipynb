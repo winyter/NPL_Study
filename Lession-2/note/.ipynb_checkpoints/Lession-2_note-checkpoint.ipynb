{
 "cells": [
  {
   "cell_type": "markdown",
   "metadata": {},
   "source": [
    "## Previous Course"
   ]
  },
  {
   "cell_type": "markdown",
   "metadata": {},
   "source": [
    "1、What's the Language Model? OOV Problem?"
   ]
  },
  {
   "cell_type": "markdown",
   "metadata": {},
   "source": [
    "#### Out of Vocabulary(OOV)\n",
    "- 万一当某一个词出现的次数为0时怎么办？\n",
    "- 推荐一种方法，对某一个出现概率为 0 的词设置一个固定的概率，这个概率小于出现次数为 1 的单词的概率\n",
    "$$ Pr(w_0) = constant < Pr(w_1) $$\n",
    "- Language Model：Smooth"
   ]
  },
  {
   "cell_type": "markdown",
   "metadata": {},
   "source": [
    "2、Syntax Tree. lambda"
   ]
  },
  {
   "cell_type": "code",
   "execution_count": 10,
   "metadata": {},
   "outputs": [],
   "source": [
    "import random"
   ]
  },
  {
   "cell_type": "code",
   "execution_count": 11,
   "metadata": {},
   "outputs": [],
   "source": [
    "def adj(): return random.choice(\"蓝色的 | 好看的 | 小小的\".split(\"|\")).split()[0]"
   ]
  },
  {
   "cell_type": "code",
   "execution_count": 12,
   "metadata": {},
   "outputs": [],
   "source": [
    "def adj_star_2():\n",
    "    return random.choice([lambda : '', lambda : adj() + adj_star_2()])()\n",
    "\n",
    "def adj_star():\n",
    "    return random.choice(['', adj() + adj_star()])"
   ]
  },
  {
   "cell_type": "code",
   "execution_count": 13,
   "metadata": {},
   "outputs": [
    {
     "data": {
      "text/plain": [
       "'好看的'"
      ]
     },
     "execution_count": 13,
     "metadata": {},
     "output_type": "execute_result"
    }
   ],
   "source": [
    "adj_star_2()"
   ]
  },
  {
   "cell_type": "code",
   "execution_count": 14,
   "metadata": {},
   "outputs": [
    {
     "ename": "RecursionError",
     "evalue": "maximum recursion depth exceeded while calling a Python object",
     "output_type": "error",
     "traceback": [
      "\u001b[0;31m---------------------------------------------------------------------------\u001b[0m",
      "\u001b[0;31mRecursionError\u001b[0m                            Traceback (most recent call last)",
      "\u001b[0;32m<ipython-input-14-58803c6c2578>\u001b[0m in \u001b[0;36m<module>\u001b[0;34m\u001b[0m\n\u001b[0;32m----> 1\u001b[0;31m \u001b[0madj_star\u001b[0m\u001b[0;34m(\u001b[0m\u001b[0;34m)\u001b[0m\u001b[0;34m\u001b[0m\u001b[0;34m\u001b[0m\u001b[0m\n\u001b[0m",
      "\u001b[0;32m<ipython-input-12-dfd88301ba16>\u001b[0m in \u001b[0;36madj_star\u001b[0;34m()\u001b[0m\n\u001b[1;32m      3\u001b[0m \u001b[0;34m\u001b[0m\u001b[0m\n\u001b[1;32m      4\u001b[0m \u001b[0;32mdef\u001b[0m \u001b[0madj_star\u001b[0m\u001b[0;34m(\u001b[0m\u001b[0;34m)\u001b[0m\u001b[0;34m:\u001b[0m\u001b[0;34m\u001b[0m\u001b[0;34m\u001b[0m\u001b[0m\n\u001b[0;32m----> 5\u001b[0;31m     \u001b[0;32mreturn\u001b[0m \u001b[0mrandom\u001b[0m\u001b[0;34m.\u001b[0m\u001b[0mchoice\u001b[0m\u001b[0;34m(\u001b[0m\u001b[0;34m[\u001b[0m\u001b[0;34m''\u001b[0m\u001b[0;34m,\u001b[0m \u001b[0madj\u001b[0m\u001b[0;34m(\u001b[0m\u001b[0;34m)\u001b[0m \u001b[0;34m+\u001b[0m \u001b[0madj_star\u001b[0m\u001b[0;34m(\u001b[0m\u001b[0;34m)\u001b[0m\u001b[0;34m]\u001b[0m\u001b[0;34m)\u001b[0m\u001b[0;34m\u001b[0m\u001b[0;34m\u001b[0m\u001b[0m\n\u001b[0m",
      "... last 1 frames repeated, from the frame below ...\n",
      "\u001b[0;32m<ipython-input-12-dfd88301ba16>\u001b[0m in \u001b[0;36madj_star\u001b[0;34m()\u001b[0m\n\u001b[1;32m      3\u001b[0m \u001b[0;34m\u001b[0m\u001b[0m\n\u001b[1;32m      4\u001b[0m \u001b[0;32mdef\u001b[0m \u001b[0madj_star\u001b[0m\u001b[0;34m(\u001b[0m\u001b[0;34m)\u001b[0m\u001b[0;34m:\u001b[0m\u001b[0;34m\u001b[0m\u001b[0;34m\u001b[0m\u001b[0m\n\u001b[0;32m----> 5\u001b[0;31m     \u001b[0;32mreturn\u001b[0m \u001b[0mrandom\u001b[0m\u001b[0;34m.\u001b[0m\u001b[0mchoice\u001b[0m\u001b[0;34m(\u001b[0m\u001b[0;34m[\u001b[0m\u001b[0;34m''\u001b[0m\u001b[0;34m,\u001b[0m \u001b[0madj\u001b[0m\u001b[0;34m(\u001b[0m\u001b[0;34m)\u001b[0m \u001b[0;34m+\u001b[0m \u001b[0madj_star\u001b[0m\u001b[0;34m(\u001b[0m\u001b[0;34m)\u001b[0m\u001b[0;34m]\u001b[0m\u001b[0;34m)\u001b[0m\u001b[0;34m\u001b[0m\u001b[0;34m\u001b[0m\u001b[0m\n\u001b[0m",
      "\u001b[0;31mRecursionError\u001b[0m: maximum recursion depth exceeded while calling a Python object"
     ]
    }
   ],
   "source": [
    "adj_star()"
   ]
  },
  {
   "cell_type": "markdown",
   "metadata": {},
   "source": [
    "如以上看到，使用adj_star()时，会出现死循环，导致递归深度超出限制\n",
    "\n",
    "解决方法是使用lambda，lambda是一个定义函数的东西，在这里，使用lambda可以让函数在选择到adj_star_2()时，才会运行\n",
    "\n",
    "也就是说，在adj_star()中，不管choice选择的是前面的‘’ 还是后面的函数，里面所有的东西都会执行一遍，而在adj_star_2中，只有当choice选择lambda时，才会执行lambda里面的内容"
   ]
  },
  {
   "cell_type": "markdown",
   "metadata": {},
   "source": [
    "##  Search Policy"
   ]
  },
  {
   "cell_type": "code",
   "execution_count": 15,
   "metadata": {},
   "outputs": [],
   "source": [
    "coordination_source = \"\"\"\n",
    "{name:'兰州', geoCoord:[103.73, 36.03]},\n",
    "{name:'嘉峪关', geoCoord:[98.17, 39.47]},\n",
    "{name:'西宁', geoCoord:[101.74, 36.56]},\n",
    "{name:'成都', geoCoord:[104.06, 30.67]},\n",
    "{name:'石家庄', geoCoord:[114.48, 38.03]},\n",
    "{name:'拉萨', geoCoord:[102.73, 25.04]},\n",
    "{name:'贵阳', geoCoord:[106.71, 26.57]},\n",
    "{name:'武汉', geoCoord:[114.31, 30.52]},\n",
    "{name:'郑州', geoCoord:[113.65, 34.76]},\n",
    "{name:'济南', geoCoord:[117, 36.65]},\n",
    "{name:'南京', geoCoord:[118.78, 32.04]},\n",
    "{name:'合肥', geoCoord:[117.27, 31.86]},\n",
    "{name:'杭州', geoCoord:[120.19, 30.26]},\n",
    "{name:'南昌', geoCoord:[115.89, 28.68]},\n",
    "{name:'福州', geoCoord:[119.3, 26.08]},\n",
    "{name:'广州', geoCoord:[113.23, 23.16]},\n",
    "{name:'长沙', geoCoord:[113, 28.21]},\n",
    "//{name:'海口', geoCoord:[110.35, 20.02]},\n",
    "{name:'沈阳', geoCoord:[123.38, 41.8]},\n",
    "{name:'长春', geoCoord:[125.35, 43.88]},\n",
    "{name:'哈尔滨', geoCoord:[126.63, 45.75]},\n",
    "{name:'太原', geoCoord:[112.53, 37.87]},\n",
    "{name:'西安', geoCoord:[108.95, 34.27]},\n",
    "//{name:'台湾', geoCoord:[121.30, 25.03]},\n",
    "{name:'北京', geoCoord:[116.46, 39.92]},\n",
    "{name:'上海', geoCoord:[121.48, 31.22]},\n",
    "{name:'重庆', geoCoord:[106.54, 29.59]},\n",
    "{name:'天津', geoCoord:[117.2, 39.13]},\n",
    "{name:'呼和浩特', geoCoord:[111.65, 40.82]},\n",
    "{name:'南宁', geoCoord:[108.33, 22.84]},\n",
    "//{name:'西藏', geoCoord:[91.11, 29.97]},\n",
    "{name:'银川', geoCoord:[106.27, 38.47]},\n",
    "{name:'乌鲁木齐', geoCoord:[87.68, 43.77]},\n",
    "{name:'香港', geoCoord:[114.17, 22.28]},\n",
    "{name:'澳门', geoCoord:[113.54, 22.19]}\n",
    "\"\"\""
   ]
  },
  {
   "cell_type": "code",
   "execution_count": 16,
   "metadata": {},
   "outputs": [],
   "source": [
    "city_location = {\n",
    "    '香港':(114.17,22.28)\n",
    "}"
   ]
  },
  {
   "cell_type": "code",
   "execution_count": 17,
   "metadata": {},
   "outputs": [
    {
     "data": {
      "text/plain": [
       "{'香港': (114.17, 22.28)}"
      ]
     },
     "execution_count": 17,
     "metadata": {},
     "output_type": "execute_result"
    }
   ],
   "source": [
    "city_location"
   ]
  },
  {
   "cell_type": "code",
   "execution_count": 18,
   "metadata": {},
   "outputs": [],
   "source": [
    "test_string = \"{name:'兰州', geoCoord:[103.73, 36.03]}\""
   ]
  },
  {
   "cell_type": "code",
   "execution_count": 19,
   "metadata": {},
   "outputs": [],
   "source": [
    "import re  #导入正则表达式包"
   ]
  },
  {
   "cell_type": "code",
   "execution_count": 20,
   "metadata": {},
   "outputs": [],
   "source": [
    "pattern = re.compile(r\"name:'(\\w+)',\\s+geoCoord:\\[(\\d+.\\d+),\\s(\\d+.\\d+)\\]\")"
   ]
  },
  {
   "cell_type": "code",
   "execution_count": 21,
   "metadata": {},
   "outputs": [],
   "source": [
    "for line in coordination_source.split('\\n'):\n",
    "    city_info = pattern.findall(line)\n",
    "    if not city_info: continue\n",
    "        \n",
    "    # following : we find the city info\n",
    "    \n",
    "    city, long, lat = city_info[0]\n",
    "    \n",
    "    long, lat = float(long), float(lat)\n",
    "    city_location[city] = (long, lat)"
   ]
  },
  {
   "cell_type": "code",
   "execution_count": 22,
   "metadata": {},
   "outputs": [
    {
     "data": {
      "text/plain": [
       "{'香港': (114.17, 22.28),\n",
       " '兰州': (103.73, 36.03),\n",
       " '嘉峪关': (98.17, 39.47),\n",
       " '西宁': (101.74, 36.56),\n",
       " '成都': (104.06, 30.67),\n",
       " '石家庄': (114.48, 38.03),\n",
       " '拉萨': (102.73, 25.04),\n",
       " '贵阳': (106.71, 26.57),\n",
       " '武汉': (114.31, 30.52),\n",
       " '郑州': (113.65, 34.76),\n",
       " '济南': (117.0, 36.65),\n",
       " '南京': (118.78, 32.04),\n",
       " '合肥': (117.27, 31.86),\n",
       " '杭州': (120.19, 30.26),\n",
       " '南昌': (115.89, 28.68),\n",
       " '福州': (119.3, 26.08),\n",
       " '广州': (113.23, 23.16),\n",
       " '长沙': (113.0, 28.21),\n",
       " '海口': (110.35, 20.02),\n",
       " '沈阳': (123.38, 41.8),\n",
       " '长春': (125.35, 43.88),\n",
       " '哈尔滨': (126.63, 45.75),\n",
       " '太原': (112.53, 37.87),\n",
       " '西安': (108.95, 34.27),\n",
       " '台湾': (121.3, 25.03),\n",
       " '北京': (116.46, 39.92),\n",
       " '上海': (121.48, 31.22),\n",
       " '重庆': (106.54, 29.59),\n",
       " '天津': (117.2, 39.13),\n",
       " '呼和浩特': (111.65, 40.82),\n",
       " '南宁': (108.33, 22.84),\n",
       " '西藏': (91.11, 29.97),\n",
       " '银川': (106.27, 38.47),\n",
       " '乌鲁木齐': (87.68, 43.77),\n",
       " '澳门': (113.54, 22.19)}"
      ]
     },
     "execution_count": 22,
     "metadata": {},
     "output_type": "execute_result"
    }
   ],
   "source": [
    "city_location"
   ]
  },
  {
   "cell_type": "code",
   "execution_count": 23,
   "metadata": {},
   "outputs": [],
   "source": [
    "import math"
   ]
  },
  {
   "cell_type": "code",
   "execution_count": 24,
   "metadata": {},
   "outputs": [],
   "source": [
    "def geo_distance(origin, destination):\n",
    "    \"\"\"\n",
    "    Calculate the Haversine distance.\n",
    "\n",
    "    Parameters\n",
    "    ----------\n",
    "    origin : tuple of float\n",
    "        (lat, long)\n",
    "    destination : tuple of float\n",
    "        (lat, long)\n",
    "\n",
    "    Returns\n",
    "    -------\n",
    "    distance_in_km : float\n",
    "\n",
    "    Examples\n",
    "    --------\n",
    "    >>> origin = (48.1372, 11.5756)  # Munich\n",
    "    >>> destination = (52.5186, 13.4083)  # Berlin\n",
    "    >>> round(distance(origin, destination), 1)\n",
    "    504.2\n",
    "    \"\"\"\n",
    "    lat1, lon1 = origin\n",
    "    lat2, lon2 = destination\n",
    "    radius = 6371  # km\n",
    "\n",
    "    dlat = math.radians(lat2 - lat1)\n",
    "    dlon = math.radians(lon2 - lon1)\n",
    "    a = (math.sin(dlat / 2) * math.sin(dlat / 2) +\n",
    "         math.cos(math.radians(lat1)) * math.cos(math.radians(lat2)) *\n",
    "         math.sin(dlon / 2) * math.sin(dlon / 2))\n",
    "    c = 2 * math.atan2(math.sqrt(a), math.sqrt(1 - a))\n",
    "    d = radius * c\n",
    "    \n",
    "    return d"
   ]
  },
  {
   "cell_type": "code",
   "execution_count": 25,
   "metadata": {},
   "outputs": [],
   "source": [
    "def get_geo_distance(city1, city2):\n",
    "    return geo_distance(city_location[city1], city_location[city2])"
   ]
  },
  {
   "cell_type": "code",
   "execution_count": 26,
   "metadata": {},
   "outputs": [
    {
     "data": {
      "text/plain": [
       "153.5185697155768"
      ]
     },
     "execution_count": 26,
     "metadata": {},
     "output_type": "execute_result"
    }
   ],
   "source": [
    "get_geo_distance('上海', '杭州')"
   ]
  },
  {
   "cell_type": "code",
   "execution_count": 27,
   "metadata": {},
   "outputs": [],
   "source": [
    "import networkx as nx"
   ]
  },
  {
   "cell_type": "code",
   "execution_count": 28,
   "metadata": {},
   "outputs": [],
   "source": [
    "city_graph = nx.Graph()"
   ]
  },
  {
   "cell_type": "code",
   "execution_count": 29,
   "metadata": {},
   "outputs": [],
   "source": [
    "city_graph.add_nodes_from(list(city_location.keys()))"
   ]
  },
  {
   "cell_type": "code",
   "execution_count": 30,
   "metadata": {},
   "outputs": [],
   "source": [
    "%matplotlib inline"
   ]
  },
  {
   "cell_type": "code",
   "execution_count": 31,
   "metadata": {},
   "outputs": [],
   "source": [
    "from matplotlib.font_manager import _rebuild\n",
    "_rebuild()"
   ]
  },
  {
   "cell_type": "code",
   "execution_count": 32,
   "metadata": {},
   "outputs": [],
   "source": [
    "import matplotlib.pyplot as plt\n",
    "plt.rcParams['font.sans-serif'] = [u'SimHei']\n",
    "plt.rcParams['axes.unicode_minus'] = False"
   ]
  },
  {
   "cell_type": "code",
   "execution_count": 33,
   "metadata": {},
   "outputs": [
    {
     "data": {
      "image/png": "[encoded data removed]",
      "text/plain": [
       "<Figure size 432x288 with 1 Axes>"
      ]
     },
     "metadata": {},
     "output_type": "display_data"
    }
   ],
   "source": [
    "nx.draw(city_graph, city_location, with_labels=True, node_size=30)"
   ]
  },
  {
   "cell_type": "code",
   "execution_count": 34,
   "metadata": {},
   "outputs": [],
   "source": [
    "simple_connection_info = {\n",
    "    '北京':['太原','沈阳'],\n",
    "    '沈阳':['北京'],\n",
    "    '太原':['北京','西安','郑州'],\n",
    "    '郑州':['太原'],\n",
    "    '兰州':['西安'],\n",
    "    '西安':['兰州','长沙'],\n",
    "    '长沙':['福州','南宁']\n",
    "}"
   ]
  },
  {
   "cell_type": "code",
   "execution_count": 35,
   "metadata": {},
   "outputs": [
    {
     "name": "stderr",
     "output_type": "stream",
     "text": [
      "/anaconda3/lib/python3.7/site-packages/networkx/drawing/nx_pylab.py:611: MatplotlibDeprecationWarning: isinstance(..., numbers.Number)\n",
      "  if cb.is_numlike(alpha):\n"
     ]
    },
    {
     "data": {
      "image/png": "[encoded data removed]",
      "text/plain": [
       "<Figure size 432x288 with 1 Axes>"
      ]
     },
     "metadata": {},
     "output_type": "display_data"
    }
   ],
   "source": [
    "nx.draw(nx.Graph(simple_connection_info), city_location, with_labels=True, node_size=30)"
   ]
  },
  {
   "cell_type": "code",
   "execution_count": 36,
   "metadata": {},
   "outputs": [],
   "source": [
    "# 广度优先遍历\n",
    "def search(city1, city2, connection_grpah, sort_candidate):\n",
    "    pathes = [[city1]]\n",
    "    visited = set()\n",
    "    \n",
    "    while pathes:\n",
    "#        print(pathes)\n",
    "        path = pathes.pop(0)\n",
    "#        print(path)\n",
    "        froninter = path[-1]\n",
    "        \n",
    "        if froninter in visited: continue\n",
    "        \n",
    "        successors = connection_grpah[froninter]\n",
    "        \n",
    "        for city in successors:\n",
    "            if city in path: continue  # eliminate loop\n",
    "            new_path = path + [city]\n",
    "            pathes.append(new_path)\n",
    "            \n",
    "            if city == city2: return new_path\n",
    "            \n",
    "        visited.add(froninter)\n",
    "        \n",
    "        pathes = sort_candidate(pathes)   #这里可以自定义排序函数"
   ]
  },
  {
   "cell_type": "code",
   "execution_count": 37,
   "metadata": {},
   "outputs": [
    {
     "ename": "TypeError",
     "evalue": "search() missing 1 required positional argument: 'sort_candidate'",
     "output_type": "error",
     "traceback": [
      "\u001b[0;31m---------------------------------------------------------------------------\u001b[0m",
      "\u001b[0;31mTypeError\u001b[0m                                 Traceback (most recent call last)",
      "\u001b[0;32m<ipython-input-37-4e66238e4660>\u001b[0m in \u001b[0;36m<module>\u001b[0;34m\u001b[0m\n\u001b[0;32m----> 1\u001b[0;31m \u001b[0msearch\u001b[0m\u001b[0;34m(\u001b[0m\u001b[0;34m'北京'\u001b[0m\u001b[0;34m,\u001b[0m\u001b[0;34m'福州'\u001b[0m\u001b[0;34m,\u001b[0m\u001b[0msimple_connection_info\u001b[0m\u001b[0;34m)\u001b[0m\u001b[0;34m\u001b[0m\u001b[0;34m\u001b[0m\u001b[0m\n\u001b[0m",
      "\u001b[0;31mTypeError\u001b[0m: search() missing 1 required positional argument: 'sort_candidate'"
     ]
    }
   ],
   "source": [
    "search('北京','福州',simple_connection_info)"
   ]
  },
  {
   "cell_type": "code",
   "execution_count": 38,
   "metadata": {},
   "outputs": [],
   "source": [
    "def pretty_print(cities):\n",
    "    print(\"🚗🚗\".join(cities))"
   ]
  },
  {
   "cell_type": "code",
   "execution_count": 39,
   "metadata": {},
   "outputs": [
    {
     "ename": "TypeError",
     "evalue": "search() missing 1 required positional argument: 'sort_candidate'",
     "output_type": "error",
     "traceback": [
      "\u001b[0;31m---------------------------------------------------------------------------\u001b[0m",
      "\u001b[0;31mTypeError\u001b[0m                                 Traceback (most recent call last)",
      "\u001b[0;32m<ipython-input-39-38a08cdfa3d8>\u001b[0m in \u001b[0;36m<module>\u001b[0;34m\u001b[0m\n\u001b[0;32m----> 1\u001b[0;31m \u001b[0mpretty_print\u001b[0m\u001b[0;34m(\u001b[0m\u001b[0msearch\u001b[0m\u001b[0;34m(\u001b[0m\u001b[0;34m'北京'\u001b[0m\u001b[0;34m,\u001b[0m\u001b[0;34m'福州'\u001b[0m\u001b[0;34m,\u001b[0m\u001b[0msimple_connection_info\u001b[0m\u001b[0;34m)\u001b[0m\u001b[0;34m)\u001b[0m\u001b[0;34m\u001b[0m\u001b[0;34m\u001b[0m\u001b[0m\n\u001b[0m",
      "\u001b[0;31mTypeError\u001b[0m: search() missing 1 required positional argument: 'sort_candidate'"
     ]
    }
   ],
   "source": [
    "pretty_print(search('北京','福州',simple_connection_info))"
   ]
  },
  {
   "cell_type": "code",
   "execution_count": 40,
   "metadata": {},
   "outputs": [],
   "source": [
    "from collections import defaultdict\n",
    "threshold = 300\n",
    "city_connection = defaultdict(list)"
   ]
  },
  {
   "cell_type": "code",
   "execution_count": 41,
   "metadata": {},
   "outputs": [],
   "source": [
    "for c1 in city_location:\n",
    "    for c2 in city_location:\n",
    "        if c1 == c2: continue\n",
    "        \n",
    "        distance = get_geo_distance(c1, c2)\n",
    "        \n",
    "        if distance < threshold:\n",
    "            city_connection[c1].append(c2)"
   ]
  },
  {
   "cell_type": "code",
   "execution_count": 42,
   "metadata": {},
   "outputs": [
    {
     "data": {
      "text/plain": [
       "defaultdict(list,\n",
       "            {'香港': ['广州', '长沙', '澳门'],\n",
       "             '兰州': ['西宁', '成都', '银川'],\n",
       "             '西宁': ['兰州', '成都', '拉萨'],\n",
       "             '成都': ['兰州', '西宁', '拉萨', '重庆'],\n",
       "             '石家庄': ['郑州', '济南', '太原', '北京'],\n",
       "             '拉萨': ['西宁', '成都'],\n",
       "             '贵阳': ['重庆', '南宁'],\n",
       "             '武汉': ['郑州', '南昌', '长沙'],\n",
       "             '郑州': ['石家庄', '武汉', '长沙', '太原'],\n",
       "             '济南': ['石家庄', '合肥', '北京', '天津'],\n",
       "             '南京': ['合肥', '杭州'],\n",
       "             '合肥': ['济南', '南京', '南昌'],\n",
       "             '杭州': ['南京', '福州', '上海'],\n",
       "             '南昌': ['武汉', '合肥'],\n",
       "             '福州': ['杭州', '台湾'],\n",
       "             '广州': ['香港', '长沙', '澳门'],\n",
       "             '长沙': ['香港', '武汉', '郑州', '广州', '澳门'],\n",
       "             '海口': ['南宁'],\n",
       "             '沈阳': ['长春'],\n",
       "             '长春': ['沈阳', '哈尔滨'],\n",
       "             '哈尔滨': ['长春'],\n",
       "             '太原': ['石家庄', '郑州', '呼和浩特'],\n",
       "             '台湾': ['福州'],\n",
       "             '北京': ['石家庄', '济南', '天津'],\n",
       "             '上海': ['杭州'],\n",
       "             '重庆': ['成都', '贵阳', '银川'],\n",
       "             '天津': ['济南', '北京'],\n",
       "             '呼和浩特': ['太原'],\n",
       "             '南宁': ['贵阳', '海口'],\n",
       "             '银川': ['兰州', '重庆'],\n",
       "             '澳门': ['香港', '广州', '长沙']})"
      ]
     },
     "execution_count": 42,
     "metadata": {},
     "output_type": "execute_result"
    }
   ],
   "source": [
    "city_connection"
   ]
  },
  {
   "cell_type": "code",
   "execution_count": 43,
   "metadata": {},
   "outputs": [],
   "source": [
    "city_with_road = nx.Graph(city_connection)"
   ]
  },
  {
   "cell_type": "code",
   "execution_count": 44,
   "metadata": {},
   "outputs": [
    {
     "data": {
      "image/png": "[encoded data removed]",
      "text/plain": [
       "<Figure size 432x288 with 1 Axes>"
      ]
     },
     "metadata": {},
     "output_type": "display_data"
    }
   ],
   "source": [
    "nx.draw(city_with_road, city_location, with_labels=True, node_size=30)"
   ]
  },
  {
   "cell_type": "code",
   "execution_count": 45,
   "metadata": {},
   "outputs": [
    {
     "ename": "TypeError",
     "evalue": "search() missing 1 required positional argument: 'sort_candidate'",
     "output_type": "error",
     "traceback": [
      "\u001b[0;31m---------------------------------------------------------------------------\u001b[0m",
      "\u001b[0;31mTypeError\u001b[0m                                 Traceback (most recent call last)",
      "\u001b[0;32m<ipython-input-45-f0d16b233eeb>\u001b[0m in \u001b[0;36m<module>\u001b[0;34m\u001b[0m\n\u001b[0;32m----> 1\u001b[0;31m \u001b[0mpretty_print\u001b[0m\u001b[0;34m(\u001b[0m\u001b[0msearch\u001b[0m\u001b[0;34m(\u001b[0m\u001b[0;34m'北京'\u001b[0m\u001b[0;34m,\u001b[0m\u001b[0;34m'香港'\u001b[0m\u001b[0;34m,\u001b[0m\u001b[0mcity_connection\u001b[0m\u001b[0;34m)\u001b[0m\u001b[0;34m)\u001b[0m\u001b[0;34m\u001b[0m\u001b[0;34m\u001b[0m\u001b[0m\n\u001b[0m",
      "\u001b[0;31mTypeError\u001b[0m: search() missing 1 required positional argument: 'sort_candidate'"
     ]
    }
   ],
   "source": [
    "pretty_print(search('北京','香港',city_connection))"
   ]
  },
  {
   "cell_type": "code",
   "execution_count": 46,
   "metadata": {
    "scrolled": true
   },
   "outputs": [
    {
     "ename": "TypeError",
     "evalue": "search() missing 1 required positional argument: 'sort_candidate'",
     "output_type": "error",
     "traceback": [
      "\u001b[0;31m---------------------------------------------------------------------------\u001b[0m",
      "\u001b[0;31mTypeError\u001b[0m                                 Traceback (most recent call last)",
      "\u001b[0;32m<ipython-input-46-a497217d2568>\u001b[0m in \u001b[0;36m<module>\u001b[0;34m\u001b[0m\n\u001b[0;32m----> 1\u001b[0;31m \u001b[0mpretty_print\u001b[0m\u001b[0;34m(\u001b[0m\u001b[0msearch\u001b[0m\u001b[0;34m(\u001b[0m\u001b[0;34m'北京'\u001b[0m\u001b[0;34m,\u001b[0m\u001b[0;34m'西藏'\u001b[0m\u001b[0;34m,\u001b[0m\u001b[0mcity_connection\u001b[0m\u001b[0;34m)\u001b[0m\u001b[0;34m)\u001b[0m\u001b[0;34m\u001b[0m\u001b[0;34m\u001b[0m\u001b[0m\n\u001b[0m",
      "\u001b[0;31mTypeError\u001b[0m: search() missing 1 required positional argument: 'sort_candidate'"
     ]
    }
   ],
   "source": [
    "pretty_print(search('北京','西藏',city_connection))"
   ]
  },
  {
   "cell_type": "code",
   "execution_count": 47,
   "metadata": {},
   "outputs": [],
   "source": [
    "def transfer_stations_first(pathes):\n",
    "    return sorted(pathes, key=len)"
   ]
  },
  {
   "cell_type": "code",
   "execution_count": 48,
   "metadata": {},
   "outputs": [],
   "source": [
    "def shortest_path_first(pathes):\n",
    "    \n",
    "    if len(pathes) <= 1: return pathes\n",
    "    \n",
    "    def get_path_distance(path):\n",
    "        distance = 0\n",
    "        for station in path[:-1]:\n",
    "            distance += get_geo_distance(station, path[-1])\n",
    "            \n",
    "        return distance\n",
    "    return sorted(pathes, key=get_path_distance)"
   ]
  },
  {
   "cell_type": "code",
   "execution_count": 49,
   "metadata": {},
   "outputs": [],
   "source": [
    "def transfer_as_much_possible(pathes):\n",
    "    return sorted(pathes, key=len, reverse=True)"
   ]
  },
  {
   "cell_type": "code",
   "execution_count": 50,
   "metadata": {},
   "outputs": [
    {
     "name": "stdout",
     "output_type": "stream",
     "text": [
      "北京🚗🚗石家庄🚗🚗郑州🚗🚗武汉🚗🚗长沙🚗🚗香港\n"
     ]
    }
   ],
   "source": [
    "pretty_print(search('北京','香港',city_connection, transfer_as_much_possible))"
   ]
  },
  {
   "cell_type": "code",
   "execution_count": 51,
   "metadata": {},
   "outputs": [
    {
     "name": "stdout",
     "output_type": "stream",
     "text": [
      "北京🚗🚗石家庄🚗🚗郑州🚗🚗长沙🚗🚗香港\n"
     ]
    }
   ],
   "source": [
    "pretty_print(search('北京','香港',city_connection, shortest_path_first))"
   ]
  },
  {
   "cell_type": "code",
   "execution_count": 52,
   "metadata": {},
   "outputs": [
    {
     "name": "stdout",
     "output_type": "stream",
     "text": [
      "北京🚗🚗石家庄🚗🚗郑州🚗🚗长沙🚗🚗香港\n"
     ]
    }
   ],
   "source": [
    "pretty_print(search('北京','香港',city_connection, transfer_stations_first))"
   ]
  },
  {
   "cell_type": "markdown",
   "metadata": {},
   "source": [
    "### depth first search\n",
    "### breath first search"
   ]
  },
  {
   "cell_type": "code",
   "execution_count": 53,
   "metadata": {},
   "outputs": [],
   "source": [
    "# 使用defaultdict，将字典的key做一个类型转换，从而使得在输入一个不存在的key时，不会报错，而是返回一个空类型（实际返回哪个类型在defaultdict()中指定）\n",
    "from collections import defaultdict\n",
    "simple_connection_info_result = defaultdict(list)\n",
    "simple_connection_info_result.update(simple_connection_info)"
   ]
  },
  {
   "cell_type": "code",
   "execution_count": 54,
   "metadata": {},
   "outputs": [
    {
     "ename": "KeyError",
     "evalue": "'澳门'",
     "output_type": "error",
     "traceback": [
      "\u001b[0;31m---------------------------------------------------------------------------\u001b[0m",
      "\u001b[0;31mKeyError\u001b[0m                                  Traceback (most recent call last)",
      "\u001b[0;32m<ipython-input-54-ffad88c574a4>\u001b[0m in \u001b[0;36m<module>\u001b[0;34m\u001b[0m\n\u001b[0;32m----> 1\u001b[0;31m \u001b[0mprint\u001b[0m\u001b[0;34m(\u001b[0m\u001b[0msimple_connection_info\u001b[0m\u001b[0;34m[\u001b[0m\u001b[0;34m'澳门'\u001b[0m\u001b[0;34m]\u001b[0m\u001b[0;34m)\u001b[0m\u001b[0;34m\u001b[0m\u001b[0;34m\u001b[0m\u001b[0m\n\u001b[0m",
      "\u001b[0;31mKeyError\u001b[0m: '澳门'"
     ]
    }
   ],
   "source": [
    "print(simple_connection_info['澳门'])"
   ]
  },
  {
   "cell_type": "code",
   "execution_count": 55,
   "metadata": {},
   "outputs": [
    {
     "name": "stdout",
     "output_type": "stream",
     "text": [
      "[]\n"
     ]
    }
   ],
   "source": [
    "print(simple_connection_info_result['澳门'])"
   ]
  },
  {
   "cell_type": "code",
   "execution_count": 56,
   "metadata": {},
   "outputs": [],
   "source": [
    "number_graph = defaultdict(list)\n",
    "\n",
    "number_graph.update({\n",
    "    1: [2, 3],\n",
    "    2: [1, 4],\n",
    "    3: [1, 5],\n",
    "    4: [2, 6],\n",
    "    5: [3, 7],\n",
    "    6: [4, 8],\n",
    "    7: [5, 9]\n",
    "})"
   ]
  },
  {
   "cell_type": "code",
   "execution_count": 57,
   "metadata": {},
   "outputs": [],
   "source": [
    "def bfs(graph, start):\n",
    "    \"\"\"\n",
    "    breath first search\n",
    "    \"\"\"\n",
    "    \n",
    "    visited = [start]\n",
    "    \n",
    "    seen = set()\n",
    "    \n",
    "    while visited:\n",
    "        froninter = visited.pop()\n",
    "        \n",
    "        if froninter in seen: continue\n",
    "            \n",
    "        for successor in graph[froninter]:\n",
    "            if successor in seen: continue\n",
    "            print(successor)\n",
    "            #visited.append(successor)\n",
    "            \n",
    "            #visited = visited + [successor]    #1\n",
    "            \n",
    "            visited = [successor] + visited    #3\n",
    "            \n",
    "            #1的扩展逻辑是：将新扩展的点放到visited 列表的最后方，下一次执行while循环时，取出最后方的一个点来做遍历，这就实现了深度优先遍历\n",
    "            #2的扩展逻辑则是：将新扩展的点放到visited的最前方，这样下次执行while时，取出的最后方的一个点就是先扩展到的点，这就实现了广度优先遍历\n",
    "            \n",
    "        seen.add(froninter)\n",
    "    return seen"
   ]
  },
  {
   "cell_type": "code",
   "execution_count": 58,
   "metadata": {},
   "outputs": [
    {
     "name": "stdout",
     "output_type": "stream",
     "text": [
      "2\n",
      "3\n",
      "4\n",
      "5\n",
      "6\n",
      "7\n",
      "8\n",
      "9\n"
     ]
    },
    {
     "data": {
      "text/plain": [
       "{1, 2, 3, 4, 5, 6, 7, 8, 9}"
      ]
     },
     "execution_count": 58,
     "metadata": {},
     "output_type": "execute_result"
    }
   ],
   "source": [
    "bfs(number_graph, 1)"
   ]
  },
  {
   "cell_type": "markdown",
   "metadata": {},
   "source": [
    "###  爬虫"
   ]
  },
  {
   "cell_type": "code",
   "execution_count": 59,
   "metadata": {},
   "outputs": [],
   "source": [
    "import requests"
   ]
  },
  {
   "cell_type": "code",
   "execution_count": 60,
   "metadata": {},
   "outputs": [],
   "source": [
    "url = 'https://www.baidu.com'"
   ]
  },
  {
   "cell_type": "code",
   "execution_count": 61,
   "metadata": {},
   "outputs": [],
   "source": [
    "response = requests.get(url)\n",
    "#pattern = re.compile()"
   ]
  },
  {
   "cell_type": "code",
   "execution_count": 62,
   "metadata": {},
   "outputs": [
    {
     "data": {
      "text/plain": [
       "'<!DOCTYPE html>\\r\\n<!--STATUS OK--><html> <head><meta http-equiv=content-type content=text/html;charset=utf-8><meta http-equiv=X-UA-Compatible content=IE=Edge><meta content=always name=referrer><link rel=stylesheet type=text/css href=https://ss1.bdstatic.com/5eN1bjq8AAUYm2zgoY3K/r/www/cache/bdorz/baidu.min.css><title>ç\\x99¾åº¦ä¸\\x80ä¸\\x8bï¼\\x8cä½\\xa0å°±ç\\x9f¥é\\x81\\x93</title></head> <body link=#0000cc> <div id=wrapper> <div id=head> <div class=head_wrapper> <div class=s_form> <div class=s_form_wrapper> <div id=lg> <img hidefocus=true src=//www.baidu.com/img/bd_logo1.png width=270 height=129> </div> <form id=form name=f action=//www.baidu.com/s class=fm> <input type=hidden name=bdorz_come value=1> <input type=hidden name=ie value=utf-8> <input type=hidden name=f value=8> <input type=hidden name=rsv_bp value=1> <input type=hidden name=rsv_idx value=1> <input type=hidden name=tn value=baidu><span class=\"bg s_ipt_wr\"><input id=kw name=wd class=s_ipt value maxlength=255 autocomplete=off autofocus=autofocus></span><span class=\"bg s_btn_wr\"><input type=submit id=su value=ç\\x99¾åº¦ä¸\\x80ä¸\\x8b class=\"bg s_btn\" autofocus></span> </form> </div> </div> <div id=u1> <a href=http://news.baidu.com name=tj_trnews class=mnav>æ\\x96°é\\x97»</a> <a href=https://www.hao123.com name=tj_trhao123 class=mnav>hao123</a> <a href=http://map.baidu.com name=tj_trmap class=mnav>å\\x9c°å\\x9b¾</a> <a href=http://v.baidu.com name=tj_trvideo class=mnav>è§\\x86é¢\\x91</a> <a href=http://tieba.baidu.com name=tj_trtieba class=mnav>è´´å\\x90§</a> <noscript> <a href=http://www.baidu.com/bdorz/login.gif?login&amp;tpl=mn&amp;u=http%3A%2F%2Fwww.baidu.com%2f%3fbdorz_come%3d1 name=tj_login class=lb>ç\\x99»å½\\x95</a> </noscript> <script>document.write(\\'<a href=\"http://www.baidu.com/bdorz/login.gif?login&tpl=mn&u=\\'+ encodeURIComponent(window.location.href+ (window.location.search === \"\" ? \"?\" : \"&\")+ \"bdorz_come=1\")+ \\'\" name=\"tj_login\" class=\"lb\">ç\\x99»å½\\x95</a>\\');\\r\\n                </script> <a href=//www.baidu.com/more/ name=tj_briicon class=bri style=\"display: block;\">æ\\x9b´å¤\\x9aäº§å\\x93\\x81</a> </div> </div> </div> <div id=ftCon> <div id=ftConw> <p id=lh> <a href=http://home.baidu.com>å\\x85³äº\\x8eç\\x99¾åº¦</a> <a href=http://ir.baidu.com>About Baidu</a> </p> <p id=cp>&copy;2017&nbsp;Baidu&nbsp;<a href=http://www.baidu.com/duty/>ä½¿ç\\x94¨ç\\x99¾åº¦å\\x89\\x8då¿\\x85è¯»</a>&nbsp; <a href=http://jianyi.baidu.com/ class=cp-feedback>æ\\x84\\x8fè§\\x81å\\x8f\\x8dé¦\\x88</a>&nbsp;äº¬ICPè¯\\x81030173å\\x8f·&nbsp; <img src=//www.baidu.com/img/gs.gif> </p> </div> </div> </div> </body> </html>\\r\\n'"
      ]
     },
     "execution_count": 62,
     "metadata": {},
     "output_type": "execute_result"
    }
   ],
   "source": [
    "response.text"
   ]
  },
  {
   "cell_type": "code",
   "execution_count": null,
   "metadata": {},
   "outputs": [],
   "source": []
  },
  {
   "cell_type": "code",
   "execution_count": null,
   "metadata": {},
   "outputs": [],
   "source": []
  },
  {
   "cell_type": "markdown",
   "metadata": {},
   "source": [
    "# Machine Learning"
   ]
  },
  {
   "cell_type": "code",
   "execution_count": 63,
   "metadata": {},
   "outputs": [],
   "source": [
    "from sklearn.datasets import load_boston"
   ]
  },
  {
   "cell_type": "code",
   "execution_count": 64,
   "metadata": {},
   "outputs": [],
   "source": [
    "data = load_boston()"
   ]
  },
  {
   "cell_type": "code",
   "execution_count": 65,
   "metadata": {},
   "outputs": [],
   "source": [
    "#help(load_boston)"
   ]
  },
  {
   "cell_type": "code",
   "execution_count": 66,
   "metadata": {},
   "outputs": [
    {
     "data": {
      "text/plain": [
       "array(['CRIM', 'ZN', 'INDUS', 'CHAS', 'NOX', 'RM', 'AGE', 'DIS', 'RAD',\n",
       "       'TAX', 'PTRATIO', 'B', 'LSTAT'], dtype='<U7')"
      ]
     },
     "execution_count": 66,
     "metadata": {},
     "output_type": "execute_result"
    }
   ],
   "source": [
    "data['feature_names']"
   ]
  },
  {
   "cell_type": "code",
   "execution_count": 67,
   "metadata": {},
   "outputs": [],
   "source": [
    "X, y = data['data'], data['target']"
   ]
  },
  {
   "cell_type": "code",
   "execution_count": 68,
   "metadata": {},
   "outputs": [
    {
     "data": {
      "text/plain": [
       "array([2.7310e-02, 0.0000e+00, 7.0700e+00, 0.0000e+00, 4.6900e-01,\n",
       "       6.4210e+00, 7.8900e+01, 4.9671e+00, 2.0000e+00, 2.4200e+02,\n",
       "       1.7800e+01, 3.9690e+02, 9.1400e+00])"
      ]
     },
     "execution_count": 68,
     "metadata": {},
     "output_type": "execute_result"
    }
   ],
   "source": [
    "X[1]"
   ]
  },
  {
   "cell_type": "code",
   "execution_count": 69,
   "metadata": {},
   "outputs": [
    {
     "data": {
      "text/plain": [
       "21.6"
      ]
     },
     "execution_count": 69,
     "metadata": {},
     "output_type": "execute_result"
    }
   ],
   "source": [
    "y[1]"
   ]
  },
  {
   "cell_type": "code",
   "execution_count": 70,
   "metadata": {},
   "outputs": [
    {
     "data": {
      "text/plain": [
       "506"
      ]
     },
     "execution_count": 70,
     "metadata": {},
     "output_type": "execute_result"
    }
   ],
   "source": [
    "len(X[:, 0])"
   ]
  },
  {
   "cell_type": "code",
   "execution_count": 71,
   "metadata": {},
   "outputs": [
    {
     "data": {
      "text/plain": [
       "506"
      ]
     },
     "execution_count": 71,
     "metadata": {},
     "output_type": "execute_result"
    }
   ],
   "source": [
    "len(y)"
   ]
  },
  {
   "cell_type": "code",
   "execution_count": 72,
   "metadata": {},
   "outputs": [],
   "source": [
    "%matplotlib inline"
   ]
  },
  {
   "cell_type": "code",
   "execution_count": 73,
   "metadata": {},
   "outputs": [],
   "source": [
    "def draw_rm_and_price():\n",
    "    plt.scatter(X[:, 5], y)"
   ]
  },
  {
   "cell_type": "code",
   "execution_count": 74,
   "metadata": {},
   "outputs": [
    {
     "data": {
      "image/png": "[encoded data removed]",
      "text/plain": [
       "<Figure size 432x288 with 1 Axes>"
      ]
     },
     "metadata": {
      "needs_background": "light"
     },
     "output_type": "display_data"
    }
   ],
   "source": [
    "draw_rm_and_price()"
   ]
  },
  {
   "cell_type": "code",
   "execution_count": 75,
   "metadata": {},
   "outputs": [],
   "source": [
    "import random"
   ]
  },
  {
   "cell_type": "code",
   "execution_count": 76,
   "metadata": {},
   "outputs": [],
   "source": [
    "def price(rm, k, b):\n",
    "    return k * rm +b"
   ]
  },
  {
   "cell_type": "code",
   "execution_count": 77,
   "metadata": {},
   "outputs": [
    {
     "data": {
      "text/plain": [
       "<matplotlib.collections.PathCollection at 0x1a14e8bfd0>"
      ]
     },
     "execution_count": 77,
     "metadata": {},
     "output_type": "execute_result"
    },
    {
     "data": {
      "image/png": "[encoded data removed]",
      "text/plain": [
       "<Figure size 432x288 with 1 Axes>"
      ]
     },
     "metadata": {
      "needs_background": "light"
     },
     "output_type": "display_data"
    }
   ],
   "source": [
    "X_rm = X[:, 5]\n",
    "k = random.randint(-100, 100)\n",
    "b = random.randint(-100, 100)\n",
    "price_by_random_k_and_b = [price(r, k, b) for r in X_rm]\n",
    "\n",
    "draw_rm_and_price()\n",
    "plt.scatter(X_rm, price_by_random_k_and_b)"
   ]
  },
  {
   "cell_type": "code",
   "execution_count": 78,
   "metadata": {},
   "outputs": [
    {
     "data": {
      "text/plain": [
       "<matplotlib.collections.PathCollection at 0x1a14d4a978>"
      ]
     },
     "execution_count": 78,
     "metadata": {},
     "output_type": "execute_result"
    },
    {
     "data": {
      "image/png": "[encoded data removed]",
      "text/plain": [
       "<Figure size 432x288 with 1 Axes>"
      ]
     },
     "metadata": {
      "needs_background": "light"
     },
     "output_type": "display_data"
    }
   ],
   "source": [
    "X_rm = X[:, 5]\n",
    "k = random.randint(-100, 100)\n",
    "b = random.randint(-100, 100)\n",
    "price_by_random_k_and_b = [price(r, k, b) for r in X_rm]\n",
    "\n",
    "draw_rm_and_price()\n",
    "plt.scatter(X_rm, price_by_random_k_and_b)"
   ]
  },
  {
   "cell_type": "markdown",
   "metadata": {},
   "source": [
    "### loss"
   ]
  },
  {
   "cell_type": "markdown",
   "metadata": {},
   "source": [
    "$$ loss = \\frac{1}{n} \\sum{(y_i - \\hat{y_i})}^2 $$\n",
    "\n",
    "---\n",
    "\n",
    "$$ loss = \\frac{1}{n} \\sum{(y_i - (kx_i + b_i))}^2 $$\n",
    "\n",
    "$$ \\frac{\\partial{loss}}{\\partial{k}} = -\\frac{2}{n} \\sum{(y_i - (kx_i + b_i))x_i} $$\n",
    "\n",
    "$$ \\frac{\\partial{loss}}{\\partial{k}} = -\\frac{2}{n} \\sum{(y_i - \\hat{y_i})x_i} $$\n",
    "\n",
    "$$ \\frac{\\partial{loss}}{\\partial{b}} = -\\frac{2}{n} \\sum{(y_i - (kx_i + b_i))} $$\n",
    "\n",
    "$$ \\frac{\\partial{loss}}{\\partial{b}} = -\\frac{2}{n} \\sum{(y_i - \\hat{y_i})} $$"
   ]
  },
  {
   "cell_type": "code",
   "execution_count": 79,
   "metadata": {},
   "outputs": [],
   "source": [
    "def loss(y, y_hat):     # to evaluate the perfermance\n",
    "    return sum((y_i - y_hat_i)**2 for y_i, y_hat_i in zip(list(y), list(y_hat))) / len(list(y))"
   ]
  },
  {
   "cell_type": "code",
   "execution_count": 80,
   "metadata": {},
   "outputs": [
    {
     "name": "stdout",
     "output_type": "stream",
     "text": [
      "1 3 a\n",
      "2 4 b\n"
     ]
    }
   ],
   "source": [
    "# zip的作用\n",
    "for x, y, z in zip([1, 2], [3, 4], ['a', 'b']):\n",
    "    print(x, y, z)"
   ]
  },
  {
   "cell_type": "markdown",
   "metadata": {},
   "source": [
    "## First-Method: Random generation: get best k and best b"
   ]
  },
  {
   "cell_type": "code",
   "execution_count": 81,
   "metadata": {},
   "outputs": [],
   "source": [
    "X_rm = X[:, 5]"
   ]
  },
  {
   "cell_type": "code",
   "execution_count": 90,
   "metadata": {},
   "outputs": [
    {
     "name": "stdout",
     "output_type": "stream",
     "text": [
      "Get best_k: 18, best_b: 25, and the loss is: 13443.798178711451\n",
      "Get best_k: 17, best_b: -86, and the loss is: 77.20295451185773\n",
      "Get best_k: 6, best_b: -20, and the loss is: 71.62242231620547\n",
      "Get best_k: 5, best_b: -8, and the loss is: 52.684031966403175\n"
     ]
    }
   ],
   "source": [
    "trying_times = 100\n",
    "\n",
    "min_loss = float('inf')\n",
    "best_k, best_b = None, None\n",
    "\n",
    "for i in range(100):\n",
    "    X_rm = X[:, 5]\n",
    "    k = random.randint(-100, 100)\n",
    "    b = random.randint(-100, 100)\n",
    "    price_by_random_k_and_b = [price(r, k, b) for r in X_rm]\n",
    "\n",
    "    current_loss = loss(y, price_by_random_k_and_b)\n",
    "    \n",
    "    if current_loss < min_loss:\n",
    "        min_loss = current_loss\n",
    "        best_k, best_b = k, b\n",
    "        print('Get best_k: {}, best_b: {}, and the loss is: {}'.format(best_k, best_b, min_loss))"
   ]
  },
  {
   "cell_type": "code",
   "execution_count": 91,
   "metadata": {},
   "outputs": [
    {
     "name": "stdout",
     "output_type": "stream",
     "text": [
      "when time is: 0, Get best_k: -89.20304221088875, best_b: -69.19101990995493, and the loss is: 430342.4315821382\n",
      "when time is: 1, Get best_k: -29.151985980344648, best_b: 72.37809882769943, and the loss is: 18550.63025810218\n",
      "when time is: 4, Get best_k: 14.156589315090343, best_b: -1.706516529406585, and the loss is: 4246.117368752157\n",
      "when time is: 21, Get best_k: -3.3905746619974195, best_b: 21.257146725822068, and the loss is: 630.539350913703\n",
      "when time is: 37, Get best_k: 3.3724528010150863, best_b: 17.801474499216013, and the loss is: 330.8155036976526\n",
      "when time is: 124, Get best_k: 1.3114373624479043, best_b: 28.515918561928032, and the loss is: 275.855570011061\n",
      "when time is: 147, Get best_k: 0.5483581001169711, best_b: 29.548189681614872, and the loss is: 189.09476989664782\n",
      "when time is: 157, Get best_k: 2.835746210149722, best_b: 5.864107798461845, and the loss is: 64.27661051294433\n",
      "when time is: 198, Get best_k: 4.609695458802477, best_b: -3.4674093494578813, and the loss is: 62.36512530175104\n",
      "when time is: 1951, Get best_k: 8.252750820929734, best_b: -28.689170854807927, and the loss is: 44.370136095668066\n",
      "when time is: 20002, Get best_k: 9.138286462736204, best_b: -35.07714210753868, and the loss is: 43.6332945939434\n"
     ]
    }
   ],
   "source": [
    "trying_times = 50000\n",
    "\n",
    "min_loss = float('inf')\n",
    "best_k, best_b = None, None\n",
    "\n",
    "for i in range(trying_times):\n",
    "    X_rm = X[:, 5]\n",
    "    k = random.random() * 200 - 100\n",
    "    b = random.random() * 200 - 100\n",
    "    price_by_random_k_and_b = [price(r, k, b) for r in X_rm]\n",
    "\n",
    "    current_loss = loss(y, price_by_random_k_and_b)\n",
    "    \n",
    "    if current_loss < min_loss:\n",
    "        min_loss = current_loss\n",
    "        best_k, best_b = k, b\n",
    "        print('when time is: {}, Get best_k: {}, best_b: {}, and the loss is: {}'.format(i, best_k, best_b, min_loss))"
   ]
  },
  {
   "cell_type": "code",
   "execution_count": 92,
   "metadata": {},
   "outputs": [
    {
     "data": {
      "text/plain": [
       "<matplotlib.collections.PathCollection at 0x1a18a87630>"
      ]
     },
     "execution_count": 92,
     "metadata": {},
     "output_type": "execute_result"
    },
    {
     "data": {
      "image/png": "[encoded data removed]",
      "text/plain": [
       "<Figure size 432x288 with 1 Axes>"
      ]
     },
     "metadata": {
      "needs_background": "light"
     },
     "output_type": "display_data"
    }
   ],
   "source": [
    "X_rm = X[:, 5]\n",
    "k = 8\n",
    "b = -32\n",
    "price_by_random_k_and_b = [price(r, k, b) for r in X_rm]\n",
    "\n",
    "draw_rm_and_price()\n",
    "plt.scatter(X_rm, price_by_random_k_and_b)"
   ]
  },
  {
   "cell_type": "markdown",
   "metadata": {},
   "source": [
    "## 2nd-Method: Direction Adjusting"
   ]
  },
  {
   "cell_type": "code",
   "execution_count": 93,
   "metadata": {},
   "outputs": [
    {
     "name": "stdout",
     "output_type": "stream",
     "text": [
      "When time is : 9, get best_k: -96.98094171773711, best_b: 43.976996182878295, and the loss is : 351385.79617673525\n",
      "When time is : 19, get best_k: -95.98094171773717, best_b: 42.97699618287828, and the loss is : 345094.47131370514\n",
      "When time is : 29, get best_k: -94.98094171773722, best_b: 41.97699618287827, and the loss is : 338859.98656232294\n",
      "When time is : 39, get best_k: -93.98094171773728, best_b: 40.97699618287825, and the loss is : 332682.34192258934\n",
      "When time is : 49, get best_k: -92.98094171773734, best_b: 39.97699618287824, and the loss is : 326561.5373945036\n",
      "When time is : 59, get best_k: -91.9809417177374, best_b: 38.976996182878224, and the loss is : 320497.57297806616\n",
      "When time is : 69, get best_k: -90.98094171773745, best_b: 37.97699618287821, and the loss is : 314490.4486732769\n",
      "When time is : 79, get best_k: -89.98094171773751, best_b: 36.976996182878196, and the loss is : 308540.16448013607\n",
      "When time is : 89, get best_k: -88.98094171773756, best_b: 35.97699618287818, and the loss is : 302646.7203986434\n",
      "When time is : 99, get best_k: -87.98094171773762, best_b: 34.97699618287817, and the loss is : 296810.11642879865\n",
      "When time is : 109, get best_k: -86.98094171773768, best_b: 33.97699618287815, and the loss is : 291030.3525706023\n",
      "When time is : 119, get best_k: -85.98094171773774, best_b: 32.97699618287814, and the loss is : 285307.4288240544\n",
      "When time is : 129, get best_k: -84.98094171773779, best_b: 31.976996182878125, and the loss is : 279641.34518915444\n",
      "When time is : 139, get best_k: -83.98094171773785, best_b: 30.97699618287811, and the loss is : 274032.1016659029\n",
      "When time is : 149, get best_k: -82.9809417177379, best_b: 29.976996182878096, and the loss is : 268479.698254299\n",
      "When time is : 159, get best_k: -81.98094171773796, best_b: 28.976996182878082, and the loss is : 262984.1349543441\n",
      "When time is : 169, get best_k: -80.98094171773802, best_b: 27.976996182878068, and the loss is : 257545.41176603673\n",
      "When time is : 179, get best_k: -79.98094171773808, best_b: 26.976996182878054, and the loss is : 252163.528689378\n",
      "When time is : 189, get best_k: -78.98094171773813, best_b: 25.97699618287804, and the loss is : 246838.48572436773\n",
      "When time is : 199, get best_k: -77.98094171773819, best_b: 24.976996182878025, and the loss is : 241570.28287100507\n",
      "When time is : 209, get best_k: -76.98094171773825, best_b: 23.97699618287801, and the loss is : 236358.9201292909\n",
      "When time is : 219, get best_k: -75.9809417177383, best_b: 22.976996182877997, and the loss is : 231204.39749922502\n",
      "When time is : 229, get best_k: -74.98094171773836, best_b: 21.976996182877983, and the loss is : 226106.71498080724\n",
      "When time is : 239, get best_k: -73.98094171773842, best_b: 20.97699618287797, and the loss is : 221065.87257403758\n",
      "When time is : 249, get best_k: -72.98094171773847, best_b: 19.976996182877954, and the loss is : 216081.87027891626\n",
      "When time is : 259, get best_k: -71.98094171773853, best_b: 18.97699618287794, and the loss is : 211154.7080954431\n",
      "When time is : 269, get best_k: -70.98094171773859, best_b: 17.976996182877926, and the loss is : 206284.38602361805\n",
      "When time is : 279, get best_k: -69.98094171773865, best_b: 16.97699618287791, and the loss is : 201470.90406344118\n",
      "When time is : 289, get best_k: -68.9809417177387, best_b: 15.9769961828779, and the loss is : 196714.2622149131\n",
      "When time is : 299, get best_k: -67.98094171773876, best_b: 14.976996182877903, and the loss is : 192014.4604780325\n",
      "When time is : 309, get best_k: -66.98094171773882, best_b: 13.976996182877906, and the loss is : 187371.4988528007\n",
      "When time is : 319, get best_k: -65.98094171773887, best_b: 12.97699618287791, and the loss is : 182785.37733921662\n",
      "When time is : 329, get best_k: -64.98094171773893, best_b: 11.976996182877913, and the loss is : 178256.09593728094\n",
      "When time is : 339, get best_k: -63.98094171773898, best_b: 10.976996182877917, and the loss is : 173783.6546469935\n",
      "When time is : 349, get best_k: -62.980941717738965, best_b: 9.97699618287792, and the loss is : 169368.05346835384\n",
      "When time is : 359, get best_k: -61.98094171773895, best_b: 8.976996182877924, and the loss is : 165009.2924013626\n",
      "When time is : 369, get best_k: -60.980941717738936, best_b: 7.976996182877928, and the loss is : 160707.37144601948\n",
      "When time is : 379, get best_k: -59.98094171773892, best_b: 6.976996182877931, and the loss is : 156462.2906023247\n",
      "When time is : 389, get best_k: -58.98094171773891, best_b: 5.976996182877935, and the loss is : 152274.04987027787\n",
      "When time is : 399, get best_k: -57.980941717738894, best_b: 4.976996182877938, and the loss is : 148142.6492498794\n",
      "When time is : 409, get best_k: -56.98094171773888, best_b: 3.9769961828779414, and the loss is : 144068.08874112924\n",
      "When time is : 419, get best_k: -55.980941717738865, best_b: 2.9769961828779405, and the loss is : 140050.36834402723\n",
      "When time is : 429, get best_k: -54.98094171773885, best_b: 1.9769961828779397, and the loss is : 136089.4880585734\n",
      "When time is : 439, get best_k: -53.98094171773884, best_b: 0.9769961828779389, and the loss is : 132185.44788476764\n",
      "When time is : 449, get best_k: -52.98094171773882, best_b: -0.023003817122060982, and the loss is : 128338.24782261034\n",
      "When time is : 459, get best_k: -51.98094171773881, best_b: -1.023003817122061, and the loss is : 124547.8878721013\n",
      "When time is : 469, get best_k: -50.980941717738794, best_b: -2.0230038171220617, and the loss is : 120814.36803324039\n",
      "When time is : 479, get best_k: -49.98094171773878, best_b: -3.0230038171220626, and the loss is : 117137.68830602775\n",
      "When time is : 489, get best_k: -48.980941717738766, best_b: -4.0230038171220635, and the loss is : 113517.84869046324\n",
      "When time is : 499, get best_k: -47.98094171773875, best_b: -5.02300381712206, and the loss is : 109954.8491865469\n",
      "When time is : 509, get best_k: -46.98094171773874, best_b: -6.023003817122056, and the loss is : 106448.6897942789\n",
      "When time is : 519, get best_k: -45.98094171773872, best_b: -7.023003817122053, and the loss is : 102999.37051365912\n",
      "When time is : 529, get best_k: -44.98094171773871, best_b: -8.02300381712205, and the loss is : 99606.89134468757\n",
      "When time is : 539, get best_k: -43.980941717738695, best_b: -9.023003817122046, and the loss is : 96271.25228736422\n",
      "When time is : 549, get best_k: -42.98094171773868, best_b: -10.023003817122042, and the loss is : 92992.45334168912\n",
      "When time is : 559, get best_k: -41.980941717738666, best_b: -11.023003817122039, and the loss is : 89770.49450766212\n",
      "When time is : 569, get best_k: -40.98094171773865, best_b: -12.023003817122035, and the loss is : 86605.3757852835\n",
      "When time is : 579, get best_k: -39.98094171773864, best_b: -13.023003817122031, and the loss is : 83497.09717455304\n",
      "When time is : 589, get best_k: -38.980941717738624, best_b: -14.023003817122028, and the loss is : 80445.65867547078\n",
      "When time is : 599, get best_k: -37.98094171773861, best_b: -15.023003817122024, and the loss is : 77451.06028803685\n",
      "When time is : 609, get best_k: -36.980941717738595, best_b: -16.02300381712202, and the loss is : 74513.302012251\n",
      "When time is : 619, get best_k: -35.98094171773858, best_b: -17.023003817122035, and the loss is : 71632.38384811347\n",
      "When time is : 629, get best_k: -34.98094171773857, best_b: -18.02300381712205, and the loss is : 68808.3057956241\n",
      "When time is : 639, get best_k: -33.98094171773855, best_b: -19.023003817122063, and the loss is : 66041.06785478313\n",
      "When time is : 649, get best_k: -32.98094171773854, best_b: -20.023003817122078, and the loss is : 63330.67002559016\n",
      "When time is : 659, get best_k: -31.980941717738524, best_b: -21.023003817122092, and the loss is : 60677.11230804556\n",
      "When time is : 669, get best_k: -30.98094171773851, best_b: -22.023003817122106, and the loss is : 58080.394702149075\n",
      "When time is : 679, get best_k: -29.980941717738496, best_b: -23.02300381712212, and the loss is : 55540.51720790082\n",
      "When time is : 689, get best_k: -28.98094171773848, best_b: -24.023003817122135, and the loss is : 53057.47982530077\n",
      "When time is : 699, get best_k: -27.980941717738467, best_b: -25.02300381712215, and the loss is : 50631.28255434911\n",
      "When time is : 709, get best_k: -26.980941717738453, best_b: -26.023003817122163, and the loss is : 48261.92539504554\n",
      "When time is : 719, get best_k: -25.98094171773844, best_b: -27.023003817122177, and the loss is : 45949.408347390156\n",
      "When time is : 729, get best_k: -24.980941717738425, best_b: -28.02300381712219, and the loss is : 43693.73141138316\n",
      "When time is : 739, get best_k: -23.98094171773841, best_b: -29.023003817122206, and the loss is : 41494.89458702424\n",
      "When time is : 749, get best_k: -22.980941717738396, best_b: -30.02300381712222, and the loss is : 39352.89787431361\n",
      "When time is : 759, get best_k: -21.980941717738382, best_b: -31.023003817122234, and the loss is : 37267.74127325115\n",
      "When time is : 769, get best_k: -20.980941717738368, best_b: -32.023003817122245, and the loss is : 35239.42478383698\n",
      "When time is : 779, get best_k: -19.980941717738354, best_b: -33.02300381712226, and the loss is : 33267.94840607097\n",
      "When time is : 789, get best_k: -18.98094171773834, best_b: -34.02300381712227, and the loss is : 31353.312139953185\n",
      "When time is : 799, get best_k: -17.980941717738325, best_b: -35.02300381712229, and the loss is : 29495.51598548367\n",
      "When time is : 809, get best_k: -16.98094171773831, best_b: -36.0230038171223, and the loss is : 27694.55994266235\n",
      "When time is : 819, get best_k: -15.980941717738299, best_b: -37.023003817122316, and the loss is : 25950.444011489275\n",
      "When time is : 829, get best_k: -14.980941717738302, best_b: -38.02300381712233, and the loss is : 24263.168191964407\n",
      "When time is : 839, get best_k: -13.980941717738306, best_b: -39.023003817122344, and the loss is : 22632.73248408781\n",
      "When time is : 849, get best_k: -12.98094171773831, best_b: -40.02300381712236, and the loss is : 21059.136887859422\n",
      "When time is : 859, get best_k: -11.980941717738313, best_b: -41.02300381712237, and the loss is : 19542.38140327924\n",
      "When time is : 869, get best_k: -10.980941717738316, best_b: -42.02300381712239, and the loss is : 18082.46603034727\n",
      "When time is : 879, get best_k: -9.98094171773832, best_b: -43.0230038171224, and the loss is : 16679.390769063542\n"
     ]
    },
    {
     "name": "stdout",
     "output_type": "stream",
     "text": [
      "When time is : 889, get best_k: -8.980941717738324, best_b: -44.023003817122415, and the loss is : 15333.155619428033\n",
      "When time is : 899, get best_k: -7.980941717738327, best_b: -45.02300381712243, and the loss is : 14043.760581440734\n",
      "When time is : 909, get best_k: -6.980941717738331, best_b: -46.023003817122444, and the loss is : 12811.205655101669\n",
      "When time is : 919, get best_k: -5.980941717738334, best_b: -47.02300381712246, and the loss is : 11635.490840410823\n",
      "When time is : 929, get best_k: -4.980941717738338, best_b: -48.02300381712247, and the loss is : 10516.616137368195\n",
      "When time is : 939, get best_k: -3.980941717738341, best_b: -49.023003817122486, and the loss is : 9454.581545973775\n",
      "When time is : 949, get best_k: -2.98094171773834, best_b: -50.0230038171225, and the loss is : 8449.387066227577\n",
      "When time is : 959, get best_k: -1.980941717738339, best_b: -51.023003817122515, and the loss is : 7501.032698129617\n",
      "When time is : 969, get best_k: -0.9809417177383383, best_b: -52.02300381712253, and the loss is : 6609.518441679859\n",
      "When time is : 979, get best_k: 0.01905828226166159, best_b: -53.02300381712254, and the loss is : 5774.84429687833\n",
      "When time is : 989, get best_k: 1.0190582822616616, best_b: -54.02300381712256, and the loss is : 4997.010263725021\n",
      "When time is : 999, get best_k: 2.0190582822616623, best_b: -55.02300381712257, and the loss is : 4276.016342219938\n",
      "When time is : 1009, get best_k: 3.019058282261663, best_b: -56.023003817122586, and the loss is : 3611.8625323630663\n",
      "When time is : 1019, get best_k: 4.019058282261664, best_b: -57.0230038171226, and the loss is : 3004.548834154421\n",
      "When time is : 1029, get best_k: 5.0190582822616605, best_b: -58.023003817122614, and the loss is : 2454.075247594001\n",
      "When time is : 1039, get best_k: 6.019058282261657, best_b: -59.02300381712263, and the loss is : 1960.4417726817996\n",
      "When time is : 1049, get best_k: 7.019058282261653, best_b: -60.02300381712264, and the loss is : 1523.6484094178177\n",
      "When time is : 1059, get best_k: 8.01905828226165, best_b: -61.02300381712266, and the loss is : 1143.6951578020569\n",
      "When time is : 1069, get best_k: 9.019058282261646, best_b: -62.02300381712267, and the loss is : 820.5820178345167\n",
      "When time is : 1079, get best_k: 10.019058282261643, best_b: -63.023003817122685, and the loss is : 554.3089895151973\n",
      "When time is : 1089, get best_k: 11.01905828226164, best_b: -64.0230038171227, and the loss is : 344.8760728440987\n",
      "When time is : 1099, get best_k: 12.019058282261636, best_b: -65.02300381712264, and the loss is : 192.28326782121903\n",
      "When time is : 1109, get best_k: 13.019058282261632, best_b: -66.02300381712259, and the loss is : 96.5305744465612\n",
      "When time is : 1119, get best_k: 14.019058282261629, best_b: -67.02300381712253, and the loss is : 57.61799272012551\n"
     ]
    }
   ],
   "source": [
    "trying_times = 2000\n",
    "\n",
    "min_loss = float('inf')\n",
    "\n",
    "best_k = random.random() * 200 - 100\n",
    "best_b = random.random() * 200 - 100\n",
    "\n",
    "direction = [\n",
    "    (+1, +1),\n",
    "    (+1, -1),\n",
    "    (-1, +1),\n",
    "    (-1, -1)\n",
    "]\n",
    "\n",
    "next_direction = random.choice(direction)\n",
    "\n",
    "scalar = 0.1    # 此处可以做优化\n",
    "\n",
    "update_time = 0\n",
    "\n",
    "for i in range(trying_times):\n",
    "    k_direction, b_direction = next_direction\n",
    "    \n",
    "    current_k, current_b = best_k + k_direction * scalar, best_b + b_direction * scalar\n",
    "    \n",
    "    price_by_k_and_b = [price(r, current_k, current_b) for r in X_rm]\n",
    "    \n",
    "    current_loss = loss(y, price_by_k_and_b)\n",
    "    \n",
    "    if current_loss < min_loss:\n",
    "        min_loss = current_loss\n",
    "        best_k, best_b = current_k, current_b\n",
    "        \n",
    "        next_direction = next_direction\n",
    "        update_time += 1\n",
    "        \n",
    "        if update_time % 10 ==0:\n",
    "            print(\"When time is : {}, get best_k: {}, best_b: {}, and the loss is : {}\".format(i, best_k, best_b, min_loss))\n",
    "            \n",
    "    else:\n",
    "        next_direction = random.choice(direction)"
   ]
  },
  {
   "cell_type": "markdown",
   "metadata": {},
   "source": [
    "2nd -> 监督它学习 -> 监督学习"
   ]
  },
  {
   "cell_type": "markdown",
   "metadata": {},
   "source": [
    "### 导数\n",
    "确定曲线变化的方向，从而起到监督的作用"
   ]
  },
  {
   "cell_type": "code",
   "execution_count": 94,
   "metadata": {},
   "outputs": [],
   "source": [
    "def partial_k(x, y, y_hat):\n",
    "    n = len(y)\n",
    "    gradient = 0\n",
    "    \n",
    "    for x_i, y_i, y_hat_i in zip(list(x), list(y), list(y_hat)):\n",
    "        gradient += (y_i - y_hat_i) * x_i\n",
    "        \n",
    "    return -2 / n * gradient"
   ]
  },
  {
   "cell_type": "code",
   "execution_count": 95,
   "metadata": {},
   "outputs": [],
   "source": [
    "def partial_b(y, y_hat):\n",
    "    return -2 / len(y) * sum((y_i - y_hat_i) for y_i, y_hat_i in zip(list(y), list(y_hat)))"
   ]
  },
  {
   "cell_type": "code",
   "execution_count": 96,
   "metadata": {},
   "outputs": [
    {
     "ename": "ModuleNotFoundError",
     "evalue": "No module named 'icecream'",
     "output_type": "error",
     "traceback": [
      "\u001b[0;31m---------------------------------------------------------------------------\u001b[0m",
      "\u001b[0;31mModuleNotFoundError\u001b[0m                       Traceback (most recent call last)",
      "\u001b[0;32m<ipython-input-96-96a1a261b45c>\u001b[0m in \u001b[0;36m<module>\u001b[0;34m\u001b[0m\n\u001b[0;32m----> 1\u001b[0;31m \u001b[0;32mimport\u001b[0m \u001b[0micecream\u001b[0m       \u001b[0;31m# python 打印调试库的小库\u001b[0m\u001b[0;34m\u001b[0m\u001b[0;34m\u001b[0m\u001b[0m\n\u001b[0m",
      "\u001b[0;31mModuleNotFoundError\u001b[0m: No module named 'icecream'"
     ]
    }
   ],
   "source": [
    "import icecream       # python 打印调试库的小库"
   ]
  },
  {
   "cell_type": "code",
   "execution_count": 108,
   "metadata": {},
   "outputs": [
    {
     "name": "stdout",
     "output_type": "stream",
     "text": [
      "When time is : 0, get best_k: 28.113449598687367, best_b: -17.305454891396877, and the loss is : 18948.090596008333\n",
      "When time is : 500, get best_k: 7.146451839633154, best_b: -22.23045491258408, and the loss is : 45.507284262662516\n",
      "When time is : 1000, get best_k: 7.368031293540299, best_b: -23.63994796740783, and the loss is : 45.09968914412491\n",
      "When time is : 1500, get best_k: 7.5645053987895725, best_b: -24.889742936744707, and the loss is : 44.7792241192931\n",
      "When time is : 2000, get best_k: 7.738718636311504, best_b: -25.997933899470087, and the loss is : 44.52726371184537\n",
      "When time is : 2500, get best_k: 7.893193202256791, best_b: -26.980564842942115, and the loss is : 44.329163944313635\n",
      "When time is : 3000, get best_k: 8.030165523438656, best_b: -27.851861942039722, and the loss is : 44.1734112278704\n",
      "When time is : 3500, get best_k: 8.151618635510143, best_b: -28.624439520569318, and the loss is : 44.05095319078279\n",
      "When time is : 4000, get best_k: 8.25931089263605, best_b: -29.30948267687598, and the loss is : 43.954672553181155\n",
      "When time is : 4500, get best_k: 8.354801424307606, best_b: -29.916909217645824, and the loss is : 43.87897346966279\n",
      "When time is : 5000, get best_k: 8.439472707854552, best_b: -30.455513244318997, and the loss is : 43.81945629790058\n",
      "When time is : 5500, get best_k: 8.514550583451106, best_b: -30.933092470904732, and the loss is : 43.772661890756716\n",
      "When time is : 6000, get best_k: 8.581122001386044, best_b: -31.356561116460586, and the loss is : 43.735870550121554\n",
      "When time is : 6500, get best_k: 8.640150758535269, best_b: -31.73205000665154, and the loss is : 43.70694395764291\n",
      "When time is : 7000, get best_k: 8.692491451863866, best_b: -32.0649953336232, and the loss is : 43.684200895335735\n",
      "When time is : 7500, get best_k: 8.738901850971418, best_b: -32.36021735922267, and the loss is : 43.66631953293582\n",
      "When time is : 8000, get best_k: 8.780053868805789, best_b: -32.621990201003555, and the loss is : 43.65226060292195\n",
      "When time is : 8500, get best_k: 8.816543289375428, best_b: -32.85410371135187, and the loss is : 43.64120699812861\n",
      "When time is : 9000, get best_k: 8.848898393294444, best_b: -33.05991834559618, and the loss is : 43.63251628135245\n",
      "When time is : 9500, get best_k: 8.87758760603798, best_b: -33.24241381346263, and the loss is : 43.625683346803335\n",
      "When time is : 10000, get best_k: 8.903026279636538, best_b: -33.40423221823278, and the loss is : 43.62031106327893\n",
      "When time is : 10500, get best_k: 8.925582705992301, best_b: -33.547716308158435, and the loss is : 43.61608719283804\n",
      "When time is : 11000, get best_k: 8.945583448875839, best_b: -33.67494339392188, and the loss is : 43.6127662434837\n",
      "When time is : 11500, get best_k: 8.963318071798081, best_b: -33.787755423187434, and the loss is : 43.610155201130915\n",
      "When time is : 12000, get best_k: 8.979043330206023, best_b: -33.88778564765307, and the loss is : 43.6081023115982\n",
      "When time is : 12500, get best_k: 8.992986888695034, best_b: -33.97648226867654, and the loss is : 43.606488260631544\n",
      "When time is : 13000, get best_k: 9.005350617054377, best_b: -34.05512940380994, and the loss is : 43.6052192393416\n",
      "When time is : 13500, get best_k: 9.016313512864953, best_b: -34.12486567778883, and the loss is : 43.60422149201659\n",
      "When time is : 14000, get best_k: 9.026034292961395, best_b: -34.18670070712845, and the loss is : 43.60343702942921\n",
      "When time is : 14500, get best_k: 9.034653691276972, best_b: -34.24152971698628, and the loss is : 43.602820258493864\n",
      "When time is : 15000, get best_k: 9.04229649633846, best_b: -34.29014650190737, and the loss is : 43.60233533238913\n",
      "When time is : 15500, get best_k: 9.049073357909197, best_b: -34.3332549180941, and the loss is : 43.601954067135644\n",
      "When time is : 16000, get best_k: 9.055082388936349, best_b: -34.37147907358164, and the loss is : 43.601654303538425\n",
      "When time is : 16500, get best_k: 9.06041058599459, best_b: -34.405372363847945, and the loss is : 43.60141861929144\n",
      "When time is : 17000, get best_k: 9.065135088790992, best_b: -34.43542548367292, and the loss is : 43.601233316389965\n",
      "When time is : 17500, get best_k: 9.06932429696579, best_b: -34.46207353123992, and the loss is : 43.60108762500107\n",
      "When time is : 18000, get best_k: 9.073038860357526, best_b: -34.48570230732919, and the loss is : 43.60097307751897\n",
      "When time is : 18500, get best_k: 9.076332557069529, best_b: -34.506653900802334, and the loss is : 43.600883016426415\n",
      "When time is : 19000, get best_k: 9.07925307204979, best_b: -34.52523164124081, and the loss is : 43.6008122073589\n",
      "When time is : 19500, get best_k: 9.081842687456355, best_b: -34.54170449044165, and the loss is : 43.60075653488254\n"
     ]
    }
   ],
   "source": [
    "####\n",
    "# 近些年来，人工智能研究的热点，都可以在这段代码中体现\n",
    "####\n",
    "\n",
    "trying_times = 20000       # 设定尝试次数\n",
    "\n",
    "X, y = data['data'], data['target']      # 获得x 和 y 的集合\n",
    "\n",
    "min_loss = float('inf')     # 初始化最小的 loss 为正无穷(float)\n",
    "\n",
    "\n",
    "#### \n",
    "#初始化问题，对于复杂的模型，如何更好的初始化值\n",
    "current_k = random.random() * 200 - 100     # 随机生成一个 -100 到 100 之间的 k\n",
    "current_b = random.random() * 200 - 100     # 随机生成一个 -100 到 100 之间的 b\n",
    "####\n",
    "\n",
    "learning_rate = 1e-02       # 初始化“学习速率”，从而防止当导数过大时，会使得 current k 和 b，直接“飞过”最低点，甚至后面的 loss 比前面的还大\n",
    "#update_time = 0       # 初始化更新次数\n",
    "\n",
    "for i in range(trying_times):    # 在尝试次数内循环\n",
    "    \n",
    "    ####\n",
    "    # price 函数，即模型函数如何定义的问题\n",
    "    # 接着，在定义了一个很完美的函数，可以拟合所有已有点，但是对于未知点，却有可能使模型函数产生较大的偏差\n",
    "    price_by_k_and_b = [price(r, current_k, current_b) for r in X_rm]   # 计算 y_hat，即拟合函数的“y”值\n",
    "    ####\n",
    "    \n",
    "    ####\n",
    "    # loss 函数，究竟是用平方，还是绝对值更好，这也是一个问题\n",
    "    # regularization问题，即我们的模型中的 k 啊，b 啊，这些系数的值，我们在满足相同的 loss 的情况下，可能有多种系数值的组合，那么，我们又改如何规定，选择哪组值\n",
    "    current_loss = loss(y, price_by_k_and_b)     # 计算当前 loss，即拟合函数的“y”值与实际样本数据的“y”值的差距\n",
    "    ####\n",
    "    \n",
    "    if current_loss < min_loss:\n",
    "        min_loss = current_loss\n",
    "        if i % 500 == 0:\n",
    "            print(\"When time is : {}, get best_k: {}, best_b: {}, and the loss is : {}\".format(i, current_k, current_b, min_loss))\n",
    "    \n",
    "    ####\n",
    "    # 如何高效的求导\n",
    "    k_gradient = partial_k(X_rm, y, price_by_k_and_b)    # 计算 k 在 loss 内的导数\n",
    "    b_gradient = partial_b(y, price_by_k_and_b)    # 计算 b 在 loss 内的导数\n",
    "    ####\n",
    "    \n",
    "    # 纠正当前的 k，-1*k_gradient 的-1 原因是，根据二次函数的曲线，导数为正，则需要把 k 往负的方向移动，导数为负，则需要往正的方向移动，这样才能逐渐往最优的 k 和 b 点移动         \n",
    "    ####\n",
    "    # learning_rate 学习速率，优化问题\n",
    "    current_k = current_k + (-1 * k_gradient) * learning_rate\n",
    "    current_b = current_b + (-1 * b_gradient) * learning_rate\n",
    "    ####\n",
    "    \n",
    "    "
   ]
  },
  {
   "cell_type": "code",
   "execution_count": 109,
   "metadata": {},
   "outputs": [
    {
     "data": {
      "text/plain": [
       "<matplotlib.collections.PathCollection at 0x1a18a23ef0>"
      ]
     },
     "execution_count": 109,
     "metadata": {},
     "output_type": "execute_result"
    },
    {
     "data": {
      "image/png": "[encoded data removed]",
      "text/plain": [
       "<Figure size 432x288 with 1 Axes>"
      ]
     },
     "metadata": {
      "needs_background": "light"
     },
     "output_type": "display_data"
    }
   ],
   "source": [
    "X_rm = X[:, 5]\n",
    "k = 9.081842687456355\n",
    "b = -34.54170449044165\n",
    "price_by_random_k_and_b = [price(r, k, b) for r in X_rm]\n",
    "\n",
    "draw_rm_and_price()\n",
    "plt.scatter(X_rm, price_by_random_k_and_b)"
   ]
  },
  {
   "cell_type": "code",
   "execution_count": null,
   "metadata": {},
   "outputs": [],
   "source": []
  }
 ],
 "metadata": {
  "kernelspec": {
   "display_name": "Python 3",
   "language": "python",
   "name": "python3"
  },
  "language_info": {
   "codemirror_mode": {
    "name": "ipython",
    "version": 3
   },
   "file_extension": ".py",
   "mimetype": "text/x-python",
   "name": "python",
   "nbconvert_exporter": "python",
   "pygments_lexer": "ipython3",
   "version": "3.7.3"
  }
 },
 "nbformat": 4,
 "nbformat_minor": 2
}
